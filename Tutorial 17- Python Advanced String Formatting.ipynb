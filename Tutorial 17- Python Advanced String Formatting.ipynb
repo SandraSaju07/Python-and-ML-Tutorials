{
 "cells": [
  {
   "cell_type": "code",
   "execution_count": 1,
   "id": "72620399",
   "metadata": {},
   "outputs": [],
   "source": [
    "def greeting(name):\n",
    "    return \"Hello {}\".format(name)"
   ]
  },
  {
   "cell_type": "code",
   "execution_count": 2,
   "id": "68ad517e",
   "metadata": {},
   "outputs": [
    {
     "data": {
      "text/plain": [
       "'Hello Sandra'"
      ]
     },
     "execution_count": 2,
     "metadata": {},
     "output_type": "execute_result"
    }
   ],
   "source": [
    "greeting(\"Sandra\")"
   ]
  },
  {
   "cell_type": "code",
   "execution_count": 3,
   "id": "9ed99692",
   "metadata": {},
   "outputs": [],
   "source": [
    "def welcome_email(firstname,lastname):\n",
    "    return \"Welcome {} {}\".format(firstname,lastname)"
   ]
  },
  {
   "cell_type": "code",
   "execution_count": 4,
   "id": "26d237e3",
   "metadata": {},
   "outputs": [
    {
     "data": {
      "text/plain": [
       "'Welcome Sandra Saju'"
      ]
     },
     "execution_count": 4,
     "metadata": {},
     "output_type": "execute_result"
    }
   ],
   "source": [
    "welcome_email(\"Sandra\",\"Saju\")"
   ]
  },
  {
   "cell_type": "code",
   "execution_count": 9,
   "id": "90e4af18",
   "metadata": {},
   "outputs": [],
   "source": [
    "def welcome_email(firstname,lastname):\n",
    "    return \"Welcome {fname} {lname}\".format(lname=lastname,fname=firstname)"
   ]
  },
  {
   "cell_type": "code",
   "execution_count": 10,
   "id": "7745df50",
   "metadata": {},
   "outputs": [
    {
     "data": {
      "text/plain": [
       "'Welcome Sandra Saju'"
      ]
     },
     "execution_count": 10,
     "metadata": {},
     "output_type": "execute_result"
    }
   ],
   "source": [
    "welcome_email(\"Sandra\",\"Saju\")"
   ]
  },
  {
   "cell_type": "code",
   "execution_count": null,
   "id": "e3a0d7dc",
   "metadata": {},
   "outputs": [],
   "source": []
  }
 ],
 "metadata": {
  "kernelspec": {
   "display_name": "Python 3 (ipykernel)",
   "language": "python",
   "name": "python3"
  },
  "language_info": {
   "codemirror_mode": {
    "name": "ipython",
    "version": 3
   },
   "file_extension": ".py",
   "mimetype": "text/x-python",
   "name": "python",
   "nbconvert_exporter": "python",
   "pygments_lexer": "ipython3",
   "version": "3.10.16"
  }
 },
 "nbformat": 4,
 "nbformat_minor": 5
}
