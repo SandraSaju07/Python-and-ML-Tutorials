{
 "cells": [
  {
   "cell_type": "code",
   "execution_count": 1,
   "id": "7875267d-9fe2-4086-904c-c24f0fa6bbd0",
   "metadata": {},
   "outputs": [],
   "source": [
    "from dataclasses import dataclass"
   ]
  },
  {
   "cell_type": "code",
   "execution_count": 2,
   "id": "5134e60d-0e10-44b3-a717-c360a406c75b",
   "metadata": {},
   "outputs": [],
   "source": [
    "@dataclass\n",
    "class Person:\n",
    "    name: str\n",
    "    age: int\n",
    "    profession: str"
   ]
  },
  {
   "cell_type": "code",
   "execution_count": 3,
   "id": "6262c93f-aa2b-49e4-9efb-0812170e9525",
   "metadata": {},
   "outputs": [
    {
     "data": {
      "text/plain": [
       "Person(name='Alice', age=23, profession='SDE')"
      ]
     },
     "execution_count": 3,
     "metadata": {},
     "output_type": "execute_result"
    }
   ],
   "source": [
    "p1 = Person(\"Alice\", 23, \"SDE\")\n",
    "\n",
    "p1"
   ]
  },
  {
   "cell_type": "code",
   "execution_count": 4,
   "id": "4d8817bc-89a9-4a84-bf8c-c920eea45fa2",
   "metadata": {},
   "outputs": [
    {
     "data": {
      "text/plain": [
       "Person(name='Bob', age=34, profession='SE')"
      ]
     },
     "execution_count": 4,
     "metadata": {},
     "output_type": "execute_result"
    }
   ],
   "source": [
    "p2 = Person(\"Bob\", 34, \"SE\")\n",
    "\n",
    "p2"
   ]
  },
  {
   "cell_type": "code",
   "execution_count": 5,
   "id": "f1c5b0c4-8a28-4870-b820-38a218caba1a",
   "metadata": {},
   "outputs": [
    {
     "data": {
      "text/plain": [
       "True"
      ]
     },
     "execution_count": 5,
     "metadata": {},
     "output_type": "execute_result"
    }
   ],
   "source": [
    "p1 == p1"
   ]
  },
  {
   "cell_type": "code",
   "execution_count": 6,
   "id": "0c201195-eb77-45e9-8d0c-5a3873d59291",
   "metadata": {},
   "outputs": [
    {
     "data": {
      "text/plain": [
       "False"
      ]
     },
     "execution_count": 6,
     "metadata": {},
     "output_type": "execute_result"
    }
   ],
   "source": [
    "p1 == p2"
   ]
  },
  {
   "cell_type": "code",
   "execution_count": 7,
   "id": "1afda2c2-718e-45bf-ad04-0d26fe4bd4ce",
   "metadata": {},
   "outputs": [],
   "source": [
    "@dataclass\n",
    "class Person:\n",
    "    name: str\n",
    "    age: int\n",
    "    profession: str = \"SDE\""
   ]
  },
  {
   "cell_type": "code",
   "execution_count": 8,
   "id": "123fcc99-030e-4282-a390-cd9355a14859",
   "metadata": {},
   "outputs": [
    {
     "data": {
      "text/plain": [
       "Person(name='Alice', age=12, profession='SDE')"
      ]
     },
     "execution_count": 8,
     "metadata": {},
     "output_type": "execute_result"
    }
   ],
   "source": [
    "p1 = Person(\"Alice\", 12)\n",
    "\n",
    "p1"
   ]
  },
  {
   "cell_type": "code",
   "execution_count": 9,
   "id": "9e648d12-4cce-48d2-b2f4-121b4ce56b13",
   "metadata": {},
   "outputs": [
    {
     "data": {
      "text/plain": [
       "'SE'"
      ]
     },
     "execution_count": 9,
     "metadata": {},
     "output_type": "execute_result"
    }
   ],
   "source": [
    " p1.profession = \"SE\"\n",
    "\n",
    "p1.profession"
   ]
  },
  {
   "cell_type": "markdown",
   "id": "d36e4c84-9a73-4b17-8d0c-e277c79e9e9c",
   "metadata": {},
   "source": [
    "### Immutable Class"
   ]
  },
  {
   "cell_type": "code",
   "execution_count": 10,
   "id": "0347e9a5-04da-4fa1-8841-279172dfbc7f",
   "metadata": {},
   "outputs": [],
   "source": [
    "@dataclass(frozen = True)\n",
    "class Point:\n",
    "    x: float\n",
    "    y: float"
   ]
  },
  {
   "cell_type": "code",
   "execution_count": 12,
   "id": "0492b237-7117-4d03-b6b6-c66e12a9a47d",
   "metadata": {},
   "outputs": [],
   "source": [
    "point1 = Point(23, 12)"
   ]
  },
  {
   "cell_type": "code",
   "execution_count": 13,
   "id": "267a36ef-c15b-4905-8cd8-981c5cb584d5",
   "metadata": {},
   "outputs": [
    {
     "ename": "FrozenInstanceError",
     "evalue": "cannot assign to field 'x'",
     "output_type": "error",
     "traceback": [
      "\u001b[0;31m---------------------------------------------------------------------------\u001b[0m",
      "\u001b[0;31mFrozenInstanceError\u001b[0m                       Traceback (most recent call last)",
      "Cell \u001b[0;32mIn[13], line 1\u001b[0m\n\u001b[0;32m----> 1\u001b[0m point1\u001b[38;5;241m.\u001b[39mx \u001b[38;5;241m=\u001b[39m \u001b[38;5;241m1\u001b[39m\n",
      "File \u001b[0;32m<string>:4\u001b[0m, in \u001b[0;36m__setattr__\u001b[0;34m(self, name, value)\u001b[0m\n",
      "\u001b[0;31mFrozenInstanceError\u001b[0m: cannot assign to field 'x'"
     ]
    }
   ],
   "source": [
    "point1.x = 1"
   ]
  },
  {
   "cell_type": "markdown",
   "id": "c54f7245-db41-461a-a2fc-3849e3ab01d7",
   "metadata": {},
   "source": [
    "### Inheritance"
   ]
  },
  {
   "cell_type": "code",
   "execution_count": 14,
   "id": "4d075017-36f8-4dac-a620-9ecbb94971d0",
   "metadata": {},
   "outputs": [],
   "source": [
    "@dataclass\n",
    "class Person:\n",
    "    name: str\n",
    "    age: int\n",
    "\n",
    "@dataclass\n",
    "class Employee(Person):\n",
    "    emp_id: int\n",
    "    dept: str"
   ]
  },
  {
   "cell_type": "code",
   "execution_count": 15,
   "id": "ef300bc3-db0f-4de0-a879-9d8874cf37f2",
   "metadata": {},
   "outputs": [
    {
     "data": {
      "text/plain": [
       "Person(name='Alice', age=23)"
      ]
     },
     "execution_count": 15,
     "metadata": {},
     "output_type": "execute_result"
    }
   ],
   "source": [
    "p1 = Person(\"Alice\", 23)\n",
    "\n",
    "p1"
   ]
  },
  {
   "cell_type": "code",
   "execution_count": 16,
   "id": "9f22144a-6068-4f72-b258-065e35479666",
   "metadata": {},
   "outputs": [
    {
     "data": {
      "text/plain": [
       "Employee(name='Bob', age=34, emp_id='123', dept='IT')"
      ]
     },
     "execution_count": 16,
     "metadata": {},
     "output_type": "execute_result"
    }
   ],
   "source": [
    "e1 = Employee(\"Bob\", 34, \"123\", \"IT\")\n",
    "\n",
    "e1"
   ]
  },
  {
   "cell_type": "markdown",
   "id": "12f3ca08-b153-4d4c-9e4c-5153957a7b2b",
   "metadata": {},
   "source": [
    "### Nested Data Classes"
   ]
  },
  {
   "cell_type": "code",
   "execution_count": 21,
   "id": "338c15cd-b437-4a80-b9f0-e5867977168f",
   "metadata": {},
   "outputs": [],
   "source": [
    "@dataclass\n",
    "class Address:\n",
    "    street: str\n",
    "    city: str\n",
    "    zip: int\n",
    "\n",
    "@dataclass\n",
    "class Person:\n",
    "    name: str\n",
    "    age: int\n",
    "    address: Address"
   ]
  },
  {
   "cell_type": "code",
   "execution_count": 22,
   "id": "0ccf18ab-ad6a-4e8f-8cbf-b77fc0f3ab17",
   "metadata": {},
   "outputs": [
    {
     "data": {
      "text/plain": [
       "Address(street='Cross Street', city='Indore', zip=234567)"
      ]
     },
     "execution_count": 22,
     "metadata": {},
     "output_type": "execute_result"
    }
   ],
   "source": [
    "a1 = Address(\"Cross Street\", \"Indore\", 234567)\n",
    "\n",
    "a1"
   ]
  },
  {
   "cell_type": "code",
   "execution_count": 23,
   "id": "f7f4861f-5369-466f-8b4e-b829f37ebebc",
   "metadata": {},
   "outputs": [
    {
     "data": {
      "text/plain": [
       "Person(name='Alice', age=23, address=Address(street='Cross Street', city='Indore', zip=234567))"
      ]
     },
     "execution_count": 23,
     "metadata": {},
     "output_type": "execute_result"
    }
   ],
   "source": [
    "p1 = Person(\"Alice\", 23, a1)\n",
    "\n",
    "p1"
   ]
  },
  {
   "cell_type": "code",
   "execution_count": 26,
   "id": "ef4acb03-1342-4072-9ba4-ca54c1c6ee91",
   "metadata": {},
   "outputs": [
    {
     "data": {
      "text/plain": [
       "'Cross Street'"
      ]
     },
     "execution_count": 26,
     "metadata": {},
     "output_type": "execute_result"
    }
   ],
   "source": [
    "p1.address.street"
   ]
  },
  {
   "cell_type": "code",
   "execution_count": 27,
   "id": "0056a8aa-471d-4058-8fd0-2bc1e87b7907",
   "metadata": {},
   "outputs": [
    {
     "data": {
      "text/plain": [
       "'Indore'"
      ]
     },
     "execution_count": 27,
     "metadata": {},
     "output_type": "execute_result"
    }
   ],
   "source": [
    "p1.address.city"
   ]
  },
  {
   "cell_type": "code",
   "execution_count": 28,
   "id": "c11f5208-90bf-442c-ab25-37f7acfd182d",
   "metadata": {},
   "outputs": [
    {
     "data": {
      "text/plain": [
       "'Alice'"
      ]
     },
     "execution_count": 28,
     "metadata": {},
     "output_type": "execute_result"
    }
   ],
   "source": [
    "p1.name"
   ]
  },
  {
   "cell_type": "code",
   "execution_count": null,
   "id": "0f07fd96-54db-4fac-92ed-76222ce9aed0",
   "metadata": {},
   "outputs": [],
   "source": []
  }
 ],
 "metadata": {
  "kernelspec": {
   "display_name": "Python 3 (ipykernel)",
   "language": "python",
   "name": "python3"
  },
  "language_info": {
   "codemirror_mode": {
    "name": "ipython",
    "version": 3
   },
   "file_extension": ".py",
   "mimetype": "text/x-python",
   "name": "python",
   "nbconvert_exporter": "python",
   "pygments_lexer": "ipython3",
   "version": "3.10.16"
  }
 },
 "nbformat": 4,
 "nbformat_minor": 5
}
