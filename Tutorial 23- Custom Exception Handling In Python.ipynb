{
 "cells": [
  {
   "cell_type": "code",
   "execution_count": 18,
   "id": "a7532bc4",
   "metadata": {},
   "outputs": [],
   "source": [
    "class Error(Exception):\n",
    "    pass\n",
    "\n",
    "class dobException(Error):\n",
    "    pass\n",
    "class customException(Error):\n",
    "    pass"
   ]
  },
  {
   "cell_type": "code",
   "execution_count": 19,
   "id": "d1b278a3",
   "metadata": {},
   "outputs": [
    {
     "name": "stdout",
     "output_type": "stream",
     "text": [
      "Enter your year of birth 1234\n",
      "The age is not valid. You cannot apply for the exams.\n"
     ]
    }
   ],
   "source": [
    "year = int(input(\"Enter your year of birth \"))\n",
    "age = 2024-year\n",
    "\n",
    "try:\n",
    "    if age<=30 and age>20:\n",
    "        print(\"The age is valid. You can apply for the exams.\")\n",
    "    else:\n",
    "        raise dobException\n",
    "except dobException:\n",
    "    print(\"The age is not valid. You cannot apply for the exams.\")"
   ]
  },
  {
   "cell_type": "code",
   "execution_count": null,
   "id": "bd6b08e1",
   "metadata": {},
   "outputs": [],
   "source": []
  }
 ],
 "metadata": {
  "kernelspec": {
   "display_name": "Python 3 (ipykernel)",
   "language": "python",
   "name": "python3"
  },
  "language_info": {
   "codemirror_mode": {
    "name": "ipython",
    "version": 3
   },
   "file_extension": ".py",
   "mimetype": "text/x-python",
   "name": "python",
   "nbconvert_exporter": "python",
   "pygments_lexer": "ipython3",
   "version": "3.9.13"
  }
 },
 "nbformat": 4,
 "nbformat_minor": 5
}
