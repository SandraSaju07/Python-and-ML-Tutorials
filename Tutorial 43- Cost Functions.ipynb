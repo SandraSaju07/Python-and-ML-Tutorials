{
 "cells": [
  {
   "cell_type": "code",
   "execution_count": 1,
   "id": "30f61b89-6935-4e48-9923-47e5198df5fd",
   "metadata": {},
   "outputs": [],
   "source": [
    "import numpy as np"
   ]
  },
  {
   "cell_type": "code",
   "execution_count": 3,
   "id": "983b9ca9-9e77-4e80-b47b-2dc318f3156b",
   "metadata": {},
   "outputs": [],
   "source": [
    "y_test = np.array([0.30, 0.7, 1, 0, 0.5])\n",
    "\n",
    "y_pred = np.array([1, 1, 0, 0, 1])"
   ]
  },
  {
   "cell_type": "code",
   "execution_count": 4,
   "id": "4f87615e-cd34-4efd-bc60-3e2c38d7978d",
   "metadata": {},
   "outputs": [],
   "source": [
    "def mean_absolute_error(y_test, y_pred):\n",
    "    total_error = 0\n",
    "    for yt, yp in zip(y_test, y_pred):\n",
    "        total_error += abs(yt - yp)\n",
    "    print(\"Total Error: \", total_error)\n",
    "    print(\"Mean Absolute Error: \", total_error / len(y_test))"
   ]
  },
  {
   "cell_type": "code",
   "execution_count": 5,
   "id": "e4293643-8aa4-4128-899c-dad40753e57d",
   "metadata": {},
   "outputs": [
    {
     "name": "stdout",
     "output_type": "stream",
     "text": [
      "Total Error:  2.5\n",
      "Mean Absolute Error:  0.5\n"
     ]
    }
   ],
   "source": [
    "mean_absolute_error(y_test, y_pred)"
   ]
  },
  {
   "cell_type": "code",
   "execution_count": 9,
   "id": "2c54b2a6-8f41-41fe-9de2-2da194577fa6",
   "metadata": {},
   "outputs": [
    {
     "data": {
      "text/plain": [
       "0.5"
      ]
     },
     "execution_count": 9,
     "metadata": {},
     "output_type": "execute_result"
    }
   ],
   "source": [
    "# Using numpy - MAE\n",
    "np.mean(np.abs(y_test - y_pred))"
   ]
  },
  {
   "cell_type": "code",
   "execution_count": 13,
   "id": "36558877-1887-4800-be8b-a45761d5a9eb",
   "metadata": {},
   "outputs": [
    {
     "data": {
      "text/plain": [
       "0.366"
      ]
     },
     "execution_count": 13,
     "metadata": {},
     "output_type": "execute_result"
    }
   ],
   "source": [
    "# Using numpy - MSE\n",
    "np.mean(np.square(y_test - y_pred))"
   ]
  },
  {
   "cell_type": "code",
   "execution_count": 14,
   "id": "ae02d8ce-6e62-4ad4-a5fa-6dbe5f0de69d",
   "metadata": {},
   "outputs": [
    {
     "name": "stderr",
     "output_type": "stream",
     "text": [
      "C:\\Users\\Ciya\\AppData\\Local\\Temp\\ipykernel_21152\\2933082444.py:1: RuntimeWarning: divide by zero encountered in log\n",
      "  np.log(0)\n"
     ]
    },
    {
     "data": {
      "text/plain": [
       "-inf"
      ]
     },
     "execution_count": 14,
     "metadata": {},
     "output_type": "execute_result"
    }
   ],
   "source": [
    "np.log(0)"
   ]
  },
  {
   "cell_type": "code",
   "execution_count": 16,
   "id": "58b93ff3-bf49-489c-8664-58e7efd12b66",
   "metadata": {},
   "outputs": [
    {
     "data": {
      "text/plain": [
       "-124.33959502167846"
      ]
     },
     "execution_count": 16,
     "metadata": {},
     "output_type": "execute_result"
    }
   ],
   "source": [
    "np.log(0.000000000000000000000000000000000000000000000000000001)"
   ]
  },
  {
   "cell_type": "code",
   "execution_count": 24,
   "id": "64cc2607-1e8b-4562-887f-c4116244017c",
   "metadata": {},
   "outputs": [
    {
     "name": "stderr",
     "output_type": "stream",
     "text": [
      "C:\\Users\\Ciya\\AppData\\Local\\Temp\\ipykernel_21152\\4184140517.py:1: RuntimeWarning: divide by zero encountered in log\n",
      "  np.log(y_pred)\n"
     ]
    },
    {
     "data": {
      "text/plain": [
       "array([  0.,   0., -inf, -inf,   0.])"
      ]
     },
     "execution_count": 24,
     "metadata": {},
     "output_type": "execute_result"
    }
   ],
   "source": [
    "np.log(y_pred)"
   ]
  },
  {
   "cell_type": "code",
   "execution_count": 20,
   "id": "3c76552a-bf88-44fe-8c5b-071b3481e4e4",
   "metadata": {},
   "outputs": [],
   "source": [
    "epsilon = 1e-15 # this is equal to 0.0000000000000001"
   ]
  },
  {
   "cell_type": "code",
   "execution_count": 18,
   "id": "fb954d98-84b2-4545-8476-f89187a95a42",
   "metadata": {},
   "outputs": [
    {
     "data": {
      "text/plain": [
       "array([1, 1, 0, 0, 1])"
      ]
     },
     "execution_count": 18,
     "metadata": {},
     "output_type": "execute_result"
    }
   ],
   "source": [
    "y_pred"
   ]
  },
  {
   "cell_type": "code",
   "execution_count": 19,
   "id": "34cafd46-ae1b-4880-a909-3663a6b99abf",
   "metadata": {},
   "outputs": [
    {
     "data": {
      "text/plain": [
       "[1, 1, 1e-15, 1e-15, 1]"
      ]
     },
     "execution_count": 19,
     "metadata": {},
     "output_type": "execute_result"
    }
   ],
   "source": [
    "y_pred_new = [max(y, epsilon) for y in y_pred]\n",
    "\n",
    "y_pred_new"
   ]
  },
  {
   "cell_type": "code",
   "execution_count": 21,
   "id": "4a3427f3-f105-471f-a513-1e49c3acb076",
   "metadata": {},
   "outputs": [
    {
     "data": {
      "text/plain": [
       "0.999999999999999"
      ]
     },
     "execution_count": 21,
     "metadata": {},
     "output_type": "execute_result"
    }
   ],
   "source": [
    "1 - epsilon"
   ]
  },
  {
   "cell_type": "code",
   "execution_count": 23,
   "id": "4c7badff-4c28-45a3-87bc-55050f00d06a",
   "metadata": {},
   "outputs": [
    {
     "data": {
      "text/plain": [
       "[0.999999999999999, 0.999999999999999, 1e-15, 1e-15, 0.999999999999999]"
      ]
     },
     "execution_count": 23,
     "metadata": {},
     "output_type": "execute_result"
    }
   ],
   "source": [
    "y_pred_new = [min(y, 1-epsilon) for y in y_pred_new]\n",
    "\n",
    "y_pred_new"
   ]
  },
  {
   "cell_type": "code",
   "execution_count": 25,
   "id": "692b28f3-823d-4af9-9b27-4d3b0caac238",
   "metadata": {},
   "outputs": [
    {
     "data": {
      "text/plain": [
       "array([1.e+00, 1.e+00, 1.e-15, 1.e-15, 1.e+00])"
      ]
     },
     "execution_count": 25,
     "metadata": {},
     "output_type": "execute_result"
    }
   ],
   "source": [
    "y_pred_new = np.array(y_pred_new)\n",
    "\n",
    "y_pred_new"
   ]
  },
  {
   "cell_type": "code",
   "execution_count": 26,
   "id": "518f01ca-ef93-4d40-92ee-793b62151ae1",
   "metadata": {},
   "outputs": [
    {
     "data": {
      "text/plain": [
       "array([-9.99200722e-16, -9.99200722e-16, -3.45387764e+01, -3.45387764e+01,\n",
       "       -9.99200722e-16])"
      ]
     },
     "execution_count": 26,
     "metadata": {},
     "output_type": "execute_result"
    }
   ],
   "source": [
    "np.log(y_pred_new)"
   ]
  },
  {
   "cell_type": "code",
   "execution_count": 27,
   "id": "79287b40-71d1-462d-a0a8-7acdf11cceb2",
   "metadata": {},
   "outputs": [
    {
     "data": {
      "text/plain": [
       "17.2696280766844"
      ]
     },
     "execution_count": 27,
     "metadata": {},
     "output_type": "execute_result"
    }
   ],
   "source": [
    "# Using numpy - Log Loss Error or Binary Crossentropy\n",
    "- np.mean(y_test * np.log(y_pred_new) + (1 - y_test) * np.log(1 - y_pred_new))"
   ]
  },
  {
   "cell_type": "code",
   "execution_count": 30,
   "id": "5316cadd-bea1-4e6d-a2ac-e8d60ace20c8",
   "metadata": {},
   "outputs": [
    {
     "data": {
      "text/plain": [
       "17.2696280766844"
      ]
     },
     "execution_count": 30,
     "metadata": {},
     "output_type": "execute_result"
    }
   ],
   "source": [
    "# As a complete function - Log Loss or Binray Crossentropy\n",
    "def log_loss(y_test, y_pred):\n",
    "    epsilon = 1e-15\n",
    "    y_pred_new = [max(y, epsilon) for y in y_pred]\n",
    "    y_pred_new = [min(y, 1-epsilon) for y in y_pred_new]\n",
    "    y_pred_new = np.array(y_pred_new)\n",
    "    return -np.mean(y_test * np.log(y_pred_new) + (1-y_test) * np.log(1-y_pred_new))\n",
    "\n",
    "\n",
    "log_loss(y_test, y_pred)"
   ]
  },
  {
   "cell_type": "code",
   "execution_count": null,
   "id": "df745876-a7d9-4056-8e61-b7d7173e19ab",
   "metadata": {},
   "outputs": [],
   "source": []
  }
 ],
 "metadata": {
  "kernelspec": {
   "display_name": "Python 3 (ipykernel)",
   "language": "python",
   "name": "python3"
  },
  "language_info": {
   "codemirror_mode": {
    "name": "ipython",
    "version": 3
   },
   "file_extension": ".py",
   "mimetype": "text/x-python",
   "name": "python",
   "nbconvert_exporter": "python",
   "pygments_lexer": "ipython3",
   "version": "3.10.16"
  }
 },
 "nbformat": 4,
 "nbformat_minor": 5
}
