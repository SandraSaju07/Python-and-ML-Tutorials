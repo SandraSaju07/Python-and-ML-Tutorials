{
 "cells": [
  {
   "cell_type": "code",
   "execution_count": 25,
   "id": "ac285182-8fad-41a1-b3b9-38469b987c42",
   "metadata": {},
   "outputs": [
    {
     "name": "stdout",
     "output_type": "stream",
     "text": [
      "Hi\n"
     ]
    }
   ],
   "source": [
    "import os\n",
    "\n",
    "class Greeter:\n",
    "    def greet(self):\n",
    "        print(\"Hi\")\n",
    "\n",
    "def hello_world():\n",
    "    message = \"Hello, World!!\"\n",
    "    greeter = Greeter()\n",
    "    greet_func = getattr(greeter, \"greet\")\n",
    "    greet_func()\n",
    "\n",
    "if __name__ == \"__main__\":\n",
    "    hello_world()"
   ]
  },
  {
   "cell_type": "code",
   "execution_count": 2,
   "id": "1c5bec2b-db8c-4015-b713-14bb40716aed",
   "metadata": {},
   "outputs": [
    {
     "data": {
      "text/plain": [
       "'C:\\\\Users\\\\Ciya\\\\Python and ML Tutorials'"
      ]
     },
     "execution_count": 2,
     "metadata": {},
     "output_type": "execute_result"
    }
   ],
   "source": [
    "pwd"
   ]
  },
  {
   "cell_type": "code",
   "execution_count": 3,
   "id": "d3932f4c-fe65-4ab9-b06d-1d10b779aad2",
   "metadata": {},
   "outputs": [
    {
     "name": "stdout",
     "output_type": "stream",
     "text": [
      "# conda environments:\n",
      "#\n",
      "                         C:\\Users\\Ciya\\Personal Programming Hacks\\LLM Projects\\blog_generation\\venv\n",
      "                         C:\\Users\\Ciya\\Personal Programming Hacks\\LLM Projects\\chatbot\\venv\n",
      "base                     C:\\Users\\Ciya\\anaconda3\n",
      "Crash                    C:\\Users\\Ciya\\anaconda3\\envs\\Crash\n",
      "Naler                    C:\\Users\\Ciya\\anaconda3\\envs\\Naler\n",
      "Python-3-11              C:\\Users\\Ciya\\anaconda3\\envs\\Python-3-11\n",
      "ai_env_gpu               C:\\Users\\Ciya\\anaconda3\\envs\\ai_env_gpu\n",
      "dl_env                *  C:\\Users\\Ciya\\anaconda3\\envs\\dl_env\n",
      "hello-world              C:\\Users\\Ciya\\anaconda3\\envs\\hello-world\n",
      "llm_test                 C:\\Users\\Ciya\\anaconda3\\envs\\llm_test\n",
      "money_auth_docker        C:\\Users\\Ciya\\anaconda3\\envs\\money_auth_docker\n",
      "nlp_course               C:\\Users\\Ciya\\anaconda3\\envs\\nlp_course\n",
      "python-3-5               C:\\Users\\Ciya\\anaconda3\\envs\\python-3-5\n",
      "python-3-6               C:\\Users\\Ciya\\anaconda3\\envs\\python-3-6\n",
      "pytthon-3-7              C:\\Users\\Ciya\\anaconda3\\envs\\pytthon-3-7\n",
      "rstudio                  C:\\Users\\Ciya\\anaconda3\\envs\\rstudio\n",
      "test                     C:\\Users\\Ciya\\anaconda3\\envs\\test\n",
      "venv                     C:\\Users\\Ciya\\anaconda3\\envs\\venv\n",
      "                         C:\\Users\\Ciya\\mlproject\\venv\n",
      "                         c:\\Users\\Ciya\\Personal Programming Hacks\\LLM Projects\\chatbot\\venv\n",
      "llm_test                 c:\\Users\\Ciya\\anaconda3\\envs\\llm_test\n",
      "\n",
      "\n",
      "Note: you may need to restart the kernel to use updated packages.\n"
     ]
    }
   ],
   "source": [
    "conda info --envs"
   ]
  },
  {
   "cell_type": "code",
   "execution_count": 4,
   "id": "9cccef7c-1197-4f36-a63c-b184a307168f",
   "metadata": {},
   "outputs": [
    {
     "name": "stdout",
     "output_type": "stream",
     "text": [
      " Volume in drive C is Windows\n",
      " Volume Serial Number is 602E-AE5A\n",
      "\n",
      " Directory of C:\\Users\\Ciya\\Python and ML Tutorials\n",
      "\n",
      "29-12-2024  04:02 PM    <DIR>          .\n",
      "28-12-2024  01:55 AM    <DIR>          ..\n",
      "29-12-2024  03:56 PM    <DIR>          .ipynb_checkpoints\n",
      "21-10-2024  12:23 PM    <DIR>          data\n",
      "29-11-2024  07:58 PM    <DIR>          model\n",
      "15-08-2024  03:47 PM            10,680 Tutorial 1.ipynb\n",
      "02-09-2024  02:08 PM           317,617 Tutorial 10.ipynb\n",
      "05-09-2024  01:24 AM           261,337 Tutorial 11-Exploratory Data Analysis(EDA) of Titanic dataset.ipynb\n",
      "05-09-2024  09:43 AM             5,146 Tutorial 12- Python Functions, Positional and Keywords Arguments.ipynb\n",
      "05-09-2024  11:02 PM             2,581 Tutorial 13- Python Lambda Functions.ipynb\n",
      "05-09-2024  11:18 PM             2,260 Tutorial 15- Map Functions using Python.ipynb\n",
      "06-09-2024  08:49 AM             2,235 Tutorial 16- Filter Functions In Python.ipynb\n",
      "06-09-2024  09:01 AM             2,191 Tutorial 17- Python List Comprehension.ipynb\n",
      "06-09-2024  09:28 AM             2,378 Tutorial 18- Python Advanced String Formatting.ipynb\n",
      "07-09-2024  08:12 PM             5,249 Tutorial 19- Python Iterables vs Iterators.ipynb\n",
      "15-08-2024  05:17 PM            11,303 Tutorial 2.ipynb\n",
      "07-09-2024  08:26 PM            67,564 Tutorial 20- Lazy Import for all Python Data Science Libraries.ipynb\n",
      "08-09-2024  09:16 AM             5,620 Tutorial 21- Python OOPS Tutorial- Classes, Variables, Methods and Objects.ipynb\n",
      "08-09-2024  12:42 PM             4,767 Tutorial 22- Exception Handling Detailed Explanation In Python.ipynb\n",
      "08-09-2024  12:58 PM             1,606 Tutorial 23- Custom Exception Handling In Python.ipynb\n",
      "11-09-2024  12:44 AM             6,187 Tutorial 24- Inheritance In Python.ipynb\n",
      "11-09-2024  08:46 AM             7,023 Tutorial 25- Magic Methods In Classes.ipynb\n",
      "12-09-2024  10:36 AM             2,258 Tutorial 26- Assert Statement In Python.ipynb\n",
      "16-09-2024  12:47 AM             7,344 Tutorial 27- Iterators Vs Generators.ipynb\n",
      "06-10-2024  11:03 PM             8,042 Tutorial 28- Python Decorators.ipynb\n",
      "10-10-2024  11:15 AM             6,912 Tutorial 29- IS vs == - Boolean Operations.ipynb\n",
      "15-08-2024  06:01 PM            16,083 Tutorial 3.ipynb\n",
      "19-10-2024  12:06 PM            10,478 Tutorial 30- Shallow Copy Vs Deep Copy.ipynb\n",
      "21-10-2024  12:42 PM            61,842 Tutorial 31- How to speed up Pandas using Modin Pandas.ipynb\n",
      "21-10-2024  01:30 PM             4,536 Tutorial 32- Class Methods and Variables.ipynb\n",
      "21-10-2024  02:39 PM             4,142 Tutorial 33- Static Methods.ipynb\n",
      "21-10-2024  03:32 PM             4,174 Tutorial 34- Multiple Inheritance.ipynb\n",
      "23-10-2024  09:45 PM             8,971 Tutorial 35- eval() Function.ipynb\n",
      "29-11-2024  08:48 PM           888,222 Tutorial 36- Diabetes Prediction using PyCaret.ipynb\n",
      "30-11-2024  01:31 AM            68,117 Tutorial 37- Iris Classification using PyCaret.ipynb\n",
      "16-12-2024  12:30 AM            11,138 Tutorial 38- Activation Functions.ipynb\n",
      "28-12-2024  01:54 AM             9,106 Tutorial 39- Data Augmentation.ipynb\n",
      "16-08-2024  12:30 AM            47,154 Tutorial 4.ipynb\n",
      "29-12-2024  09:50 AM             6,771 Tutorial 40- Asynchronous Execution - Multi-Threading.ipynb\n",
      "29-12-2024  04:02 PM             1,841 Tutorial 41- Vulture - For finding dead and unused code.ipynb\n",
      "18-08-2024  10:24 AM            30,057 Tutorial 5.ipynb\n",
      "19-08-2024  08:48 AM            73,071 Tutorial 6.ipynb\n",
      "01-09-2024  01:18 PM           153,829 Tutorial 7.ipynb\n",
      "02-09-2024  10:44 AM           474,799 Tutorial 8.ipynb\n",
      "02-09-2024  02:08 PM           603,047 Tutorial 9.ipynb\n",
      "              40 File(s)      3,217,678 bytes\n",
      "               5 Dir(s)  30,208,421,888 bytes free\n"
     ]
    }
   ],
   "source": [
    "ls"
   ]
  },
  {
   "cell_type": "code",
   "execution_count": 18,
   "id": "ec684b14-c80f-4ea3-b4c5-0327fea12975",
   "metadata": {},
   "outputs": [
    {
     "name": "stdout",
     "output_type": "stream",
     "text": [
      "C:\\Users\\Ciya\\Python and ML Tutorials\\scripts\n"
     ]
    }
   ],
   "source": [
    "cd scripts"
   ]
  },
  {
   "cell_type": "code",
   "execution_count": 19,
   "id": "4f3d212b-6c06-4e80-ace1-adc4e9e11bc4",
   "metadata": {},
   "outputs": [
    {
     "data": {
      "text/plain": [
       "'C:\\\\Users\\\\Ciya\\\\Python and ML Tutorials\\\\scripts'"
      ]
     },
     "execution_count": 19,
     "metadata": {},
     "output_type": "execute_result"
    }
   ],
   "source": [
    "pwd"
   ]
  },
  {
   "cell_type": "code",
   "execution_count": 20,
   "id": "b10465e1-d2f9-4f8f-9d4e-59d5620b7a2d",
   "metadata": {},
   "outputs": [
    {
     "name": "stdout",
     "output_type": "stream",
     "text": [
      " Volume in drive C is Windows\n",
      " Volume Serial Number is 602E-AE5A\n",
      "\n",
      " Directory of C:\\Users\\Ciya\\Python and ML Tutorials\\scripts\n",
      "\n",
      "29-12-2024  04:07 PM    <DIR>          .\n",
      "29-12-2024  04:09 PM    <DIR>          ..\n",
      "29-12-2024  04:07 PM    <DIR>          .ipynb_checkpoints\n",
      "29-12-2024  04:07 PM               247 vulture_test.py\n",
      "               1 File(s)            247 bytes\n",
      "               3 Dir(s)  30,188,834,816 bytes free\n"
     ]
    }
   ],
   "source": [
    "ls"
   ]
  },
  {
   "cell_type": "code",
   "execution_count": 21,
   "id": "5fe7ad83-088b-4856-96cb-c0e3dc500349",
   "metadata": {},
   "outputs": [
    {
     "name": "stdout",
     "output_type": "stream",
     "text": [
      "vulture_test.py:1: unused import 'os' (90% confidence)\n",
      "vulture_test.py:8: unused variable 'message' (60% confidence)\n"
     ]
    }
   ],
   "source": [
    "!vulture \"vulture_test.py\""
   ]
  },
  {
   "cell_type": "code",
   "execution_count": null,
   "id": "8e433fc8-ce43-4f1d-ab27-e0f0448fc7a3",
   "metadata": {},
   "outputs": [],
   "source": []
  }
 ],
 "metadata": {
  "kernelspec": {
   "display_name": "Python 3 (ipykernel)",
   "language": "python",
   "name": "python3"
  },
  "language_info": {
   "codemirror_mode": {
    "name": "ipython",
    "version": 3
   },
   "file_extension": ".py",
   "mimetype": "text/x-python",
   "name": "python",
   "nbconvert_exporter": "python",
   "pygments_lexer": "ipython3",
   "version": "3.9.20"
  }
 },
 "nbformat": 4,
 "nbformat_minor": 5
}
