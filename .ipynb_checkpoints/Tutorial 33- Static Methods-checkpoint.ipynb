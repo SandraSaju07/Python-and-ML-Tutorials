{
 "cells": [
  {
   "cell_type": "code",
   "execution_count": 3,
   "id": "965c022d-fdff-45e8-9341-9462f2cf34c4",
   "metadata": {},
   "outputs": [
    {
     "data": {
      "text/plain": [
       "datetime.datetime(2024, 10, 21, 14, 6, 42, 46937)"
      ]
     },
     "execution_count": 3,
     "metadata": {},
     "output_type": "execute_result"
    }
   ],
   "source": [
    "import datetime\n",
    "now = datetime.datetime.now()\n",
    "\n",
    "now"
   ]
  },
  {
   "cell_type": "code",
   "execution_count": 16,
   "id": "795bd192-67e1-4d7a-b57d-e0f5558764c4",
   "metadata": {},
   "outputs": [],
   "source": [
    "class Car:\n",
    "    base_price = 100000\n",
    "    def __init__(self,windows,doors,power):\n",
    "        self.windows = windows\n",
    "        self.doors = doors\n",
    "        self.power = power\n",
    "    def what_base_price(self):\n",
    "        print('The base price is: {}'.format(self.base_price))\n",
    "    @classmethod\n",
    "    def revise_base_price(cls,inflation):\n",
    "        cls.base_price += cls.base_price*inflation/100\n",
    "    @staticmethod\n",
    "    def check_year():\n",
    "        if now.year == '2021':\n",
    "            return True\n",
    "        else:\n",
    "            return False"
   ]
  },
  {
   "cell_type": "code",
   "execution_count": 17,
   "id": "9afe51b3-50a9-4479-a08b-93e29183eb2d",
   "metadata": {},
   "outputs": [
    {
     "name": "stdout",
     "output_type": "stream",
     "text": [
      "The base price is: 100000\n"
     ]
    }
   ],
   "source": [
    "c1 = Car(2,3,4000)\n",
    "\n",
    "c1.what_base_price()"
   ]
  },
  {
   "cell_type": "code",
   "execution_count": 19,
   "id": "d8f1e45a-d13e-472c-b11f-3c135275f9f6",
   "metadata": {},
   "outputs": [
    {
     "data": {
      "text/plain": [
       "False"
      ]
     },
     "execution_count": 19,
     "metadata": {},
     "output_type": "execute_result"
    }
   ],
   "source": [
    "Car.check_year()"
   ]
  },
  {
   "cell_type": "code",
   "execution_count": 18,
   "id": "1b16b5df-6977-42fa-9f05-9455e6f0a1f3",
   "metadata": {},
   "outputs": [
    {
     "data": {
      "text/plain": [
       "False"
      ]
     },
     "execution_count": 18,
     "metadata": {},
     "output_type": "execute_result"
    }
   ],
   "source": [
    "c1.check_year()"
   ]
  },
  {
   "cell_type": "code",
   "execution_count": 20,
   "id": "b17d43f4-ab38-4bcf-a6d2-4ff605578b91",
   "metadata": {},
   "outputs": [],
   "source": [
    "c2 = Car(2,3,4000)"
   ]
  },
  {
   "cell_type": "code",
   "execution_count": 25,
   "id": "353e900b-0e3f-4af7-9cbe-c1ebe60eaffd",
   "metadata": {},
   "outputs": [],
   "source": [
    "if Car.check_year():\n",
    "    pass\n",
    "else:\n",
    "    Car.revise_base_price(10)"
   ]
  },
  {
   "cell_type": "code",
   "execution_count": 26,
   "id": "9767edc2-a6a7-4600-9c03-d1f2af596224",
   "metadata": {},
   "outputs": [
    {
     "data": {
      "text/plain": [
       "110000.0"
      ]
     },
     "execution_count": 26,
     "metadata": {},
     "output_type": "execute_result"
    }
   ],
   "source": [
    "Car.base_price"
   ]
  },
  {
   "cell_type": "code",
   "execution_count": 27,
   "id": "986a419b-6045-446c-8f38-d99e2d623504",
   "metadata": {},
   "outputs": [
    {
     "data": {
      "text/plain": [
       "110000.0"
      ]
     },
     "execution_count": 27,
     "metadata": {},
     "output_type": "execute_result"
    }
   ],
   "source": [
    "c2.base_price"
   ]
  },
  {
   "cell_type": "code",
   "execution_count": null,
   "id": "b674c671-d528-4c6e-857e-5a618fb5865f",
   "metadata": {},
   "outputs": [],
   "source": []
  }
 ],
 "metadata": {
  "kernelspec": {
   "display_name": "Python 3 (ipykernel)",
   "language": "python",
   "name": "python3"
  },
  "language_info": {
   "codemirror_mode": {
    "name": "ipython",
    "version": 3
   },
   "file_extension": ".py",
   "mimetype": "text/x-python",
   "name": "python",
   "nbconvert_exporter": "python",
   "pygments_lexer": "ipython3",
   "version": "3.9.20"
  }
 },
 "nbformat": 4,
 "nbformat_minor": 5
}
