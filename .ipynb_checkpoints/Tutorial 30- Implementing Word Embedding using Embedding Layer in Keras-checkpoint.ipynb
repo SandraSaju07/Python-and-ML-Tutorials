{
 "cells": [
  {
   "cell_type": "code",
   "execution_count": 1,
   "id": "1b8dd565-b5ea-4b42-ba03-76e32ee79713",
   "metadata": {},
   "outputs": [],
   "source": [
    "from tensorflow.keras.preprocessing.text import one_hot"
   ]
  },
  {
   "cell_type": "code",
   "execution_count": 2,
   "id": "d2bc625a-50a4-4781-b307-6dccef53d651",
   "metadata": {},
   "outputs": [],
   "source": [
    "sent = ['the glass of milk',\n",
    "       'the glass of juice',\n",
    "       'the cup of tea',\n",
    "       'I am a good boy',\n",
    "       'I am a good developer',\n",
    "       'understand the meaning of words',\n",
    "       'your videos are good']"
   ]
  },
  {
   "cell_type": "code",
   "execution_count": 3,
   "id": "41e52b6f-e422-4606-bc87-1a1bfae2a3f2",
   "metadata": {},
   "outputs": [
    {
     "data": {
      "text/plain": [
       "['the glass of milk',\n",
       " 'the glass of juice',\n",
       " 'the cup of tea',\n",
       " 'I am a good boy',\n",
       " 'I am a good developer',\n",
       " 'understand the meaning of words',\n",
       " 'your videos are good']"
      ]
     },
     "execution_count": 3,
     "metadata": {},
     "output_type": "execute_result"
    }
   ],
   "source": [
    "sent"
   ]
  },
  {
   "cell_type": "code",
   "execution_count": 22,
   "id": "a715b9c7-d060-40b7-9dee-9f9b92f4f474",
   "metadata": {},
   "outputs": [],
   "source": [
    "# Vocabulary size\n",
    "vocab_size = 10000"
   ]
  },
  {
   "cell_type": "markdown",
   "id": "e6cf63b3-37f4-45b9-bd74-b25b90aee403",
   "metadata": {},
   "source": [
    "## One Hot Representation"
   ]
  },
  {
   "cell_type": "code",
   "execution_count": 5,
   "id": "8c76dc35-5e56-4a3b-84dc-86312537516b",
   "metadata": {},
   "outputs": [],
   "source": [
    "onehot_repr = [one_hot(word,vocab_size) for word in sent]"
   ]
  },
  {
   "cell_type": "code",
   "execution_count": 6,
   "id": "1ba1388f-598f-4371-8c5f-e49db3f34a67",
   "metadata": {},
   "outputs": [
    {
     "data": {
      "text/plain": [
       "[[9043, 3247, 1361, 4869],\n",
       " [9043, 3247, 1361, 8676],\n",
       " [9043, 8217, 1361, 2242],\n",
       " [2536, 1942, 3900, 1571, 3701],\n",
       " [2536, 1942, 3900, 1571, 9821],\n",
       " [5259, 9043, 4548, 1361, 3809],\n",
       " [2901, 9245, 7944, 1571]]"
      ]
     },
     "execution_count": 6,
     "metadata": {},
     "output_type": "execute_result"
    }
   ],
   "source": [
    "onehot_repr"
   ]
  },
  {
   "cell_type": "markdown",
   "id": "f014ecaf-973d-4e40-961b-caf94ca26b7c",
   "metadata": {},
   "source": [
    "## Word Embedding Representation"
   ]
  },
  {
   "cell_type": "code",
   "execution_count": 7,
   "id": "9cad0194-b9d3-41a1-abef-54967dd3f794",
   "metadata": {},
   "outputs": [],
   "source": [
    "from tensorflow.keras.layers import Embedding\n",
    "from tensorflow.keras.preprocessing.sequence import pad_sequences\n",
    "from tensorflow.keras.models import Sequential"
   ]
  },
  {
   "cell_type": "code",
   "execution_count": 8,
   "id": "fdb24db0-0891-4419-b01d-d6f1af851752",
   "metadata": {},
   "outputs": [],
   "source": [
    "import numpy as np"
   ]
  },
  {
   "cell_type": "code",
   "execution_count": 9,
   "id": "62068604-3439-4615-bc4a-12d5e2a64dfe",
   "metadata": {},
   "outputs": [
    {
     "name": "stdout",
     "output_type": "stream",
     "text": [
      "[[   0    0    0    0 9043 3247 1361 4869]\n",
      " [   0    0    0    0 9043 3247 1361 8676]\n",
      " [   0    0    0    0 9043 8217 1361 2242]\n",
      " [   0    0    0 2536 1942 3900 1571 3701]\n",
      " [   0    0    0 2536 1942 3900 1571 9821]\n",
      " [   0    0    0 5259 9043 4548 1361 3809]\n",
      " [   0    0    0    0 2901 9245 7944 1571]]\n"
     ]
    }
   ],
   "source": [
    "sent_length = 8\n",
    "embedded_docs = pad_sequences(onehot_repr,padding = 'pre',maxlen = sent_length)\n",
    "print(embedded_docs)"
   ]
  },
  {
   "cell_type": "code",
   "execution_count": 10,
   "id": "8131b2fb-4445-42c4-a247-4c00dd54543c",
   "metadata": {},
   "outputs": [],
   "source": [
    "dim = 10"
   ]
  },
  {
   "cell_type": "code",
   "execution_count": 23,
   "id": "295d5504-d62f-437a-830b-41369d65b387",
   "metadata": {},
   "outputs": [],
   "source": [
    "model = Sequential()\n",
    "model.add(Embedding(input_dim = vocab_size,\n",
    "                    output_dim = 10,\n",
    "                    input_length = sent_length))\n",
    "model.compile(optimizer = 'adam',\n",
    "              loss = 'mse')"
   ]
  },
  {
   "cell_type": "code",
   "execution_count": 24,
   "id": "78f5fa0b-a9ae-4d02-9428-455990fc531d",
   "metadata": {
    "scrolled": true
   },
   "outputs": [
    {
     "data": {
      "text/html": [
       "<pre style=\"white-space:pre;overflow-x:auto;line-height:normal;font-family:Menlo,'DejaVu Sans Mono',consolas,'Courier New',monospace\"><span style=\"font-weight: bold\">Model: \"sequential_4\"</span>\n",
       "</pre>\n"
      ],
      "text/plain": [
       "\u001b[1mModel: \"sequential_4\"\u001b[0m\n"
      ]
     },
     "metadata": {},
     "output_type": "display_data"
    },
    {
     "data": {
      "text/html": [
       "<pre style=\"white-space:pre;overflow-x:auto;line-height:normal;font-family:Menlo,'DejaVu Sans Mono',consolas,'Courier New',monospace\">┏━━━━━━━━━━━━━━━━━━━━━━━━━━━━━━━━━┳━━━━━━━━━━━━━━━━━━━━━━━━┳━━━━━━━━━━━━━━━┓\n",
       "┃<span style=\"font-weight: bold\"> Layer (type)                    </span>┃<span style=\"font-weight: bold\"> Output Shape           </span>┃<span style=\"font-weight: bold\">       Param # </span>┃\n",
       "┡━━━━━━━━━━━━━━━━━━━━━━━━━━━━━━━━━╇━━━━━━━━━━━━━━━━━━━━━━━━╇━━━━━━━━━━━━━━━┩\n",
       "│ embedding_4 (<span style=\"color: #0087ff; text-decoration-color: #0087ff\">Embedding</span>)         │ ?                      │   <span style=\"color: #00af00; text-decoration-color: #00af00\">0</span> (unbuilt) │\n",
       "└─────────────────────────────────┴────────────────────────┴───────────────┘\n",
       "</pre>\n"
      ],
      "text/plain": [
       "┏━━━━━━━━━━━━━━━━━━━━━━━━━━━━━━━━━┳━━━━━━━━━━━━━━━━━━━━━━━━┳━━━━━━━━━━━━━━━┓\n",
       "┃\u001b[1m \u001b[0m\u001b[1mLayer (type)                   \u001b[0m\u001b[1m \u001b[0m┃\u001b[1m \u001b[0m\u001b[1mOutput Shape          \u001b[0m\u001b[1m \u001b[0m┃\u001b[1m \u001b[0m\u001b[1m      Param #\u001b[0m\u001b[1m \u001b[0m┃\n",
       "┡━━━━━━━━━━━━━━━━━━━━━━━━━━━━━━━━━╇━━━━━━━━━━━━━━━━━━━━━━━━╇━━━━━━━━━━━━━━━┩\n",
       "│ embedding_4 (\u001b[38;5;33mEmbedding\u001b[0m)         │ ?                      │   \u001b[38;5;34m0\u001b[0m (unbuilt) │\n",
       "└─────────────────────────────────┴────────────────────────┴───────────────┘\n"
      ]
     },
     "metadata": {},
     "output_type": "display_data"
    },
    {
     "data": {
      "text/html": [
       "<pre style=\"white-space:pre;overflow-x:auto;line-height:normal;font-family:Menlo,'DejaVu Sans Mono',consolas,'Courier New',monospace\"><span style=\"font-weight: bold\"> Total params: </span><span style=\"color: #00af00; text-decoration-color: #00af00\">0</span> (0.00 B)\n",
       "</pre>\n"
      ],
      "text/plain": [
       "\u001b[1m Total params: \u001b[0m\u001b[38;5;34m0\u001b[0m (0.00 B)\n"
      ]
     },
     "metadata": {},
     "output_type": "display_data"
    },
    {
     "data": {
      "text/html": [
       "<pre style=\"white-space:pre;overflow-x:auto;line-height:normal;font-family:Menlo,'DejaVu Sans Mono',consolas,'Courier New',monospace\"><span style=\"font-weight: bold\"> Trainable params: </span><span style=\"color: #00af00; text-decoration-color: #00af00\">0</span> (0.00 B)\n",
       "</pre>\n"
      ],
      "text/plain": [
       "\u001b[1m Trainable params: \u001b[0m\u001b[38;5;34m0\u001b[0m (0.00 B)\n"
      ]
     },
     "metadata": {},
     "output_type": "display_data"
    },
    {
     "data": {
      "text/html": [
       "<pre style=\"white-space:pre;overflow-x:auto;line-height:normal;font-family:Menlo,'DejaVu Sans Mono',consolas,'Courier New',monospace\"><span style=\"font-weight: bold\"> Non-trainable params: </span><span style=\"color: #00af00; text-decoration-color: #00af00\">0</span> (0.00 B)\n",
       "</pre>\n"
      ],
      "text/plain": [
       "\u001b[1m Non-trainable params: \u001b[0m\u001b[38;5;34m0\u001b[0m (0.00 B)\n"
      ]
     },
     "metadata": {},
     "output_type": "display_data"
    }
   ],
   "source": [
    "model.summary()"
   ]
  },
  {
   "cell_type": "code",
   "execution_count": 25,
   "id": "22ab4f5d-8ea1-4cd2-842a-b07e99faa16d",
   "metadata": {},
   "outputs": [
    {
     "data": {
      "text/plain": [
       "(7, 8)"
      ]
     },
     "execution_count": 25,
     "metadata": {},
     "output_type": "execute_result"
    }
   ],
   "source": [
    "embedded_docs.shape"
   ]
  },
  {
   "cell_type": "code",
   "execution_count": 26,
   "id": "183e2248-31a6-4665-b467-9196294cdbb1",
   "metadata": {},
   "outputs": [
    {
     "name": "stdout",
     "output_type": "stream",
     "text": [
      "\u001b[1m1/1\u001b[0m \u001b[32m━━━━━━━━━━━━━━━━━━━━\u001b[0m\u001b[37m\u001b[0m \u001b[1m0s\u001b[0m 60ms/step\n",
      "[[[-3.07893995e-02 -3.84576544e-02 -2.23843213e-02  8.09700415e-03\n",
      "   -3.12822461e-02  3.04048993e-02  3.90767492e-02 -1.26156099e-02\n",
      "   -1.11268274e-02  2.81767361e-02]\n",
      "  [-3.07893995e-02 -3.84576544e-02 -2.23843213e-02  8.09700415e-03\n",
      "   -3.12822461e-02  3.04048993e-02  3.90767492e-02 -1.26156099e-02\n",
      "   -1.11268274e-02  2.81767361e-02]\n",
      "  [-3.07893995e-02 -3.84576544e-02 -2.23843213e-02  8.09700415e-03\n",
      "   -3.12822461e-02  3.04048993e-02  3.90767492e-02 -1.26156099e-02\n",
      "   -1.11268274e-02  2.81767361e-02]\n",
      "  [-3.07893995e-02 -3.84576544e-02 -2.23843213e-02  8.09700415e-03\n",
      "   -3.12822461e-02  3.04048993e-02  3.90767492e-02 -1.26156099e-02\n",
      "   -1.11268274e-02  2.81767361e-02]\n",
      "  [ 4.19239886e-02  2.16293074e-02  2.93857194e-02  4.51132394e-02\n",
      "    2.76427753e-02 -2.50376817e-02 -3.45783457e-02 -3.74794602e-02\n",
      "    4.52583097e-02  4.08891477e-02]\n",
      "  [-2.13067289e-02  1.01820454e-02  2.98327841e-02 -3.59347090e-02\n",
      "   -4.18006666e-02 -1.42558105e-02 -2.69791838e-02 -3.79385352e-02\n",
      "   -5.04963100e-05  1.54363401e-02]\n",
      "  [ 2.50693299e-02 -1.49255767e-02 -2.01224089e-02  1.62036307e-02\n",
      "    1.85275786e-02 -4.16040421e-05  5.72621822e-04 -2.05071922e-02\n",
      "    1.76932663e-03  4.21646945e-02]\n",
      "  [ 3.44443806e-02  1.27342008e-02 -2.94435266e-02 -3.51024754e-02\n",
      "   -4.82172482e-02 -3.85789052e-02  1.75080448e-03 -1.64860599e-02\n",
      "    3.38358171e-02  1.06073730e-02]]\n",
      "\n",
      " [[-3.07893995e-02 -3.84576544e-02 -2.23843213e-02  8.09700415e-03\n",
      "   -3.12822461e-02  3.04048993e-02  3.90767492e-02 -1.26156099e-02\n",
      "   -1.11268274e-02  2.81767361e-02]\n",
      "  [-3.07893995e-02 -3.84576544e-02 -2.23843213e-02  8.09700415e-03\n",
      "   -3.12822461e-02  3.04048993e-02  3.90767492e-02 -1.26156099e-02\n",
      "   -1.11268274e-02  2.81767361e-02]\n",
      "  [-3.07893995e-02 -3.84576544e-02 -2.23843213e-02  8.09700415e-03\n",
      "   -3.12822461e-02  3.04048993e-02  3.90767492e-02 -1.26156099e-02\n",
      "   -1.11268274e-02  2.81767361e-02]\n",
      "  [-3.07893995e-02 -3.84576544e-02 -2.23843213e-02  8.09700415e-03\n",
      "   -3.12822461e-02  3.04048993e-02  3.90767492e-02 -1.26156099e-02\n",
      "   -1.11268274e-02  2.81767361e-02]\n",
      "  [ 4.19239886e-02  2.16293074e-02  2.93857194e-02  4.51132394e-02\n",
      "    2.76427753e-02 -2.50376817e-02 -3.45783457e-02 -3.74794602e-02\n",
      "    4.52583097e-02  4.08891477e-02]\n",
      "  [-2.13067289e-02  1.01820454e-02  2.98327841e-02 -3.59347090e-02\n",
      "   -4.18006666e-02 -1.42558105e-02 -2.69791838e-02 -3.79385352e-02\n",
      "   -5.04963100e-05  1.54363401e-02]\n",
      "  [ 2.50693299e-02 -1.49255767e-02 -2.01224089e-02  1.62036307e-02\n",
      "    1.85275786e-02 -4.16040421e-05  5.72621822e-04 -2.05071922e-02\n",
      "    1.76932663e-03  4.21646945e-02]\n",
      "  [-3.46525311e-02 -3.80456448e-03 -1.87199228e-02  1.84547342e-02\n",
      "   -3.40769179e-02  4.36004512e-02  4.20636870e-02  7.68799707e-03\n",
      "    4.13517244e-02  4.86631729e-02]]\n",
      "\n",
      " [[-3.07893995e-02 -3.84576544e-02 -2.23843213e-02  8.09700415e-03\n",
      "   -3.12822461e-02  3.04048993e-02  3.90767492e-02 -1.26156099e-02\n",
      "   -1.11268274e-02  2.81767361e-02]\n",
      "  [-3.07893995e-02 -3.84576544e-02 -2.23843213e-02  8.09700415e-03\n",
      "   -3.12822461e-02  3.04048993e-02  3.90767492e-02 -1.26156099e-02\n",
      "   -1.11268274e-02  2.81767361e-02]\n",
      "  [-3.07893995e-02 -3.84576544e-02 -2.23843213e-02  8.09700415e-03\n",
      "   -3.12822461e-02  3.04048993e-02  3.90767492e-02 -1.26156099e-02\n",
      "   -1.11268274e-02  2.81767361e-02]\n",
      "  [-3.07893995e-02 -3.84576544e-02 -2.23843213e-02  8.09700415e-03\n",
      "   -3.12822461e-02  3.04048993e-02  3.90767492e-02 -1.26156099e-02\n",
      "   -1.11268274e-02  2.81767361e-02]\n",
      "  [ 4.19239886e-02  2.16293074e-02  2.93857194e-02  4.51132394e-02\n",
      "    2.76427753e-02 -2.50376817e-02 -3.45783457e-02 -3.74794602e-02\n",
      "    4.52583097e-02  4.08891477e-02]\n",
      "  [ 2.06264369e-02 -4.81467508e-02  2.04395764e-02  3.25337164e-02\n",
      "   -2.90491581e-02 -7.66837597e-03 -1.87972542e-02 -3.15181389e-02\n",
      "    4.21631001e-02 -1.35412589e-02]\n",
      "  [ 2.50693299e-02 -1.49255767e-02 -2.01224089e-02  1.62036307e-02\n",
      "    1.85275786e-02 -4.16040421e-05  5.72621822e-04 -2.05071922e-02\n",
      "    1.76932663e-03  4.21646945e-02]\n",
      "  [-4.96364497e-02  3.16898897e-03 -2.12848186e-04 -8.84394720e-03\n",
      "    2.03344114e-02 -1.50689483e-02  1.01992488e-02  4.04184572e-02\n",
      "    2.69233920e-02 -2.50221845e-02]]\n",
      "\n",
      " [[-3.07893995e-02 -3.84576544e-02 -2.23843213e-02  8.09700415e-03\n",
      "   -3.12822461e-02  3.04048993e-02  3.90767492e-02 -1.26156099e-02\n",
      "   -1.11268274e-02  2.81767361e-02]\n",
      "  [-3.07893995e-02 -3.84576544e-02 -2.23843213e-02  8.09700415e-03\n",
      "   -3.12822461e-02  3.04048993e-02  3.90767492e-02 -1.26156099e-02\n",
      "   -1.11268274e-02  2.81767361e-02]\n",
      "  [-3.07893995e-02 -3.84576544e-02 -2.23843213e-02  8.09700415e-03\n",
      "   -3.12822461e-02  3.04048993e-02  3.90767492e-02 -1.26156099e-02\n",
      "   -1.11268274e-02  2.81767361e-02]\n",
      "  [-3.74951474e-02 -4.71823812e-02 -3.16617861e-02  4.27031033e-02\n",
      "   -3.14953551e-02 -4.00681980e-02  2.80842818e-02 -1.03992820e-02\n",
      "   -1.60392039e-02 -1.33432262e-02]\n",
      "  [-1.08389929e-03 -2.29526516e-02  3.22829559e-03  3.67090367e-02\n",
      "    9.54113901e-04 -4.21431176e-02 -2.27936748e-02  3.22344564e-02\n",
      "   -3.05432808e-02 -6.70288876e-03]\n",
      "  [-2.06358787e-02  3.69057320e-02  2.45111063e-03  1.61350481e-02\n",
      "   -1.56158693e-02  1.17003545e-02 -3.17585692e-02 -3.29621583e-02\n",
      "   -4.25616018e-02 -4.44968827e-02]\n",
      "  [ 3.70332710e-02 -1.28021725e-02  8.31884146e-03  1.39915608e-02\n",
      "    2.51438878e-02  2.88660415e-02  3.52551229e-02  4.11364324e-02\n",
      "   -2.95831449e-02  3.60880159e-02]\n",
      "  [ 2.53691114e-02  4.88317870e-02  2.15975083e-02  1.32974237e-03\n",
      "    3.96403335e-02 -4.82699983e-02  3.99574377e-02  2.92688645e-02\n",
      "    2.51528956e-02  5.04549593e-03]]\n",
      "\n",
      " [[-3.07893995e-02 -3.84576544e-02 -2.23843213e-02  8.09700415e-03\n",
      "   -3.12822461e-02  3.04048993e-02  3.90767492e-02 -1.26156099e-02\n",
      "   -1.11268274e-02  2.81767361e-02]\n",
      "  [-3.07893995e-02 -3.84576544e-02 -2.23843213e-02  8.09700415e-03\n",
      "   -3.12822461e-02  3.04048993e-02  3.90767492e-02 -1.26156099e-02\n",
      "   -1.11268274e-02  2.81767361e-02]\n",
      "  [-3.07893995e-02 -3.84576544e-02 -2.23843213e-02  8.09700415e-03\n",
      "   -3.12822461e-02  3.04048993e-02  3.90767492e-02 -1.26156099e-02\n",
      "   -1.11268274e-02  2.81767361e-02]\n",
      "  [-3.74951474e-02 -4.71823812e-02 -3.16617861e-02  4.27031033e-02\n",
      "   -3.14953551e-02 -4.00681980e-02  2.80842818e-02 -1.03992820e-02\n",
      "   -1.60392039e-02 -1.33432262e-02]\n",
      "  [-1.08389929e-03 -2.29526516e-02  3.22829559e-03  3.67090367e-02\n",
      "    9.54113901e-04 -4.21431176e-02 -2.27936748e-02  3.22344564e-02\n",
      "   -3.05432808e-02 -6.70288876e-03]\n",
      "  [-2.06358787e-02  3.69057320e-02  2.45111063e-03  1.61350481e-02\n",
      "   -1.56158693e-02  1.17003545e-02 -3.17585692e-02 -3.29621583e-02\n",
      "   -4.25616018e-02 -4.44968827e-02]\n",
      "  [ 3.70332710e-02 -1.28021725e-02  8.31884146e-03  1.39915608e-02\n",
      "    2.51438878e-02  2.88660415e-02  3.52551229e-02  4.11364324e-02\n",
      "   -2.95831449e-02  3.60880159e-02]\n",
      "  [ 3.24673317e-02 -2.75157448e-02 -2.89248228e-02  3.57190706e-02\n",
      "    4.34187688e-02  4.38241027e-02  7.14603812e-03  3.25884558e-02\n",
      "   -1.64062157e-02  4.13602255e-02]]\n",
      "\n",
      " [[-3.07893995e-02 -3.84576544e-02 -2.23843213e-02  8.09700415e-03\n",
      "   -3.12822461e-02  3.04048993e-02  3.90767492e-02 -1.26156099e-02\n",
      "   -1.11268274e-02  2.81767361e-02]\n",
      "  [-3.07893995e-02 -3.84576544e-02 -2.23843213e-02  8.09700415e-03\n",
      "   -3.12822461e-02  3.04048993e-02  3.90767492e-02 -1.26156099e-02\n",
      "   -1.11268274e-02  2.81767361e-02]\n",
      "  [-3.07893995e-02 -3.84576544e-02 -2.23843213e-02  8.09700415e-03\n",
      "   -3.12822461e-02  3.04048993e-02  3.90767492e-02 -1.26156099e-02\n",
      "   -1.11268274e-02  2.81767361e-02]\n",
      "  [-8.10686499e-03 -6.32769987e-03  1.42554753e-02 -3.48381773e-02\n",
      "    2.46737711e-02  1.54446103e-02 -6.44151121e-03  1.32761933e-02\n",
      "   -3.99082676e-02  2.01846696e-02]\n",
      "  [ 4.19239886e-02  2.16293074e-02  2.93857194e-02  4.51132394e-02\n",
      "    2.76427753e-02 -2.50376817e-02 -3.45783457e-02 -3.74794602e-02\n",
      "    4.52583097e-02  4.08891477e-02]\n",
      "  [ 1.15435235e-02  3.06307562e-02 -3.34032923e-02 -4.31075357e-02\n",
      "    1.98406093e-02 -3.41216549e-02  7.21937418e-03 -4.96591590e-02\n",
      "   -3.94316427e-02 -3.71057987e-02]\n",
      "  [ 2.50693299e-02 -1.49255767e-02 -2.01224089e-02  1.62036307e-02\n",
      "    1.85275786e-02 -4.16040421e-05  5.72621822e-04 -2.05071922e-02\n",
      "    1.76932663e-03  4.21646945e-02]\n",
      "  [-9.06542689e-03 -2.54907738e-02  1.50853507e-02  2.41588838e-02\n",
      "   -4.21179309e-02 -2.40527093e-04 -3.61388922e-03  1.02928504e-02\n",
      "    4.66521271e-02 -2.77392510e-02]]\n",
      "\n",
      " [[-3.07893995e-02 -3.84576544e-02 -2.23843213e-02  8.09700415e-03\n",
      "   -3.12822461e-02  3.04048993e-02  3.90767492e-02 -1.26156099e-02\n",
      "   -1.11268274e-02  2.81767361e-02]\n",
      "  [-3.07893995e-02 -3.84576544e-02 -2.23843213e-02  8.09700415e-03\n",
      "   -3.12822461e-02  3.04048993e-02  3.90767492e-02 -1.26156099e-02\n",
      "   -1.11268274e-02  2.81767361e-02]\n",
      "  [-3.07893995e-02 -3.84576544e-02 -2.23843213e-02  8.09700415e-03\n",
      "   -3.12822461e-02  3.04048993e-02  3.90767492e-02 -1.26156099e-02\n",
      "   -1.11268274e-02  2.81767361e-02]\n",
      "  [-3.07893995e-02 -3.84576544e-02 -2.23843213e-02  8.09700415e-03\n",
      "   -3.12822461e-02  3.04048993e-02  3.90767492e-02 -1.26156099e-02\n",
      "   -1.11268274e-02  2.81767361e-02]\n",
      "  [-2.10065842e-02  1.71889998e-02  4.84768488e-02  2.14159228e-02\n",
      "    9.97328758e-03 -2.09078789e-02 -4.65831049e-02  9.25553963e-03\n",
      "   -3.86797078e-02 -2.76343115e-02]\n",
      "  [ 4.53477241e-02 -4.60480340e-02 -8.28391314e-03 -1.53290406e-02\n",
      "   -2.32495666e-02 -4.11939509e-02  5.16804308e-03 -3.18582207e-02\n",
      "   -3.59864943e-02 -4.03820500e-02]\n",
      "  [-4.01645191e-02  1.44780986e-02  2.66574956e-02 -1.59360990e-02\n",
      "    4.98463959e-03 -4.28221337e-02 -9.62853432e-04  2.56793015e-02\n",
      "    2.94969790e-02  4.59107272e-02]\n",
      "  [ 3.70332710e-02 -1.28021725e-02  8.31884146e-03  1.39915608e-02\n",
      "    2.51438878e-02  2.88660415e-02  3.52551229e-02  4.11364324e-02\n",
      "   -2.95831449e-02  3.60880159e-02]]]\n"
     ]
    }
   ],
   "source": [
    "print(model.predict(embedded_docs))"
   ]
  },
  {
   "cell_type": "code",
   "execution_count": 27,
   "id": "b82365d7-9804-4315-9593-e2cd5703ec16",
   "metadata": {},
   "outputs": [
    {
     "data": {
      "text/plain": [
       "array([   0,    0,    0,    0, 9043, 3247, 1361, 4869])"
      ]
     },
     "execution_count": 27,
     "metadata": {},
     "output_type": "execute_result"
    }
   ],
   "source": [
    "embedded_docs[0]"
   ]
  },
  {
   "cell_type": "code",
   "execution_count": 28,
   "id": "c1b06f39-2b4d-493f-9596-605307d3b3b0",
   "metadata": {},
   "outputs": [
    {
     "name": "stdout",
     "output_type": "stream",
     "text": [
      "\u001b[1m1/1\u001b[0m \u001b[32m━━━━━━━━━━━━━━━━━━━━\u001b[0m\u001b[37m\u001b[0m \u001b[1m0s\u001b[0m 14ms/step\n",
      "[[-3.07893995e-02 -3.84576544e-02 -2.23843213e-02  8.09700415e-03\n",
      "  -3.12822461e-02  3.04048993e-02  3.90767492e-02 -1.26156099e-02\n",
      "  -1.11268274e-02  2.81767361e-02]\n",
      " [-3.07893995e-02 -3.84576544e-02 -2.23843213e-02  8.09700415e-03\n",
      "  -3.12822461e-02  3.04048993e-02  3.90767492e-02 -1.26156099e-02\n",
      "  -1.11268274e-02  2.81767361e-02]\n",
      " [-3.07893995e-02 -3.84576544e-02 -2.23843213e-02  8.09700415e-03\n",
      "  -3.12822461e-02  3.04048993e-02  3.90767492e-02 -1.26156099e-02\n",
      "  -1.11268274e-02  2.81767361e-02]\n",
      " [-3.07893995e-02 -3.84576544e-02 -2.23843213e-02  8.09700415e-03\n",
      "  -3.12822461e-02  3.04048993e-02  3.90767492e-02 -1.26156099e-02\n",
      "  -1.11268274e-02  2.81767361e-02]\n",
      " [ 4.19239886e-02  2.16293074e-02  2.93857194e-02  4.51132394e-02\n",
      "   2.76427753e-02 -2.50376817e-02 -3.45783457e-02 -3.74794602e-02\n",
      "   4.52583097e-02  4.08891477e-02]\n",
      " [-2.13067289e-02  1.01820454e-02  2.98327841e-02 -3.59347090e-02\n",
      "  -4.18006666e-02 -1.42558105e-02 -2.69791838e-02 -3.79385352e-02\n",
      "  -5.04963100e-05  1.54363401e-02]\n",
      " [ 2.50693299e-02 -1.49255767e-02 -2.01224089e-02  1.62036307e-02\n",
      "   1.85275786e-02 -4.16040421e-05  5.72621822e-04 -2.05071922e-02\n",
      "   1.76932663e-03  4.21646945e-02]\n",
      " [ 3.44443806e-02  1.27342008e-02 -2.94435266e-02 -3.51024754e-02\n",
      "  -4.82172482e-02 -3.85789052e-02  1.75080448e-03 -1.64860599e-02\n",
      "   3.38358171e-02  1.06073730e-02]]\n"
     ]
    }
   ],
   "source": [
    "print(model.predict(embedded_docs)[0])"
   ]
  },
  {
   "cell_type": "code",
   "execution_count": 29,
   "id": "6022b2da-125e-4b28-aa41-2f10513fd780",
   "metadata": {},
   "outputs": [
    {
     "name": "stdout",
     "output_type": "stream",
     "text": [
      "\u001b[1m1/1\u001b[0m \u001b[32m━━━━━━━━━━━━━━━━━━━━\u001b[0m\u001b[37m\u001b[0m \u001b[1m0s\u001b[0m 55ms/step\n"
     ]
    },
    {
     "data": {
      "text/html": [
       "<pre style=\"white-space:pre;overflow-x:auto;line-height:normal;font-family:Menlo,'DejaVu Sans Mono',consolas,'Courier New',monospace\"><span style=\"font-weight: bold\">Model: \"sequential_5\"</span>\n",
       "</pre>\n"
      ],
      "text/plain": [
       "\u001b[1mModel: \"sequential_5\"\u001b[0m\n"
      ]
     },
     "metadata": {},
     "output_type": "display_data"
    },
    {
     "data": {
      "text/html": [
       "<pre style=\"white-space:pre;overflow-x:auto;line-height:normal;font-family:Menlo,'DejaVu Sans Mono',consolas,'Courier New',monospace\">┏━━━━━━━━━━━━━━━━━━━━━━━━━━━━━━━━━┳━━━━━━━━━━━━━━━━━━━━━━━━┳━━━━━━━━━━━━━━━┓\n",
       "┃<span style=\"font-weight: bold\"> Layer (type)                    </span>┃<span style=\"font-weight: bold\"> Output Shape           </span>┃<span style=\"font-weight: bold\">       Param # </span>┃\n",
       "┡━━━━━━━━━━━━━━━━━━━━━━━━━━━━━━━━━╇━━━━━━━━━━━━━━━━━━━━━━━━╇━━━━━━━━━━━━━━━┩\n",
       "│ embedding_5 (<span style=\"color: #0087ff; text-decoration-color: #0087ff\">Embedding</span>)         │ (<span style=\"color: #00af00; text-decoration-color: #00af00\">1</span>, <span style=\"color: #00af00; text-decoration-color: #00af00\">10</span>, <span style=\"color: #00af00; text-decoration-color: #00af00\">10</span>)            │         <span style=\"color: #00af00; text-decoration-color: #00af00\">1,000</span> │\n",
       "└─────────────────────────────────┴────────────────────────┴───────────────┘\n",
       "</pre>\n"
      ],
      "text/plain": [
       "┏━━━━━━━━━━━━━━━━━━━━━━━━━━━━━━━━━┳━━━━━━━━━━━━━━━━━━━━━━━━┳━━━━━━━━━━━━━━━┓\n",
       "┃\u001b[1m \u001b[0m\u001b[1mLayer (type)                   \u001b[0m\u001b[1m \u001b[0m┃\u001b[1m \u001b[0m\u001b[1mOutput Shape          \u001b[0m\u001b[1m \u001b[0m┃\u001b[1m \u001b[0m\u001b[1m      Param #\u001b[0m\u001b[1m \u001b[0m┃\n",
       "┡━━━━━━━━━━━━━━━━━━━━━━━━━━━━━━━━━╇━━━━━━━━━━━━━━━━━━━━━━━━╇━━━━━━━━━━━━━━━┩\n",
       "│ embedding_5 (\u001b[38;5;33mEmbedding\u001b[0m)         │ (\u001b[38;5;34m1\u001b[0m, \u001b[38;5;34m10\u001b[0m, \u001b[38;5;34m10\u001b[0m)            │         \u001b[38;5;34m1,000\u001b[0m │\n",
       "└─────────────────────────────────┴────────────────────────┴───────────────┘\n"
      ]
     },
     "metadata": {},
     "output_type": "display_data"
    },
    {
     "data": {
      "text/html": [
       "<pre style=\"white-space:pre;overflow-x:auto;line-height:normal;font-family:Menlo,'DejaVu Sans Mono',consolas,'Courier New',monospace\"><span style=\"font-weight: bold\"> Total params: </span><span style=\"color: #00af00; text-decoration-color: #00af00\">1,000</span> (3.91 KB)\n",
       "</pre>\n"
      ],
      "text/plain": [
       "\u001b[1m Total params: \u001b[0m\u001b[38;5;34m1,000\u001b[0m (3.91 KB)\n"
      ]
     },
     "metadata": {},
     "output_type": "display_data"
    },
    {
     "data": {
      "text/html": [
       "<pre style=\"white-space:pre;overflow-x:auto;line-height:normal;font-family:Menlo,'DejaVu Sans Mono',consolas,'Courier New',monospace\"><span style=\"font-weight: bold\"> Trainable params: </span><span style=\"color: #00af00; text-decoration-color: #00af00\">1,000</span> (3.91 KB)\n",
       "</pre>\n"
      ],
      "text/plain": [
       "\u001b[1m Trainable params: \u001b[0m\u001b[38;5;34m1,000\u001b[0m (3.91 KB)\n"
      ]
     },
     "metadata": {},
     "output_type": "display_data"
    },
    {
     "data": {
      "text/html": [
       "<pre style=\"white-space:pre;overflow-x:auto;line-height:normal;font-family:Menlo,'DejaVu Sans Mono',consolas,'Courier New',monospace\"><span style=\"font-weight: bold\"> Non-trainable params: </span><span style=\"color: #00af00; text-decoration-color: #00af00\">0</span> (0.00 B)\n",
       "</pre>\n"
      ],
      "text/plain": [
       "\u001b[1m Non-trainable params: \u001b[0m\u001b[38;5;34m0\u001b[0m (0.00 B)\n"
      ]
     },
     "metadata": {},
     "output_type": "display_data"
    }
   ],
   "source": [
    "from tensorflow.keras.models import Sequential\n",
    "from tensorflow.keras.layers import Embedding\n",
    "import numpy as np\n",
    "\n",
    "# Initialize the model\n",
    "model = Sequential()\n",
    "\n",
    "# Add on Embedding Layer without input_length\n",
    "vocab_size = 100 # Example vocabulary size\n",
    "model.add(Embedding(input_dim = vocab_size,\n",
    "                   output_dim = 10))\n",
    "\n",
    "# Compile input data to build the model\n",
    "model.compile(optimizer = 'adam',\n",
    "             loss = 'mse')\n",
    "\n",
    "# Dummy input data to build the model\n",
    "dummy_input = np.zeros((1,10)) # Shape: (batch_size, sequence_length)\n",
    "\n",
    "# Run the model on dummy data to build it\n",
    "model.predict(dummy_input)\n",
    "\n",
    "# Now the model is built, and you can print the summary\n",
    "model.summary()"
   ]
  },
  {
   "cell_type": "code",
   "execution_count": null,
   "id": "a4574a85-29b9-4945-adbb-92e6f38bb2b2",
   "metadata": {},
   "outputs": [],
   "source": []
  }
 ],
 "metadata": {
  "kernelspec": {
   "display_name": "Python 3 (ipykernel)",
   "language": "python",
   "name": "python3"
  },
  "language_info": {
   "codemirror_mode": {
    "name": "ipython",
    "version": 3
   },
   "file_extension": ".py",
   "mimetype": "text/x-python",
   "name": "python",
   "nbconvert_exporter": "python",
   "pygments_lexer": "ipython3",
   "version": "3.9.19"
  }
 },
 "nbformat": 4,
 "nbformat_minor": 5
}
