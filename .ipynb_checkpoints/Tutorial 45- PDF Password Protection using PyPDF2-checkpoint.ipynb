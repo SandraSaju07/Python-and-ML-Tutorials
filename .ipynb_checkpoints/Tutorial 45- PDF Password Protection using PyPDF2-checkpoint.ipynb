{
 "cells": [
  {
   "cell_type": "code",
   "execution_count": 1,
   "id": "01136f47-324e-4ad2-b4b9-98fddd06fc6a",
   "metadata": {},
   "outputs": [],
   "source": [
    "from PyPDF2 import PdfReader, PdfWriter"
   ]
  },
  {
   "cell_type": "code",
   "execution_count": 2,
   "id": "eb74ec1f-46d0-4625-9f77-c3e238635e3d",
   "metadata": {},
   "outputs": [],
   "source": [
    "# Read input PDF\n",
    "read_pdf = PdfReader('./data/test.pdf')"
   ]
  },
  {
   "cell_type": "code",
   "execution_count": 3,
   "id": "8b2eb1ee-42a3-4244-bc6e-ba60fbe825b9",
   "metadata": {},
   "outputs": [],
   "source": [
    "# PDF Write Object\n",
    "write_pdf = PdfWriter()"
   ]
  },
  {
   "cell_type": "code",
   "execution_count": 4,
   "id": "ce27e489-3eaa-46ef-9d81-ddd9c361d147",
   "metadata": {},
   "outputs": [
    {
     "data": {
      "text/plain": [
       "1"
      ]
     },
     "execution_count": 4,
     "metadata": {},
     "output_type": "execute_result"
    }
   ],
   "source": [
    "# Get no of pages\n",
    "len(read_pdf.pages)"
   ]
  },
  {
   "cell_type": "code",
   "execution_count": 5,
   "id": "3368c957-3044-4f52-9236-7bc580f5a54e",
   "metadata": {},
   "outputs": [],
   "source": [
    "# Get page wise contents and write to the PDF object\n",
    "for page in read_pdf.pages:\n",
    "    write_pdf.add_page(page)"
   ]
  },
  {
   "cell_type": "code",
   "execution_count": 6,
   "id": "fdfb7028-9f88-4712-b16e-55ed61e63616",
   "metadata": {},
   "outputs": [],
   "source": [
    "password = \"12345678\""
   ]
  },
  {
   "cell_type": "code",
   "execution_count": 7,
   "id": "1e29fd3a-b200-4df0-8a5e-ba63f58d5595",
   "metadata": {},
   "outputs": [],
   "source": [
    "# Encrypt the file object with a password\n",
    "write_pdf.encrypt(password)"
   ]
  },
  {
   "cell_type": "code",
   "execution_count": 8,
   "id": "d6e7c53d-359b-474d-a2d2-5c42f5015654",
   "metadata": {},
   "outputs": [],
   "source": [
    "with open(\"./data/encrypted_out.pdf\",\"wb\") as f:\n",
    "    write_pdf.write(f)"
   ]
  },
  {
   "cell_type": "code",
   "execution_count": null,
   "id": "163bd38b-5425-4449-b31c-68c324d97f94",
   "metadata": {},
   "outputs": [],
   "source": []
  }
 ],
 "metadata": {
  "kernelspec": {
   "display_name": "Python 3 (ipykernel)",
   "language": "python",
   "name": "python3"
  },
  "language_info": {
   "codemirror_mode": {
    "name": "ipython",
    "version": 3
   },
   "file_extension": ".py",
   "mimetype": "text/x-python",
   "name": "python",
   "nbconvert_exporter": "python",
   "pygments_lexer": "ipython3",
   "version": "3.10.16"
  }
 },
 "nbformat": 4,
 "nbformat_minor": 5
}
