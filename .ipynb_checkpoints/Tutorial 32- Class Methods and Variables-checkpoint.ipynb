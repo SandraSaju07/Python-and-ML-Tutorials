{
 "cells": [
  {
   "cell_type": "code",
   "execution_count": 8,
   "id": "55b5696b-d635-4ce6-b632-507efc5d99df",
   "metadata": {},
   "outputs": [],
   "source": [
    "class Car:\n",
    "    base_price = 100000\n",
    "    def __init__(self,windows,doors,power):\n",
    "        self.windows = windows\n",
    "        self.doors = doors\n",
    "        self.power = power\n",
    "    def what_base_price(self):\n",
    "        print(f\"The base price is: {self.base_price}\")\n",
    "    @classmethod\n",
    "    def revise_base_price(cls,inflation):\n",
    "        cls.base_price += cls.base_price*inflation/100"
   ]
  },
  {
   "cell_type": "code",
   "execution_count": 9,
   "id": "405f9839-f4ee-4c4b-b942-8c4ac8489135",
   "metadata": {},
   "outputs": [],
   "source": [
    "car1 = Car(4,5,2000)"
   ]
  },
  {
   "cell_type": "code",
   "execution_count": 10,
   "id": "ee25740c-7bfe-4d53-b51d-bd270e524138",
   "metadata": {},
   "outputs": [
    {
     "data": {
      "text/plain": [
       "100000"
      ]
     },
     "execution_count": 10,
     "metadata": {},
     "output_type": "execute_result"
    }
   ],
   "source": [
    "car1.base_price"
   ]
  },
  {
   "cell_type": "code",
   "execution_count": 11,
   "id": "272b4c52-46bd-4808-bb1a-77a1f7d4ef80",
   "metadata": {},
   "outputs": [
    {
     "data": {
      "text/plain": [
       "100000"
      ]
     },
     "execution_count": 11,
     "metadata": {},
     "output_type": "execute_result"
    }
   ],
   "source": [
    "Car.base_price"
   ]
  },
  {
   "cell_type": "code",
   "execution_count": 12,
   "id": "de5682c5-250d-4333-8d40-2892c2a32240",
   "metadata": {},
   "outputs": [
    {
     "name": "stdout",
     "output_type": "stream",
     "text": [
      "The base price is: 100000\n"
     ]
    }
   ],
   "source": [
    "car1.what_base_price()"
   ]
  },
  {
   "cell_type": "code",
   "execution_count": 13,
   "id": "f8e8a918-4670-46ae-a3fd-154997b3a786",
   "metadata": {},
   "outputs": [],
   "source": [
    "Car.revise_base_price(10)"
   ]
  },
  {
   "cell_type": "code",
   "execution_count": 14,
   "id": "d459da6d-33a5-4708-ae14-b57b8e7afda0",
   "metadata": {},
   "outputs": [
    {
     "data": {
      "text/plain": [
       "110000.0"
      ]
     },
     "execution_count": 14,
     "metadata": {},
     "output_type": "execute_result"
    }
   ],
   "source": [
    "Car.base_price"
   ]
  },
  {
   "cell_type": "code",
   "execution_count": 19,
   "id": "bb0e0c11-5cba-4e7d-b36d-f496703b068e",
   "metadata": {},
   "outputs": [],
   "source": [
    "car2 = Car(6,4,5000)"
   ]
  },
  {
   "cell_type": "code",
   "execution_count": 20,
   "id": "7c54f846-eac5-4ace-9010-3d08ba42fc27",
   "metadata": {},
   "outputs": [],
   "source": [
    "car2.revise_base_price(10)"
   ]
  },
  {
   "cell_type": "code",
   "execution_count": 21,
   "id": "971fd92b-4d55-46d3-b508-e569de3f1832",
   "metadata": {},
   "outputs": [
    {
     "data": {
      "text/plain": [
       "121000.0"
      ]
     },
     "execution_count": 21,
     "metadata": {},
     "output_type": "execute_result"
    }
   ],
   "source": [
    "car2.base_price"
   ]
  },
  {
   "cell_type": "code",
   "execution_count": 22,
   "id": "e279e77d-e2ba-4ba7-9281-bbea0e86aa9f",
   "metadata": {},
   "outputs": [
    {
     "data": {
      "text/plain": [
       "121000.0"
      ]
     },
     "execution_count": 22,
     "metadata": {},
     "output_type": "execute_result"
    }
   ],
   "source": [
    "car1.base_price"
   ]
  },
  {
   "cell_type": "code",
   "execution_count": 23,
   "id": "640ae3e9-6ff7-485f-b079-f431c2badbfc",
   "metadata": {},
   "outputs": [
    {
     "data": {
      "text/plain": [
       "121000.0"
      ]
     },
     "execution_count": 23,
     "metadata": {},
     "output_type": "execute_result"
    }
   ],
   "source": [
    "car3 = Car(2,4,1000)\n",
    "\n",
    "car3.base_price"
   ]
  },
  {
   "cell_type": "code",
   "execution_count": null,
   "id": "24d8d619-74d0-4f43-a549-4133a6ab6a71",
   "metadata": {},
   "outputs": [],
   "source": []
  }
 ],
 "metadata": {
  "kernelspec": {
   "display_name": "Python 3 (ipykernel)",
   "language": "python",
   "name": "python3"
  },
  "language_info": {
   "codemirror_mode": {
    "name": "ipython",
    "version": 3
   },
   "file_extension": ".py",
   "mimetype": "text/x-python",
   "name": "python",
   "nbconvert_exporter": "python",
   "pygments_lexer": "ipython3",
   "version": "3.10.16"
  }
 },
 "nbformat": 4,
 "nbformat_minor": 5
}
