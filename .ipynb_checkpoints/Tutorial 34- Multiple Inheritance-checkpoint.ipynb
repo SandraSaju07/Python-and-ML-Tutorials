{
 "cells": [
  {
   "cell_type": "code",
   "execution_count": 13,
   "id": "29886a0f-3b4f-4a4c-ad29-f152dae2fc46",
   "metadata": {},
   "outputs": [],
   "source": [
    "class A:\n",
    "    def method1(self):\n",
    "        print(\"Class A method1 is called\")"
   ]
  },
  {
   "cell_type": "code",
   "execution_count": 14,
   "id": "f1ff3d53-fa0f-4dce-affe-d5f3642e87bd",
   "metadata": {},
   "outputs": [],
   "source": [
    "class B(A):\n",
    "    def method1(self):\n",
    "        print(\"Class B method1 is called\")\n",
    "\n",
    "    def method2(self):\n",
    "        print(\"Class B method2 is called\")"
   ]
  },
  {
   "cell_type": "code",
   "execution_count": 15,
   "id": "c958dbc5-92f6-4f03-afae-72189e61ad35",
   "metadata": {},
   "outputs": [],
   "source": [
    "class C(A):\n",
    "    def method1(self):\n",
    "        print(\"Class C method1 is called\")"
   ]
  },
  {
   "cell_type": "code",
   "execution_count": 16,
   "id": "0b7fbf69-e0b1-432c-b497-6b6e5f3897c1",
   "metadata": {},
   "outputs": [],
   "source": [
    "class D(B,C):\n",
    "    def method1(self):\n",
    "        print(\"Class D method1 is called\")"
   ]
  },
  {
   "cell_type": "code",
   "execution_count": 17,
   "id": "37b67f2a-582f-46f1-ae65-f1afc65e7d76",
   "metadata": {},
   "outputs": [
    {
     "name": "stdout",
     "output_type": "stream",
     "text": [
      "Class D method1 is called\n"
     ]
    }
   ],
   "source": [
    "d = D()\n",
    "\n",
    "d.method1()"
   ]
  },
  {
   "cell_type": "code",
   "execution_count": 18,
   "id": "13531ca0-6951-4464-a0b5-77da25c1a1c1",
   "metadata": {},
   "outputs": [
    {
     "name": "stdout",
     "output_type": "stream",
     "text": [
      "Class B method2 is called\n"
     ]
    }
   ],
   "source": [
    "d.method2()"
   ]
  },
  {
   "cell_type": "code",
   "execution_count": 19,
   "id": "b1c4e30a-8796-4077-b40b-3865d2588d92",
   "metadata": {},
   "outputs": [
    {
     "name": "stdout",
     "output_type": "stream",
     "text": [
      "Class B method1 is called\n"
     ]
    }
   ],
   "source": [
    "B.method1(d)"
   ]
  },
  {
   "cell_type": "code",
   "execution_count": 20,
   "id": "2e71bd1f-5ab5-4035-9570-d6ccd3161c0a",
   "metadata": {},
   "outputs": [
    {
     "name": "stdout",
     "output_type": "stream",
     "text": [
      "Class C method1 is called\n"
     ]
    }
   ],
   "source": [
    "C.method1(d)"
   ]
  },
  {
   "cell_type": "code",
   "execution_count": 24,
   "id": "809f0ca9-e9d0-4615-bbdf-a39b6a0966d4",
   "metadata": {},
   "outputs": [
    {
     "name": "stdout",
     "output_type": "stream",
     "text": [
      "Class A method1 is called\n"
     ]
    }
   ],
   "source": [
    "A.method1(d)"
   ]
  },
  {
   "cell_type": "code",
   "execution_count": 25,
   "id": "38d61aee-3967-4352-b6bc-60ad81f4d428",
   "metadata": {},
   "outputs": [],
   "source": [
    "class D(B,C):\n",
    "    def method1(self):\n",
    "        print(\"Class D method is called\")\n",
    "        B.method1(self)\n",
    "        C.method1(self)\n",
    "        A.method1(self)"
   ]
  },
  {
   "cell_type": "code",
   "execution_count": 26,
   "id": "5f35741c-8dce-4509-9cb3-85c4e43df9d9",
   "metadata": {},
   "outputs": [
    {
     "name": "stdout",
     "output_type": "stream",
     "text": [
      "Class D method is called\n",
      "Class B method1 is called\n",
      "Class C method1 is called\n",
      "Class A method1 is called\n"
     ]
    }
   ],
   "source": [
    "d = D()\n",
    "d.method1()"
   ]
  },
  {
   "cell_type": "code",
   "execution_count": null,
   "id": "733855bb-afd8-465a-9bb9-29895f95c14a",
   "metadata": {},
   "outputs": [],
   "source": []
  }
 ],
 "metadata": {
  "kernelspec": {
   "display_name": "Python 3 (ipykernel)",
   "language": "python",
   "name": "python3"
  },
  "language_info": {
   "codemirror_mode": {
    "name": "ipython",
    "version": 3
   },
   "file_extension": ".py",
   "mimetype": "text/x-python",
   "name": "python",
   "nbconvert_exporter": "python",
   "pygments_lexer": "ipython3",
   "version": "3.10.16"
  }
 },
 "nbformat": 4,
 "nbformat_minor": 5
}
