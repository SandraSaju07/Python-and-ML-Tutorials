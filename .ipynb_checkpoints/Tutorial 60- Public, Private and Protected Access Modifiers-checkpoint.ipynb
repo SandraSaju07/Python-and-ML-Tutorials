{
 "cells": [
  {
   "cell_type": "code",
   "execution_count": 1,
   "id": "0fa16495-4832-4967-a88a-659539d9e97b",
   "metadata": {},
   "outputs": [],
   "source": [
    "# All class variables without any underscore are public variables\n",
    "class Car:\n",
    "    def __init__(self, windows, doors, enginetype):\n",
    "        self.windows = windows\n",
    "        self.doors = doors\n",
    "        self.enginetype = enginetype"
   ]
  },
  {
   "cell_type": "code",
   "execution_count": 2,
   "id": "fe6259f1-dd7e-49ef-ab36-0351db89ecfa",
   "metadata": {},
   "outputs": [],
   "source": [
    "audi = Car(4, 5, \"Diesel\")"
   ]
  },
  {
   "cell_type": "code",
   "execution_count": 3,
   "id": "cfc11e0e-7057-4960-bef3-1755f18d097e",
   "metadata": {},
   "outputs": [
    {
     "data": {
      "text/plain": [
       "['__class__',\n",
       " '__delattr__',\n",
       " '__dict__',\n",
       " '__dir__',\n",
       " '__doc__',\n",
       " '__eq__',\n",
       " '__format__',\n",
       " '__ge__',\n",
       " '__getattribute__',\n",
       " '__gt__',\n",
       " '__hash__',\n",
       " '__init__',\n",
       " '__init_subclass__',\n",
       " '__le__',\n",
       " '__lt__',\n",
       " '__module__',\n",
       " '__ne__',\n",
       " '__new__',\n",
       " '__reduce__',\n",
       " '__reduce_ex__',\n",
       " '__repr__',\n",
       " '__setattr__',\n",
       " '__sizeof__',\n",
       " '__str__',\n",
       " '__subclasshook__',\n",
       " '__weakref__',\n",
       " 'doors',\n",
       " 'enginetype',\n",
       " 'windows']"
      ]
     },
     "execution_count": 3,
     "metadata": {},
     "output_type": "execute_result"
    }
   ],
   "source": [
    "dir(audi)"
   ]
  },
  {
   "cell_type": "code",
   "execution_count": 4,
   "id": "55927ff8-b94a-4c95-850d-b931aaa52a54",
   "metadata": {},
   "outputs": [],
   "source": [
    "audi.windows = 2"
   ]
  },
  {
   "cell_type": "code",
   "execution_count": 5,
   "id": "93301f05-7c43-4ea4-8540-5a236f6a46d8",
   "metadata": {},
   "outputs": [
    {
     "data": {
      "text/plain": [
       "2"
      ]
     },
     "execution_count": 5,
     "metadata": {},
     "output_type": "execute_result"
    }
   ],
   "source": [
    "audi.windows"
   ]
  },
  {
   "cell_type": "code",
   "execution_count": 6,
   "id": "eb2d5d47-8e63-4dfe-9b7a-b75c10ff9a3b",
   "metadata": {},
   "outputs": [],
   "source": [
    "# Variables starting with underscore are Protected variables\n",
    "class Car:\n",
    "    def __init__(self, windows, doors, enginetype):\n",
    "        self._windows = windows\n",
    "        self._doors = doors\n",
    "        self._enginetype = enginetype"
   ]
  },
  {
   "cell_type": "code",
   "execution_count": 7,
   "id": "70aab8f0-dac1-49a8-98c6-05d5356a5a3c",
   "metadata": {},
   "outputs": [],
   "source": [
    "bmw = Car(3, 4, \"Petrol\")"
   ]
  },
  {
   "cell_type": "code",
   "execution_count": 8,
   "id": "663f7129-6c41-4b4b-a5b0-6895ba3180ed",
   "metadata": {},
   "outputs": [
    {
     "data": {
      "text/plain": [
       "['__class__',\n",
       " '__delattr__',\n",
       " '__dict__',\n",
       " '__dir__',\n",
       " '__doc__',\n",
       " '__eq__',\n",
       " '__format__',\n",
       " '__ge__',\n",
       " '__getattribute__',\n",
       " '__gt__',\n",
       " '__hash__',\n",
       " '__init__',\n",
       " '__init_subclass__',\n",
       " '__le__',\n",
       " '__lt__',\n",
       " '__module__',\n",
       " '__ne__',\n",
       " '__new__',\n",
       " '__reduce__',\n",
       " '__reduce_ex__',\n",
       " '__repr__',\n",
       " '__setattr__',\n",
       " '__sizeof__',\n",
       " '__str__',\n",
       " '__subclasshook__',\n",
       " '__weakref__',\n",
       " '_doors',\n",
       " '_enginetype',\n",
       " '_windows']"
      ]
     },
     "execution_count": 8,
     "metadata": {},
     "output_type": "execute_result"
    }
   ],
   "source": [
    "dir(bmw)"
   ]
  },
  {
   "cell_type": "code",
   "execution_count": 9,
   "id": "0c22e66f-57f1-40b5-87d0-0950a8c2493c",
   "metadata": {},
   "outputs": [
    {
     "data": {
      "text/plain": [
       "3"
      ]
     },
     "execution_count": 9,
     "metadata": {},
     "output_type": "execute_result"
    }
   ],
   "source": [
    "bmw._windows"
   ]
  },
  {
   "cell_type": "code",
   "execution_count": 10,
   "id": "105598b0-edaf-46ee-bd39-9c3319467e4e",
   "metadata": {},
   "outputs": [],
   "source": [
    "bmw._windows = 4"
   ]
  },
  {
   "cell_type": "code",
   "execution_count": 11,
   "id": "11c9cd38-a7e7-4095-8ca2-f44cd06fa01d",
   "metadata": {},
   "outputs": [
    {
     "data": {
      "text/plain": [
       "4"
      ]
     },
     "execution_count": 11,
     "metadata": {},
     "output_type": "execute_result"
    }
   ],
   "source": [
    "bmw._windows"
   ]
  },
  {
   "cell_type": "code",
   "execution_count": 12,
   "id": "ad1ce912-15b0-4d8f-afde-69708f51183d",
   "metadata": {},
   "outputs": [
    {
     "data": {
      "text/plain": [
       "['__class__',\n",
       " '__delattr__',\n",
       " '__dict__',\n",
       " '__dir__',\n",
       " '__doc__',\n",
       " '__eq__',\n",
       " '__format__',\n",
       " '__ge__',\n",
       " '__getattribute__',\n",
       " '__gt__',\n",
       " '__hash__',\n",
       " '__init__',\n",
       " '__init_subclass__',\n",
       " '__le__',\n",
       " '__lt__',\n",
       " '__module__',\n",
       " '__ne__',\n",
       " '__new__',\n",
       " '__reduce__',\n",
       " '__reduce_ex__',\n",
       " '__repr__',\n",
       " '__setattr__',\n",
       " '__sizeof__',\n",
       " '__str__',\n",
       " '__subclasshook__',\n",
       " '__weakref__',\n",
       " '_doors',\n",
       " '_enginetype',\n",
       " '_windows']"
      ]
     },
     "execution_count": 12,
     "metadata": {},
     "output_type": "execute_result"
    }
   ],
   "source": [
    "dir(bmw)"
   ]
  },
  {
   "cell_type": "code",
   "execution_count": 13,
   "id": "e20fbf2c-0e0a-4227-8cf4-53773f17f5d6",
   "metadata": {},
   "outputs": [],
   "source": [
    "class Truck(Car):\n",
    "    def __init__(self, windows, doors, enginetype, horsepower):\n",
    "        super().__init__(windows, doors, enginetype)\n",
    "        self.horsepower = horsepower"
   ]
  },
  {
   "cell_type": "code",
   "execution_count": 14,
   "id": "a7454dfe-fa98-4ac0-a266-91b2632966f9",
   "metadata": {},
   "outputs": [],
   "source": [
    "truck = Truck(3,4,\"Petrol\", 3000)"
   ]
  },
  {
   "cell_type": "code",
   "execution_count": 15,
   "id": "892f34c1-47a7-42c7-93df-27616277a542",
   "metadata": {},
   "outputs": [
    {
     "data": {
      "text/plain": [
       "['__class__',\n",
       " '__delattr__',\n",
       " '__dict__',\n",
       " '__dir__',\n",
       " '__doc__',\n",
       " '__eq__',\n",
       " '__format__',\n",
       " '__ge__',\n",
       " '__getattribute__',\n",
       " '__gt__',\n",
       " '__hash__',\n",
       " '__init__',\n",
       " '__init_subclass__',\n",
       " '__le__',\n",
       " '__lt__',\n",
       " '__module__',\n",
       " '__ne__',\n",
       " '__new__',\n",
       " '__reduce__',\n",
       " '__reduce_ex__',\n",
       " '__repr__',\n",
       " '__setattr__',\n",
       " '__sizeof__',\n",
       " '__str__',\n",
       " '__subclasshook__',\n",
       " '__weakref__',\n",
       " '_doors',\n",
       " '_enginetype',\n",
       " '_windows',\n",
       " 'horsepower']"
      ]
     },
     "execution_count": 15,
     "metadata": {},
     "output_type": "execute_result"
    }
   ],
   "source": [
    "dir(truck)"
   ]
  },
  {
   "cell_type": "code",
   "execution_count": 16,
   "id": "87a2680a-4eff-4f4f-b340-60ddec53fa69",
   "metadata": {},
   "outputs": [
    {
     "data": {
      "text/plain": [
       "3"
      ]
     },
     "execution_count": 16,
     "metadata": {},
     "output_type": "execute_result"
    }
   ],
   "source": [
    "truck._windows"
   ]
  },
  {
   "cell_type": "code",
   "execution_count": 17,
   "id": "c714f470-66ae-4f86-a728-4c47feb65f48",
   "metadata": {},
   "outputs": [],
   "source": [
    "# Variables starting with double underscore are Private variables\n",
    "class Car():\n",
    "    def __init__(self, windows, doors, enginetype):\n",
    "        self.__windows = windows\n",
    "        self.__doors = doors\n",
    "        self.__enginetype = enginetype"
   ]
  },
  {
   "cell_type": "code",
   "execution_count": 18,
   "id": "29b286ee-3641-4244-a6f2-e2fba3123cc5",
   "metadata": {},
   "outputs": [],
   "source": [
    "audi = Car(3, 4, \"Petrol\")"
   ]
  },
  {
   "cell_type": "code",
   "execution_count": 19,
   "id": "ddd2ae2a-0e5a-4a2f-b89f-30b7daddf89e",
   "metadata": {},
   "outputs": [
    {
     "data": {
      "text/plain": [
       "['_Car__doors',\n",
       " '_Car__enginetype',\n",
       " '_Car__windows',\n",
       " '__class__',\n",
       " '__delattr__',\n",
       " '__dict__',\n",
       " '__dir__',\n",
       " '__doc__',\n",
       " '__eq__',\n",
       " '__format__',\n",
       " '__ge__',\n",
       " '__getattribute__',\n",
       " '__gt__',\n",
       " '__hash__',\n",
       " '__init__',\n",
       " '__init_subclass__',\n",
       " '__le__',\n",
       " '__lt__',\n",
       " '__module__',\n",
       " '__ne__',\n",
       " '__new__',\n",
       " '__reduce__',\n",
       " '__reduce_ex__',\n",
       " '__repr__',\n",
       " '__setattr__',\n",
       " '__sizeof__',\n",
       " '__str__',\n",
       " '__subclasshook__',\n",
       " '__weakref__']"
      ]
     },
     "execution_count": 19,
     "metadata": {},
     "output_type": "execute_result"
    }
   ],
   "source": [
    "dir(audi)"
   ]
  },
  {
   "cell_type": "code",
   "execution_count": 22,
   "id": "edf56e10-5647-4b71-ba35-26519a0ee23d",
   "metadata": {},
   "outputs": [
    {
     "data": {
      "text/plain": [
       "4"
      ]
     },
     "execution_count": 22,
     "metadata": {},
     "output_type": "execute_result"
    }
   ],
   "source": [
    "audi._Car__doors"
   ]
  },
  {
   "cell_type": "code",
   "execution_count": 23,
   "id": "9cae4afa-85b6-4d93-a00f-c4acdde6c655",
   "metadata": {},
   "outputs": [],
   "source": [
    "audi._Car__doors = 3"
   ]
  },
  {
   "cell_type": "code",
   "execution_count": 24,
   "id": "fdd2b552-e935-436e-8053-363abcb7cc2a",
   "metadata": {},
   "outputs": [
    {
     "data": {
      "text/plain": [
       "3"
      ]
     },
     "execution_count": 24,
     "metadata": {},
     "output_type": "execute_result"
    }
   ],
   "source": [
    "audi._Car__doors"
   ]
  },
  {
   "cell_type": "code",
   "execution_count": 25,
   "id": "946670f1-b749-4c32-8f9c-d8bec7d612d9",
   "metadata": {},
   "outputs": [],
   "source": [
    "class Van(Car):\n",
    "    def __init__(self, windows, doors, enginetype, horsepower):\n",
    "        super().__init__(windows, doors, enginetype)\n",
    "        self.horsepower = horsepower"
   ]
  },
  {
   "cell_type": "code",
   "execution_count": 26,
   "id": "8bf2bfce-6800-41d0-8700-cebf83284c6d",
   "metadata": {},
   "outputs": [],
   "source": [
    "van = Van(2, 3, \"Petrol\", 4000)"
   ]
  },
  {
   "cell_type": "code",
   "execution_count": 27,
   "id": "cffa7340-a7ff-4785-8d70-23d0f63b04ae",
   "metadata": {},
   "outputs": [
    {
     "data": {
      "text/plain": [
       "['_Car__doors',\n",
       " '_Car__enginetype',\n",
       " '_Car__windows',\n",
       " '__class__',\n",
       " '__delattr__',\n",
       " '__dict__',\n",
       " '__dir__',\n",
       " '__doc__',\n",
       " '__eq__',\n",
       " '__format__',\n",
       " '__ge__',\n",
       " '__getattribute__',\n",
       " '__gt__',\n",
       " '__hash__',\n",
       " '__init__',\n",
       " '__init_subclass__',\n",
       " '__le__',\n",
       " '__lt__',\n",
       " '__module__',\n",
       " '__ne__',\n",
       " '__new__',\n",
       " '__reduce__',\n",
       " '__reduce_ex__',\n",
       " '__repr__',\n",
       " '__setattr__',\n",
       " '__sizeof__',\n",
       " '__str__',\n",
       " '__subclasshook__',\n",
       " '__weakref__',\n",
       " 'horsepower']"
      ]
     },
     "execution_count": 27,
     "metadata": {},
     "output_type": "execute_result"
    }
   ],
   "source": [
    "dir(van)"
   ]
  },
  {
   "cell_type": "code",
   "execution_count": 28,
   "id": "041c95a6-664b-47a2-8bdc-0d9b4aba4e3b",
   "metadata": {},
   "outputs": [
    {
     "data": {
      "text/plain": [
       "3"
      ]
     },
     "execution_count": 28,
     "metadata": {},
     "output_type": "execute_result"
    }
   ],
   "source": [
    "van._Car__doors"
   ]
  },
  {
   "cell_type": "code",
   "execution_count": 29,
   "id": "2eae88c7-fe3e-458a-913f-40c31f472390",
   "metadata": {},
   "outputs": [],
   "source": [
    "van._Car__doors = 2"
   ]
  },
  {
   "cell_type": "code",
   "execution_count": 30,
   "id": "fbb42220-b6ca-4352-b462-c3fd82bb7467",
   "metadata": {},
   "outputs": [
    {
     "data": {
      "text/plain": [
       "2"
      ]
     },
     "execution_count": 30,
     "metadata": {},
     "output_type": "execute_result"
    }
   ],
   "source": [
    "van._Car__doors"
   ]
  },
  {
   "cell_type": "code",
   "execution_count": null,
   "id": "9ade3e55-34a2-4a8d-a9ec-4c7ef32b3992",
   "metadata": {},
   "outputs": [],
   "source": []
  }
 ],
 "metadata": {
  "kernelspec": {
   "display_name": "Python 3 (ipykernel)",
   "language": "python",
   "name": "python3"
  },
  "language_info": {
   "codemirror_mode": {
    "name": "ipython",
    "version": 3
   },
   "file_extension": ".py",
   "mimetype": "text/x-python",
   "name": "python",
   "nbconvert_exporter": "python",
   "pygments_lexer": "ipython3",
   "version": "3.10.16"
  }
 },
 "nbformat": 4,
 "nbformat_minor": 5
}
