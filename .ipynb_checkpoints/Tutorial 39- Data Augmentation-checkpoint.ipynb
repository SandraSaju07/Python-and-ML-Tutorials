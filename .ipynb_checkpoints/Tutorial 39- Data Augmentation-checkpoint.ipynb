{
 "cells": [
  {
   "cell_type": "code",
   "execution_count": 8,
   "id": "de0e6aba-a983-49c2-abdb-e66039e8f4a9",
   "metadata": {},
   "outputs": [],
   "source": [
    "text = \"\"\"\n",
    "DA was driving van on 49th St, Union City, DA went over 2 speed bumps and didn’t notice a car that was in the front at the traffic light, DA hit the rear bumper of the community member vehicle, police were called and report number is in file DA and CM went to the hospital due to neck and lower back pain. DSP confirmed that both CM and DA did not present any injuries after going to the hospital.\"\"\""
   ]
  },
  {
   "cell_type": "code",
   "execution_count": 9,
   "id": "ea457a88-9d0c-4e80-91a0-be2da4535934",
   "metadata": {},
   "outputs": [
    {
     "name": "stdout",
     "output_type": "stream",
     "text": [
      "district_attorney Washington drive van on 49th St, Union City, DA went over 2 speed bumps and didn’t notice a car that was in the front at the traffic light, DA hit the rear bumper of the community member vehicle, police were called and report number is in file DA and CM went to the hospital due to neck and lower back pain. DSP confirmed that both CM and DA did not present any injuries after going to the hospital.\n"
     ]
    },
    {
     "name": "stderr",
     "output_type": "stream",
     "text": [
      "[nltk_data] Downloading package wordnet to\n",
      "[nltk_data]     C:\\Users\\Ciya\\AppData\\Roaming\\nltk_data...\n",
      "[nltk_data]   Package wordnet is already up-to-date!\n"
     ]
    }
   ],
   "source": [
    "import nltk\n",
    "from nltk.corpus import wordnet\n",
    "import random\n",
    "\n",
    "nltk.download('wordnet')\n",
    "\n",
    "def synonym_replacement(text, max_synonyms=2):\n",
    "    words = text.split()\n",
    "    new_words = words[:]\n",
    "    word_count = 0\n",
    "    \n",
    "    for i, word in enumerate(words):\n",
    "        synonyms = wordnet.synsets(word)\n",
    "        if synonyms:\n",
    "            # Get a synonym\n",
    "            synonym = synonyms[0].lemmas()[0].name()\n",
    "            if synonym != word:  # Avoid replacing word with itself\n",
    "                new_words[i] = synonym\n",
    "                word_count += 1\n",
    "        if word_count >= max_synonyms:\n",
    "            break  # Limit the number of replacements\n",
    "    return ' '.join(new_words)\n",
    "\n",
    "augmented_text = synonym_replacement(text, max_synonyms=3)\n",
    "print(augmented_text)\n"
   ]
  },
  {
   "cell_type": "code",
   "execution_count": 10,
   "id": "31a14ba7-5ef4-473a-a3c8-965032209973",
   "metadata": {},
   "outputs": [
    {
     "name": "stdout",
     "output_type": "stream",
     "text": [
      "DA was driving van on 49th St, Union City, DA went over 2 speed bumps and didn’t notice a car that was in the front at the traffic light, DA hit the rear bumper of the community member vehicle, police were called and report number is in file DA and CM went to after the hospital due to neck and lower back pain. DSP confirmed that both CM and DA did not present any injuries after going to the hospital.\n"
     ]
    }
   ],
   "source": [
    "def random_insertion(text, num_insertions=1):\n",
    "    words = text.split()\n",
    "    for _ in range(num_insertions):\n",
    "        random_word = random.choice(words)\n",
    "        synonyms = wordnet.synsets(random_word)\n",
    "        if synonyms:\n",
    "            synonym = synonyms[0].lemmas()[0].name()\n",
    "            words.insert(random.randint(0, len(words)), synonym)\n",
    "    return ' '.join(words)\n",
    "\n",
    "augmented_text = random_insertion(text, num_insertions=2)\n",
    "print(augmented_text)\n"
   ]
  },
  {
   "cell_type": "code",
   "execution_count": 11,
   "id": "f4ddfe11-ef36-4380-a139-aec1e06aa104",
   "metadata": {},
   "outputs": [
    {
     "name": "stdout",
     "output_type": "stream",
     "text": [
      "Original text: \n",
      "DA was driving van on 49th St, Union City, DA went over 2 speed bumps and didn’t notice a car that was in the front at the traffic light, DA hit the rear bumper of the community member vehicle, police were called and report number is in file DA and CM went to the hospital due to neck and lower back pain. DSP confirmed that both CM and DA did not present any injuries after going to the hospital.\n",
      "Translation error: 'NoneType' object has no attribute 'group'\n",
      "\n",
      "DA was driving van on 49th St, Union City, DA went over 2 speed bumps and didn’t notice a car that was in the front at the traffic light, DA hit the rear bumper of the community member vehicle, police were called and report number is in file DA and CM went to the hospital due to neck and lower back pain. DSP confirmed that both CM and DA did not present any injuries after going to the hospital.\n"
     ]
    }
   ],
   "source": [
    "from googletrans import Translator\n",
    "\n",
    "def back_translation(text, src_lang='en', temp_lang='fr'):\n",
    "    translator = Translator()\n",
    "    try:\n",
    "        print(f\"Original text: {text}\")\n",
    "        translated = translator.translate(text, src=src_lang, dest=temp_lang).text\n",
    "        print(f\"Translated to {temp_lang}: {translated}\")\n",
    "        back_translated = translator.translate(translated, src=temp_lang, dest=src_lang).text\n",
    "        print(f\"Back-translated to {src_lang}: {back_translated}\")\n",
    "        return back_translated\n",
    "    except AttributeError as e:\n",
    "        print(f\"Translation error: {e}\")\n",
    "        return text  # Return the original text in case of failure\n",
    "\n",
    "augmented_text = back_translation(text)\n",
    "print(augmented_text)\n"
   ]
  },
  {
   "cell_type": "code",
   "execution_count": 12,
   "id": "3db4e01b-c320-4c55-bb87-961db2c4dd2c",
   "metadata": {},
   "outputs": [
    {
     "name": "stdout",
     "output_type": "stream",
     "text": [
      "DA driving van on St, DA over 2 speed bumps and didn’t notice a that was front at the traffic DA rear bumper of the community member police were called and number is in DA CM went to the hospital due neck lower back DSP that both and did not any injuries after going hospital.\n"
     ]
    }
   ],
   "source": [
    "def random_deletion(text, p=0.1):\n",
    "    words = text.split()\n",
    "    if len(words) == 1:\n",
    "        return text  # Avoid deletion if only one word\n",
    "    remaining_words = [word for word in words if random.uniform(0, 1) > p]\n",
    "    if len(remaining_words) == 0:\n",
    "        return random.choice(words)  # If all words are deleted, return one word\n",
    "    return ' '.join(remaining_words)\n",
    "\n",
    "augmented_text = random_deletion(text, p=0.3)\n",
    "print(augmented_text)\n"
   ]
  },
  {
   "cell_type": "code",
   "execution_count": 13,
   "id": "d18850ca-0015-4b76-bdec-4e156a8924f9",
   "metadata": {},
   "outputs": [
    {
     "name": "stdout",
     "output_type": "stream",
     "text": [
      "\n",
      " DA was driving van on 49th [MASK] , Union City , DA went [MASK] [MASK] speed bumps and did n’t notice a car that was in the front at the traffic [MASK] , DA hit the rear bumper of the community member vehicle , police were called and report number is [MASK] file DA [MASK] CM went to the hospital due to neck [MASK] lower [MASK] pain . DSP confirmed [MASK] both CM [MASK] DA did not present any injuries after going to the hospital .\n"
     ]
    }
   ],
   "source": [
    "import spacy\n",
    "import random\n",
    "\n",
    "# Load a pre-trained model from Spacy (you can use a smaller model if necessary)\n",
    "nlp = spacy.load(\"en_core_web_sm\")\n",
    "\n",
    "def contextual_augmentation(text, mask_prob=0.15):\n",
    "    doc = nlp(text)\n",
    "    words = [token.text for token in doc]\n",
    "    masked_words = []\n",
    "    for word in words:\n",
    "        if random.random() < mask_prob:\n",
    "            masked_words.append(\"[MASK]\")\n",
    "        else:\n",
    "            masked_words.append(word)\n",
    "    return \" \".join(masked_words)\n",
    "\n",
    "augmented_text = contextual_augmentation(text, mask_prob=0.2)\n",
    "print(augmented_text)\n"
   ]
  },
  {
   "cell_type": "code",
   "execution_count": null,
   "id": "f6833ced-045c-4aeb-a880-6e0cf2621414",
   "metadata": {},
   "outputs": [],
   "source": []
  },
  {
   "cell_type": "code",
   "execution_count": null,
   "id": "bdfc32cf-90f9-407c-827c-dc47f1e64be5",
   "metadata": {},
   "outputs": [],
   "source": []
  }
 ],
 "metadata": {
  "kernelspec": {
   "display_name": "Python 3 (ipykernel)",
   "language": "python",
   "name": "python3"
  },
  "language_info": {
   "codemirror_mode": {
    "name": "ipython",
    "version": 3
   },
   "file_extension": ".py",
   "mimetype": "text/x-python",
   "name": "python",
   "nbconvert_exporter": "python",
   "pygments_lexer": "ipython3",
   "version": "3.10.16"
  }
 },
 "nbformat": 4,
 "nbformat_minor": 5
}
