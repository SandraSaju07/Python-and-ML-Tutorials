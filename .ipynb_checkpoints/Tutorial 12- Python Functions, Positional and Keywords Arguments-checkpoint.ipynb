{
 "cells": [
  {
   "cell_type": "markdown",
   "id": "9aaf16ea",
   "metadata": {},
   "source": [
    "## Functions in Python\n",
    "* Why Functions?\n",
    "* Function Definition\n",
    "* Positional and Keyword Arguments in Funtions"
   ]
  },
  {
   "cell_type": "code",
   "execution_count": 1,
   "id": "d3e86831",
   "metadata": {},
   "outputs": [],
   "source": [
    "num = 24"
   ]
  },
  {
   "cell_type": "code",
   "execution_count": 2,
   "id": "019c4bc1",
   "metadata": {},
   "outputs": [],
   "source": [
    "def even_odd(num):\n",
    "    if num%2==0:\n",
    "        print(\"The number is even\")\n",
    "    else:\n",
    "        print(\"The number is odd\")"
   ]
  },
  {
   "cell_type": "code",
   "execution_count": 3,
   "id": "90966c5c",
   "metadata": {},
   "outputs": [
    {
     "name": "stdout",
     "output_type": "stream",
     "text": [
      "The number is even\n"
     ]
    }
   ],
   "source": [
    "even_odd(num)"
   ]
  },
  {
   "cell_type": "code",
   "execution_count": 4,
   "id": "9a583abd",
   "metadata": {},
   "outputs": [],
   "source": [
    "def hello_world():\n",
    "    print(\"Hello Welcome\")"
   ]
  },
  {
   "cell_type": "code",
   "execution_count": 5,
   "id": "976d0f14",
   "metadata": {},
   "outputs": [
    {
     "name": "stdout",
     "output_type": "stream",
     "text": [
      "Hello Welcome\n"
     ]
    }
   ],
   "source": [
    "hello_world()"
   ]
  },
  {
   "cell_type": "code",
   "execution_count": 6,
   "id": "7a9789c3",
   "metadata": {},
   "outputs": [],
   "source": [
    "def hello(name,age=32):\n",
    "    print(\"My name is {} and age is {}\".format(name,age))"
   ]
  },
  {
   "cell_type": "code",
   "execution_count": 7,
   "id": "016c8fe4",
   "metadata": {},
   "outputs": [
    {
     "name": "stdout",
     "output_type": "stream",
     "text": [
      "My name is Sandra and age is 32\n"
     ]
    }
   ],
   "source": [
    "hello('Sandra')"
   ]
  },
  {
   "cell_type": "code",
   "execution_count": 8,
   "id": "cd9aa147",
   "metadata": {},
   "outputs": [
    {
     "name": "stdout",
     "output_type": "stream",
     "text": [
      "My name is sandra and age is 25\n"
     ]
    }
   ],
   "source": [
    "hello('sandra',25)"
   ]
  },
  {
   "cell_type": "code",
   "execution_count": 11,
   "id": "22362863",
   "metadata": {},
   "outputs": [],
   "source": [
    "def hello(*args,**kwargs):\n",
    "    print(args)\n",
    "    print(kwargs)"
   ]
  },
  {
   "cell_type": "code",
   "execution_count": 12,
   "id": "3233ce77",
   "metadata": {},
   "outputs": [
    {
     "name": "stdout",
     "output_type": "stream",
     "text": [
      "('sandra', 'saju')\n",
      "{'age': 12, 'bod': 2}\n"
     ]
    }
   ],
   "source": [
    "hello('sandra','saju',age=12,bod=2)"
   ]
  },
  {
   "cell_type": "code",
   "execution_count": 15,
   "id": "07e58287",
   "metadata": {},
   "outputs": [],
   "source": [
    "lst = ['sandra','saju']\n",
    "dict_args = {'age':12,'bod':2}"
   ]
  },
  {
   "cell_type": "code",
   "execution_count": 16,
   "id": "fbc430ad",
   "metadata": {},
   "outputs": [
    {
     "name": "stdout",
     "output_type": "stream",
     "text": [
      "(['sandra', 'saju'], {'age': 12, 'bod': 2})\n",
      "{}\n"
     ]
    }
   ],
   "source": [
    "hello(lst,dict_args)"
   ]
  },
  {
   "cell_type": "code",
   "execution_count": 17,
   "id": "5a53aa50",
   "metadata": {},
   "outputs": [
    {
     "name": "stdout",
     "output_type": "stream",
     "text": [
      "('sandra', 'saju')\n",
      "{'age': 12, 'bod': 2}\n"
     ]
    }
   ],
   "source": [
    "hello(*lst,**dict_args)"
   ]
  },
  {
   "cell_type": "code",
   "execution_count": 18,
   "id": "66dcdd90",
   "metadata": {},
   "outputs": [],
   "source": [
    "lst = [1,2,3,4,5,6,7]"
   ]
  },
  {
   "cell_type": "code",
   "execution_count": 19,
   "id": "3d94af80",
   "metadata": {},
   "outputs": [],
   "source": [
    "def even_odd_sum(lst):\n",
    "    even_sum = 0\n",
    "    odd_sum = 0\n",
    "    for i in lst:\n",
    "        if i%2 == 0:\n",
    "            even_sum+=i\n",
    "        else:\n",
    "            odd_sum+=i\n",
    "    return even_sum,odd_sum"
   ]
  },
  {
   "cell_type": "code",
   "execution_count": 20,
   "id": "fa5ded3e",
   "metadata": {},
   "outputs": [
    {
     "data": {
      "text/plain": [
       "(12, 16)"
      ]
     },
     "execution_count": 20,
     "metadata": {},
     "output_type": "execute_result"
    }
   ],
   "source": [
    "even_odd_sum(lst)"
   ]
  },
  {
   "cell_type": "code",
   "execution_count": null,
   "id": "562c0132",
   "metadata": {},
   "outputs": [],
   "source": []
  }
 ],
 "metadata": {
  "kernelspec": {
   "display_name": "Python 3 (ipykernel)",
   "language": "python",
   "name": "python3"
  },
  "language_info": {
   "codemirror_mode": {
    "name": "ipython",
    "version": 3
   },
   "file_extension": ".py",
   "mimetype": "text/x-python",
   "name": "python",
   "nbconvert_exporter": "python",
   "pygments_lexer": "ipython3",
   "version": "3.10.16"
  }
 },
 "nbformat": 4,
 "nbformat_minor": 5
}
