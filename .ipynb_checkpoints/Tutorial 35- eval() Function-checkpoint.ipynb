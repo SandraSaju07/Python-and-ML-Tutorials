{
 "cells": [
  {
   "cell_type": "markdown",
   "id": "3f8ca720-1a89-411b-9468-930a9aa1cce4",
   "metadata": {},
   "source": [
    "## eval() Function - Evaluating expressions dynamically"
   ]
  },
  {
   "cell_type": "markdown",
   "id": "598b59b0-f6eb-4fe7-864a-aa9be0471fb5",
   "metadata": {},
   "source": [
    "### eval() evaluates python expressions which are written as strings"
   ]
  },
  {
   "cell_type": "code",
   "execution_count": null,
   "id": "60a1d45e-456f-4087-88ae-00aa5b3479a1",
   "metadata": {},
   "outputs": [],
   "source": [
    "5*5"
   ]
  },
  {
   "cell_type": "code",
   "execution_count": null,
   "id": "35140bf8-9ee9-4461-9e08-358be7b8ff2a",
   "metadata": {},
   "outputs": [],
   "source": [
    "eval(\"5*5\")"
   ]
  },
  {
   "cell_type": "code",
   "execution_count": null,
   "id": "359cb5aa-5131-4e94-8ee8-364254916486",
   "metadata": {},
   "outputs": [],
   "source": [
    "eval(\"5*5+7/2\")"
   ]
  },
  {
   "cell_type": "code",
   "execution_count": 2,
   "id": "bb0d132d-afe1-46d0-a0b6-dbce6300c676",
   "metadata": {},
   "outputs": [
    {
     "name": "stdin",
     "output_type": "stream",
     "text": [
      "Enter the Python Expression: 5* 6\n"
     ]
    },
    {
     "data": {
      "text/plain": [
       "30"
      ]
     },
     "execution_count": 2,
     "metadata": {},
     "output_type": "execute_result"
    }
   ],
   "source": [
    "eval(input(\"Enter the Python Expression:\"))"
   ]
  },
  {
   "cell_type": "code",
   "execution_count": 3,
   "id": "9bcfcb88-d326-4799-a2c2-40856cd9b634",
   "metadata": {},
   "outputs": [
    {
     "name": "stdin",
     "output_type": "stream",
     "text": [
      "Enter the Python Expression: len([1,2,3,4,5])\n"
     ]
    },
    {
     "data": {
      "text/plain": [
       "5"
      ]
     },
     "execution_count": 3,
     "metadata": {},
     "output_type": "execute_result"
    }
   ],
   "source": [
    "eval(input(\"Enter the Python Expression:\"))"
   ]
  },
  {
   "cell_type": "code",
   "execution_count": 5,
   "id": "b0afb124-c2a7-44c3-a31a-8de036676f2c",
   "metadata": {},
   "outputs": [
    {
     "name": "stdin",
     "output_type": "stream",
     "text": [
      "Enter the Python Expression: sum([1,2,3,4,5])\n"
     ]
    },
    {
     "data": {
      "text/plain": [
       "15"
      ]
     },
     "execution_count": 5,
     "metadata": {},
     "output_type": "execute_result"
    }
   ],
   "source": [
    "eval(input(\"Enter the Python Expression:\"))"
   ]
  },
  {
   "cell_type": "code",
   "execution_count": 6,
   "id": "e5d9aa4a-7abd-43c4-a841-a8273ae21c4a",
   "metadata": {},
   "outputs": [],
   "source": [
    "def square_num(num):\n",
    "    return num**2"
   ]
  },
  {
   "cell_type": "code",
   "execution_count": 7,
   "id": "e9766a53-5e41-4269-8f4c-8babdcf7f243",
   "metadata": {},
   "outputs": [
    {
     "data": {
      "text/plain": [
       "4"
      ]
     },
     "execution_count": 7,
     "metadata": {},
     "output_type": "execute_result"
    }
   ],
   "source": [
    "eval(\"square_num(2)\")"
   ]
  },
  {
   "cell_type": "markdown",
   "id": "0585dc67-a192-40ee-8663-c71486d06713",
   "metadata": {},
   "source": [
    "## How does eval() work?\n",
    "* Parse the Python expression\n",
    "* Compile it into bytecode\n",
    "* Evaluate the expression\n",
    "* Return the evaluated result"
   ]
  },
  {
   "cell_type": "code",
   "execution_count": 9,
   "id": "efdfcf3f-8a90-4fff-beb8-265fe79a13a2",
   "metadata": {},
   "outputs": [
    {
     "data": {
      "text/plain": [
       "<code object <module> at 0x00000236B3FD8710, file \"<string>\", line 1>"
      ]
     },
     "execution_count": 9,
     "metadata": {},
     "output_type": "execute_result"
    }
   ],
   "source": [
    "var = compile(\"5*5\",\"<string>\",\"eval\")\n",
    "\n",
    "var"
   ]
  },
  {
   "cell_type": "code",
   "execution_count": 10,
   "id": "f60872ac-aee6-49c3-8d04-58b5d72be519",
   "metadata": {},
   "outputs": [
    {
     "data": {
      "text/plain": [
       "25"
      ]
     },
     "execution_count": 10,
     "metadata": {},
     "output_type": "execute_result"
    }
   ],
   "source": [
    "eval(var)"
   ]
  },
  {
   "cell_type": "markdown",
   "id": "50864164-3b80-4a0e-9e75-b128439acdb9",
   "metadata": {},
   "source": [
    "## globals parameter"
   ]
  },
  {
   "cell_type": "code",
   "execution_count": 12,
   "id": "5e4269dc-640d-4a28-a66d-7c541ad0f25f",
   "metadata": {},
   "outputs": [
    {
     "data": {
      "text/plain": [
       "10"
      ]
     },
     "execution_count": 12,
     "metadata": {},
     "output_type": "execute_result"
    }
   ],
   "source": [
    "eval(\"x+4+x**2\",{\"x\":2})"
   ]
  },
  {
   "cell_type": "code",
   "execution_count": 13,
   "id": "3a56bab3-4cae-4408-9a76-ca78859bd247",
   "metadata": {},
   "outputs": [
    {
     "data": {
      "text/plain": [
       "9"
      ]
     },
     "execution_count": 13,
     "metadata": {},
     "output_type": "execute_result"
    }
   ],
   "source": [
    "x = 3\n",
    "eval(\"x+6\",{\"x\":x})"
   ]
  },
  {
   "cell_type": "code",
   "execution_count": 15,
   "id": "ad256215-ad1c-4048-b2a2-9d873ad5ed89",
   "metadata": {},
   "outputs": [
    {
     "data": {
      "text/plain": [
       "300"
      ]
     },
     "execution_count": 15,
     "metadata": {},
     "output_type": "execute_result"
    }
   ],
   "source": [
    "x = 100\n",
    "y = 100\n",
    "\n",
    "eval(\"x+y+z\",{\"x\":x,\"y\":y,\"z\":100})"
   ]
  },
  {
   "cell_type": "code",
   "execution_count": 17,
   "id": "234a47b6-8182-41ff-94da-5a5150f0cf96",
   "metadata": {},
   "outputs": [
    {
     "data": {
      "text/plain": [
       "200"
      ]
     },
     "execution_count": 17,
     "metadata": {},
     "output_type": "execute_result"
    }
   ],
   "source": [
    "eval(\"x+y\")"
   ]
  },
  {
   "cell_type": "markdown",
   "id": "83a1b1f3-3e03-42a3-90bb-477d5cbe72e6",
   "metadata": {},
   "source": [
    "## locals parameter"
   ]
  },
  {
   "cell_type": "code",
   "execution_count": 19,
   "id": "19600d54-942f-436b-b5a1-829d2024a47a",
   "metadata": {},
   "outputs": [
    {
     "data": {
      "text/plain": [
       "20"
      ]
     },
     "execution_count": 19,
     "metadata": {},
     "output_type": "execute_result"
    }
   ],
   "source": [
    "eval(\"a+b\",{},{\"a\":10,\"b\":10})"
   ]
  },
  {
   "cell_type": "code",
   "execution_count": 20,
   "id": "45827aa7-cacf-4bc7-8f46-dab19a27605e",
   "metadata": {},
   "outputs": [
    {
     "data": {
      "text/plain": [
       "True"
      ]
     },
     "execution_count": 20,
     "metadata": {},
     "output_type": "execute_result"
    }
   ],
   "source": [
    "a = 100\n",
    "b = 200\n",
    "\n",
    "eval(\"a < b\")"
   ]
  },
  {
   "cell_type": "markdown",
   "id": "638d9381-61a8-456b-86b7-33bb05c01cf8",
   "metadata": {},
   "source": [
    "## Restricting global and local variables - by passing it as empty it will take any local or global variable reference and it is a security mechanism"
   ]
  },
  {
   "cell_type": "code",
   "execution_count": 21,
   "id": "1b589919-ad45-4745-9a13-f58a891d2bf6",
   "metadata": {},
   "outputs": [
    {
     "ename": "NameError",
     "evalue": "name 'x' is not defined",
     "output_type": "error",
     "traceback": [
      "\u001b[1;31m---------------------------------------------------------------------------\u001b[0m",
      "\u001b[1;31mNameError\u001b[0m                                 Traceback (most recent call last)",
      "Cell \u001b[1;32mIn[21], line 4\u001b[0m\n\u001b[0;32m      1\u001b[0m x \u001b[38;5;241m=\u001b[39m \u001b[38;5;241m3\u001b[39m\n\u001b[0;32m      2\u001b[0m y \u001b[38;5;241m=\u001b[39m \u001b[38;5;241m2\u001b[39m\n\u001b[1;32m----> 4\u001b[0m \u001b[38;5;28;43meval\u001b[39;49m\u001b[43m(\u001b[49m\u001b[38;5;124;43m\"\u001b[39;49m\u001b[38;5;124;43mx + y\u001b[39;49m\u001b[38;5;124;43m\"\u001b[39;49m\u001b[43m,\u001b[49m\u001b[43m{\u001b[49m\u001b[43m}\u001b[49m\u001b[43m,\u001b[49m\u001b[43m{\u001b[49m\u001b[43m}\u001b[49m\u001b[43m)\u001b[49m\n",
      "File \u001b[1;32m<string>:1\u001b[0m\n",
      "\u001b[1;31mNameError\u001b[0m: name 'x' is not defined"
     ]
    }
   ],
   "source": [
    "x = 3\n",
    "y = 2\n",
    "\n",
    "eval(\"x + y\",{},{})"
   ]
  },
  {
   "cell_type": "code",
   "execution_count": null,
   "id": "03147f6b-da5a-4fd3-8ffd-d35078177225",
   "metadata": {},
   "outputs": [],
   "source": []
  }
 ],
 "metadata": {
  "kernelspec": {
   "display_name": "Python 3 (ipykernel)",
   "language": "python",
   "name": "python3"
  },
  "language_info": {
   "codemirror_mode": {
    "name": "ipython",
    "version": 3
   },
   "file_extension": ".py",
   "mimetype": "text/x-python",
   "name": "python",
   "nbconvert_exporter": "python",
   "pygments_lexer": "ipython3",
   "version": "3.10.16"
  }
 },
 "nbformat": 4,
 "nbformat_minor": 5
}
