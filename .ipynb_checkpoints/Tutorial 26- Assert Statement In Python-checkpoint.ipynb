{
 "cells": [
  {
   "cell_type": "markdown",
   "id": "ba415281",
   "metadata": {},
   "source": [
    "## To check if a logical statement is true or false. Program execution proceeds only if the execution is true or else it raises an AssertionError. "
   ]
  },
  {
   "cell_type": "code",
   "execution_count": 5,
   "id": "b8cd7294",
   "metadata": {},
   "outputs": [],
   "source": [
    "num = 10\n",
    "assert num>=10"
   ]
  },
  {
   "cell_type": "code",
   "execution_count": 6,
   "id": "b1e5aec9",
   "metadata": {},
   "outputs": [
    {
     "ename": "AssertionError",
     "evalue": "",
     "output_type": "error",
     "traceback": [
      "\u001b[1;31m---------------------------------------------------------------------------\u001b[0m",
      "\u001b[1;31mAssertionError\u001b[0m                            Traceback (most recent call last)",
      "Input \u001b[1;32mIn [6]\u001b[0m, in \u001b[0;36m<cell line: 1>\u001b[1;34m()\u001b[0m\n\u001b[1;32m----> 1\u001b[0m \u001b[38;5;28;01massert\u001b[39;00m num\u001b[38;5;241m>\u001b[39m\u001b[38;5;241m10\u001b[39m\n",
      "\u001b[1;31mAssertionError\u001b[0m: "
     ]
    }
   ],
   "source": [
    "assert num>10"
   ]
  },
  {
   "cell_type": "code",
   "execution_count": 10,
   "id": "ed65165b",
   "metadata": {},
   "outputs": [
    {
     "name": "stdout",
     "output_type": "stream",
     "text": [
      "Enter a no:4\n",
      "The no is even\n"
     ]
    }
   ],
   "source": [
    "try:\n",
    "    num = int(input(\"Enter a no:\"))\n",
    "    assert num%2==0\n",
    "    print(\"The no is even\")\n",
    "except AssertionError:\n",
    "    print(\"Please enter even no\")"
   ]
  },
  {
   "cell_type": "code",
   "execution_count": null,
   "id": "65db5753",
   "metadata": {},
   "outputs": [],
   "source": []
  }
 ],
 "metadata": {
  "kernelspec": {
   "display_name": "Python 3 (ipykernel)",
   "language": "python",
   "name": "python3"
  },
  "language_info": {
   "codemirror_mode": {
    "name": "ipython",
    "version": 3
   },
   "file_extension": ".py",
   "mimetype": "text/x-python",
   "name": "python",
   "nbconvert_exporter": "python",
   "pygments_lexer": "ipython3",
   "version": "3.9.13"
  }
 },
 "nbformat": 4,
 "nbformat_minor": 5
}
