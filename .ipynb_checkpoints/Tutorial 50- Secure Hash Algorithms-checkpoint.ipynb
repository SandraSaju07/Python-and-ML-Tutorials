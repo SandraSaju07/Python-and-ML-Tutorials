{
 "cells": [
  {
   "cell_type": "code",
   "execution_count": 1,
   "id": "fa024eb6-c301-4496-9238-5c2cfed8f620",
   "metadata": {},
   "outputs": [],
   "source": [
    "import hashlib"
   ]
  },
  {
   "cell_type": "code",
   "execution_count": 2,
   "id": "caef860f-9241-41e6-a6fc-4e518e3da0bb",
   "metadata": {},
   "outputs": [],
   "source": [
    "test = \"Hashing Algorithms\"\n",
    "encoded_value = test.encode()"
   ]
  },
  {
   "cell_type": "markdown",
   "id": "5993dd09-c134-46a9-a47f-613a1a9d17e6",
   "metadata": {},
   "source": [
    "## SHA256"
   ]
  },
  {
   "cell_type": "code",
   "execution_count": 5,
   "id": "663b25df-1eea-4fec-aa3f-69c0407d07a9",
   "metadata": {},
   "outputs": [
    {
     "data": {
      "text/plain": [
       "'9ee7c7e3da8390ad34e3d2affe186b9d2b5b5e13da81a5fe6547ca57d9ed37ff'"
      ]
     },
     "execution_count": 5,
     "metadata": {},
     "output_type": "execute_result"
    }
   ],
   "source": [
    "hashed_object = hashlib.sha256(encoded_value)\n",
    "hashed_value = hashed_object.hexdigest()\n",
    "\n",
    "hashed_value"
   ]
  },
  {
   "cell_type": "markdown",
   "id": "12454947-0063-4f52-b2a5-6bc4544c54cd",
   "metadata": {},
   "source": [
    "## SHA384"
   ]
  },
  {
   "cell_type": "code",
   "execution_count": 4,
   "id": "3a924e2b-f755-4913-9268-e405f4c93461",
   "metadata": {},
   "outputs": [
    {
     "data": {
      "text/plain": [
       "'7949018c783ef6697ef5f3e3f91f086bd52e5a25a89bd3f1ab7857d5e55708efe72892bada08328868aec534c79c5310'"
      ]
     },
     "execution_count": 4,
     "metadata": {},
     "output_type": "execute_result"
    }
   ],
   "source": [
    "hashed_object = hashlib.sha384(encoded_value)\n",
    "hashed_value = hashed_object.hexdigest()\n",
    "\n",
    "hashed_value"
   ]
  },
  {
   "cell_type": "markdown",
   "id": "9b6987ab-5a20-4c53-b0ca-401e09431f38",
   "metadata": {},
   "source": [
    "## SHA224"
   ]
  },
  {
   "cell_type": "code",
   "execution_count": 6,
   "id": "dbc0480f-1642-45d7-a804-6f75d2b94bd1",
   "metadata": {},
   "outputs": [
    {
     "data": {
      "text/plain": [
       "'d06fe6970c6ee4adc5047c08de7fb040dd7efb155bcf36b8362b1ce8'"
      ]
     },
     "execution_count": 6,
     "metadata": {},
     "output_type": "execute_result"
    }
   ],
   "source": [
    "hashed_object = hashlib.sha224(encoded_value)\n",
    "hashed_value = hashed_object.hexdigest()\n",
    "\n",
    "hashed_value"
   ]
  },
  {
   "cell_type": "markdown",
   "id": "e093082f-9344-4905-9dd9-9caec96985d9",
   "metadata": {},
   "source": [
    "## SHA512"
   ]
  },
  {
   "cell_type": "code",
   "execution_count": 7,
   "id": "c80bc530-abbe-444c-bc4d-e097e70c1e34",
   "metadata": {},
   "outputs": [
    {
     "data": {
      "text/plain": [
       "'6d838de146a13f9804d0013e51ad9b407f2c1428947ff53bacfb0b6b39e87843331f8fbf37836bbda3c138942c6f2c956c673d4beae369c881560ac8d4f7c277'"
      ]
     },
     "execution_count": 7,
     "metadata": {},
     "output_type": "execute_result"
    }
   ],
   "source": [
    "hashed_object = hashlib.sha512(encoded_value)\n",
    "hashed_value = hashed_object.hexdigest()\n",
    "\n",
    "hashed_value"
   ]
  },
  {
   "cell_type": "markdown",
   "id": "57080f5f-b272-4c47-9db8-28477c40a58d",
   "metadata": {},
   "source": [
    "## SHA1"
   ]
  },
  {
   "cell_type": "code",
   "execution_count": 8,
   "id": "2419eb57-6f0b-4747-8f81-0d56441ed43d",
   "metadata": {},
   "outputs": [
    {
     "data": {
      "text/plain": [
       "'1cfe3384488802634a817724254cfb92a1155ce8'"
      ]
     },
     "execution_count": 8,
     "metadata": {},
     "output_type": "execute_result"
    }
   ],
   "source": [
    "hashed_object = hashlib.sha1(encoded_value)\n",
    "hashed_value = hashed_object.hexdigest()\n",
    "\n",
    "hashed_value"
   ]
  },
  {
   "cell_type": "code",
   "execution_count": null,
   "id": "b59d5272-6aa8-4387-8a9d-7a01f79fc75d",
   "metadata": {},
   "outputs": [],
   "source": []
  }
 ],
 "metadata": {
  "kernelspec": {
   "display_name": "Python 3 (ipykernel)",
   "language": "python",
   "name": "python3"
  },
  "language_info": {
   "codemirror_mode": {
    "name": "ipython",
    "version": 3
   },
   "file_extension": ".py",
   "mimetype": "text/x-python",
   "name": "python",
   "nbconvert_exporter": "python",
   "pygments_lexer": "ipython3",
   "version": "3.10.16"
  }
 },
 "nbformat": 4,
 "nbformat_minor": 5
}
