{
 "cells": [
  {
   "cell_type": "markdown",
   "id": "bc201750-4180-42fb-88e5-4d699554ec70",
   "metadata": {},
   "source": [
    "### Numba -> is a just-in-time compiler for Python that works best on code that uses NumPy arrays, functions and loops. The most common way to use Numba is through a collection of decorators that can be applied to your functions to instruct Numba to compile them. When a call is made to a Numba decatorated function it is compiled to machine code \"just-in-time\" for execution and all or part of your code can subsequently execute at native machine code speed!!!"
   ]
  },
  {
   "cell_type": "code",
   "execution_count": 1,
   "id": "1cd01c94-4dad-4160-ab28-17c92f3c3ed1",
   "metadata": {},
   "outputs": [],
   "source": [
    "from numba import jit\n",
    "import numpy as np\n",
    "import time"
   ]
  },
  {
   "cell_type": "code",
   "execution_count": 2,
   "id": "33c903d7-113d-4809-a609-b9d7fa22d388",
   "metadata": {},
   "outputs": [
    {
     "data": {
      "text/plain": [
       "array([[ 0,  1,  2,  3,  4,  5,  6,  7,  8,  9],\n",
       "       [10, 11, 12, 13, 14, 15, 16, 17, 18, 19],\n",
       "       [20, 21, 22, 23, 24, 25, 26, 27, 28, 29],\n",
       "       [30, 31, 32, 33, 34, 35, 36, 37, 38, 39],\n",
       "       [40, 41, 42, 43, 44, 45, 46, 47, 48, 49],\n",
       "       [50, 51, 52, 53, 54, 55, 56, 57, 58, 59],\n",
       "       [60, 61, 62, 63, 64, 65, 66, 67, 68, 69],\n",
       "       [70, 71, 72, 73, 74, 75, 76, 77, 78, 79],\n",
       "       [80, 81, 82, 83, 84, 85, 86, 87, 88, 89],\n",
       "       [90, 91, 92, 93, 94, 95, 96, 97, 98, 99]])"
      ]
     },
     "execution_count": 2,
     "metadata": {},
     "output_type": "execute_result"
    }
   ],
   "source": [
    "x = np.arange(100).reshape(10,10)\n",
    "x"
   ]
  },
  {
   "cell_type": "code",
   "execution_count": 3,
   "id": "4e61a025-2499-456c-83ef-6e0705a83597",
   "metadata": {},
   "outputs": [],
   "source": [
    "# Function is run and compiled in machine code\n",
    "@jit(nopython=True)\n",
    "def go_fast(a):\n",
    "    trace = 0.0\n",
    "    for i in range(a.shape[0]):\n",
    "        trace += np.tanh(a[i, i])\n",
    "    return a + trace"
   ]
  },
  {
   "cell_type": "code",
   "execution_count": 4,
   "id": "bd60484a-6db5-4e3a-a20f-d646d65b900b",
   "metadata": {},
   "outputs": [
    {
     "name": "stdout",
     "output_type": "stream",
     "text": [
      "Time Taken: 0.21304607391357422\n"
     ]
    }
   ],
   "source": [
    "# First time it will take some time to execute it\n",
    "start = time.time()\n",
    "go_fast(x)\n",
    "end = time.time()\n",
    "\n",
    "print(f\"Time Taken: {end - start}\")"
   ]
  },
  {
   "cell_type": "code",
   "execution_count": 5,
   "id": "7869c8ac-b905-410f-b8f7-ea2ba283bb9d",
   "metadata": {},
   "outputs": [
    {
     "name": "stdout",
     "output_type": "stream",
     "text": [
      "Time Taken: 0.0001270771026611328\n"
     ]
    }
   ],
   "source": [
    "# Next time it wont take much time since it will be getting executed from the cache stored\n",
    "start = time.time()\n",
    "go_fast(x)\n",
    "end = time.time()\n",
    "\n",
    "print(f\"Time Taken: {end - start}\")"
   ]
  },
  {
   "cell_type": "code",
   "execution_count": 6,
   "id": "29cfaad0-ed3d-440f-b5a6-b7284d2c89b1",
   "metadata": {},
   "outputs": [
    {
     "data": {
      "text/plain": [
       "array([[  9.,  10.,  11.,  12.,  13.,  14.,  15.,  16.,  17.,  18.],\n",
       "       [ 19.,  20.,  21.,  22.,  23.,  24.,  25.,  26.,  27.,  28.],\n",
       "       [ 29.,  30.,  31.,  32.,  33.,  34.,  35.,  36.,  37.,  38.],\n",
       "       [ 39.,  40.,  41.,  42.,  43.,  44.,  45.,  46.,  47.,  48.],\n",
       "       [ 49.,  50.,  51.,  52.,  53.,  54.,  55.,  56.,  57.,  58.],\n",
       "       [ 59.,  60.,  61.,  62.,  63.,  64.,  65.,  66.,  67.,  68.],\n",
       "       [ 69.,  70.,  71.,  72.,  73.,  74.,  75.,  76.,  77.,  78.],\n",
       "       [ 79.,  80.,  81.,  82.,  83.,  84.,  85.,  86.,  87.,  88.],\n",
       "       [ 89.,  90.,  91.,  92.,  93.,  94.,  95.,  96.,  97.,  98.],\n",
       "       [ 99., 100., 101., 102., 103., 104., 105., 106., 107., 108.]])"
      ]
     },
     "execution_count": 6,
     "metadata": {},
     "output_type": "execute_result"
    }
   ],
   "source": [
    "go_fast(x)"
   ]
  },
  {
   "cell_type": "code",
   "execution_count": null,
   "id": "beb25f3e-0d98-4bd4-8d02-4d35d08be861",
   "metadata": {},
   "outputs": [],
   "source": []
  }
 ],
 "metadata": {
  "kernelspec": {
   "display_name": "Python 3 (ipykernel)",
   "language": "python",
   "name": "python3"
  },
  "language_info": {
   "codemirror_mode": {
    "name": "ipython",
    "version": 3
   },
   "file_extension": ".py",
   "mimetype": "text/x-python",
   "name": "python",
   "nbconvert_exporter": "python",
   "pygments_lexer": "ipython3",
   "version": "3.10.16"
  }
 },
 "nbformat": 4,
 "nbformat_minor": 5
}
