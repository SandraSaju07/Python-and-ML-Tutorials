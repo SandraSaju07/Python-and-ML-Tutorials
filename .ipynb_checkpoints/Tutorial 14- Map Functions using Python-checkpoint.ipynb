{
 "cells": [
  {
   "cell_type": "code",
   "execution_count": 6,
   "id": "1134d0aa",
   "metadata": {},
   "outputs": [],
   "source": [
    "def even_or_odd(num):\n",
    "    if num%2==0: \n",
    "        print(\"The number {} is Even\".format(num))\n",
    "    else:\n",
    "        print(\"The number {} is Odd\".format(num))"
   ]
  },
  {
   "cell_type": "code",
   "execution_count": 7,
   "id": "3f26455a",
   "metadata": {},
   "outputs": [
    {
     "name": "stdout",
     "output_type": "stream",
     "text": [
      "The number 12 is Even\n"
     ]
    }
   ],
   "source": [
    "even_or_odd(12)"
   ]
  },
  {
   "cell_type": "code",
   "execution_count": 8,
   "id": "a0d0a27c",
   "metadata": {},
   "outputs": [],
   "source": [
    "lst = [2,3,5,1,6,8,11,23,24,56,78,90]"
   ]
  },
  {
   "cell_type": "code",
   "execution_count": 9,
   "id": "e89eea27",
   "metadata": {},
   "outputs": [
    {
     "name": "stdout",
     "output_type": "stream",
     "text": [
      "The number 2 is Even\n",
      "The number 3 is Odd\n",
      "The number 5 is Odd\n",
      "The number 1 is Odd\n",
      "The number 6 is Even\n",
      "The number 8 is Even\n",
      "The number 11 is Odd\n",
      "The number 23 is Odd\n",
      "The number 24 is Even\n",
      "The number 56 is Even\n",
      "The number 78 is Even\n",
      "The number 90 is Even\n"
     ]
    },
    {
     "data": {
      "text/plain": [
       "[None, None, None, None, None, None, None, None, None, None, None, None]"
      ]
     },
     "execution_count": 9,
     "metadata": {},
     "output_type": "execute_result"
    }
   ],
   "source": [
    "list(map(even_or_odd,lst))"
   ]
  },
  {
   "cell_type": "code",
   "execution_count": null,
   "id": "4efee488",
   "metadata": {},
   "outputs": [],
   "source": []
  }
 ],
 "metadata": {
  "kernelspec": {
   "display_name": "Python 3 (ipykernel)",
   "language": "python",
   "name": "python3"
  },
  "language_info": {
   "codemirror_mode": {
    "name": "ipython",
    "version": 3
   },
   "file_extension": ".py",
   "mimetype": "text/x-python",
   "name": "python",
   "nbconvert_exporter": "python",
   "pygments_lexer": "ipython3",
   "version": "3.10.16"
  }
 },
 "nbformat": 4,
 "nbformat_minor": 5
}
