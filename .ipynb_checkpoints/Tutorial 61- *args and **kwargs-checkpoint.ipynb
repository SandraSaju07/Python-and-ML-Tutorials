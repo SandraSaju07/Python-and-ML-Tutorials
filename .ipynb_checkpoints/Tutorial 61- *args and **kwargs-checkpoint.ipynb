{
 "cells": [
  {
   "cell_type": "code",
   "execution_count": 1,
   "id": "6d99a38e-0250-4754-9840-9fd362173918",
   "metadata": {},
   "outputs": [],
   "source": [
    "def fun(*args):\n",
    "    s = sum([*args])\n",
    "    return s"
   ]
  },
  {
   "cell_type": "code",
   "execution_count": 2,
   "id": "32d748ab-c6f5-4731-8e7d-f827757b17b5",
   "metadata": {},
   "outputs": [
    {
     "data": {
      "text/plain": [
       "21"
      ]
     },
     "execution_count": 2,
     "metadata": {},
     "output_type": "execute_result"
    }
   ],
   "source": [
    "s = fun(2,3,1,4,5,6)\n",
    "\n",
    "s"
   ]
  },
  {
   "cell_type": "code",
   "execution_count": 3,
   "id": "b7eede62-4d0d-435c-9c28-f3c1507332b5",
   "metadata": {},
   "outputs": [
    {
     "data": {
      "text/plain": [
       "5"
      ]
     },
     "execution_count": 3,
     "metadata": {},
     "output_type": "execute_result"
    }
   ],
   "source": [
    "s = fun(2,3)\n",
    "\n",
    "s"
   ]
  },
  {
   "cell_type": "code",
   "execution_count": 4,
   "id": "6780b10c-1d05-425c-abd4-f26dd4c31259",
   "metadata": {},
   "outputs": [
    {
     "data": {
      "text/plain": [
       "1"
      ]
     },
     "execution_count": 4,
     "metadata": {},
     "output_type": "execute_result"
    }
   ],
   "source": [
    "s = fun(1)\n",
    "\n",
    "s"
   ]
  },
  {
   "cell_type": "code",
   "execution_count": 5,
   "id": "32ef081d-3486-4e5f-832f-b1672d392c29",
   "metadata": {},
   "outputs": [
    {
     "data": {
      "text/plain": [
       "15"
      ]
     },
     "execution_count": 5,
     "metadata": {},
     "output_type": "execute_result"
    }
   ],
   "source": [
    "s = fun(2,3,4,6)\n",
    "\n",
    "s"
   ]
  },
  {
   "cell_type": "code",
   "execution_count": 6,
   "id": "3cd0bef7-ab23-4729-ac5e-b07e2870f086",
   "metadata": {},
   "outputs": [],
   "source": [
    "def fun(*args):\n",
    "    for arg in args:\n",
    "        print(arg)"
   ]
  },
  {
   "cell_type": "code",
   "execution_count": 7,
   "id": "3c2fed49-f6d8-4b60-b592-4676434f0eb4",
   "metadata": {},
   "outputs": [
    {
     "name": "stdout",
     "output_type": "stream",
     "text": [
      "1\n",
      "2\n",
      "3\n",
      "4\n",
      "5\n",
      "6\n"
     ]
    }
   ],
   "source": [
    "fun(1,2,3,4,5,6)"
   ]
  },
  {
   "cell_type": "code",
   "execution_count": 8,
   "id": "667eb228-401e-46fc-aa3c-4a6c108bc6ad",
   "metadata": {},
   "outputs": [],
   "source": [
    "def fun(**kwargs):\n",
    "    for k,v in kwargs.items():\n",
    "        print(k,v)"
   ]
  },
  {
   "cell_type": "code",
   "execution_count": 9,
   "id": "17c65097-c1a2-4da3-b327-d35ec86cefd4",
   "metadata": {},
   "outputs": [
    {
     "name": "stdout",
     "output_type": "stream",
     "text": [
      "name Alice\n",
      "age 25\n",
      "city New York\n"
     ]
    }
   ],
   "source": [
    "fun(name=\"Alice\", age=25, city=\"New York\")"
   ]
  },
  {
   "cell_type": "code",
   "execution_count": 10,
   "id": "7eca8c11-df05-4636-bd5e-30b6ba82efdc",
   "metadata": {},
   "outputs": [
    {
     "name": "stdout",
     "output_type": "stream",
     "text": [
      "a 1\n",
      "b 2\n",
      "c 3\n"
     ]
    }
   ],
   "source": [
    "fun(a = 1, b = 2, c = 3)"
   ]
  },
  {
   "cell_type": "code",
   "execution_count": 11,
   "id": "4ca32ebb-6372-4d3f-9e6c-973a81cd1279",
   "metadata": {},
   "outputs": [],
   "source": [
    "def fun(**kwargs):\n",
    "    name = kwargs.get(\"name\", \"Unknown\")\n",
    "    age = kwargs.get(\"age\", 0)\n",
    "    print(f\"Name is {name} and Age is {age}\")"
   ]
  },
  {
   "cell_type": "code",
   "execution_count": 12,
   "id": "6d9f9b4b-704e-4db5-92f5-c1ecb2305df3",
   "metadata": {},
   "outputs": [
    {
     "name": "stdout",
     "output_type": "stream",
     "text": [
      "Name is Ann and Age is 0\n",
      "Name is Unknown and Age is 23\n",
      "Name is Unknown and Age is 0\n"
     ]
    }
   ],
   "source": [
    "fun(name = \"Ann\")\n",
    "fun(age = 23)\n",
    "fun()"
   ]
  },
  {
   "cell_type": "code",
   "execution_count": 13,
   "id": "d637e874-39e8-4cc3-b3c3-e493f61584d8",
   "metadata": {},
   "outputs": [],
   "source": [
    "def fun(greetings, **kwargs):\n",
    "    print(greetings)\n",
    "    for k,v in kwargs.items():\n",
    "        print(f\"{k}:{v}\")"
   ]
  },
  {
   "cell_type": "code",
   "execution_count": 14,
   "id": "5425608b-2ef9-4b85-b4bd-0952a91502c2",
   "metadata": {},
   "outputs": [
    {
     "name": "stdout",
     "output_type": "stream",
     "text": [
      "Hello\n",
      "name:Cat\n",
      "age:23\n",
      "job:SE\n"
     ]
    }
   ],
   "source": [
    "fun(\"Hello\", name = \"Cat\", age = 23, job = \"SE\")"
   ]
  },
  {
   "cell_type": "code",
   "execution_count": 15,
   "id": "87b61c0d-b1a4-4b4f-bf0a-e44eb305cad4",
   "metadata": {},
   "outputs": [],
   "source": [
    "def fun(*args, **kwargs):\n",
    "    print(args)\n",
    "    print(kwargs)"
   ]
  },
  {
   "cell_type": "code",
   "execution_count": 16,
   "id": "b7c42c4e-fa6a-4b23-b490-b129c6017781",
   "metadata": {},
   "outputs": [
    {
     "name": "stdout",
     "output_type": "stream",
     "text": [
      "(1, 2, 3, 4)\n",
      "{'name': 'Alice', 'age': 23}\n"
     ]
    }
   ],
   "source": [
    "fun(1,2,3,4, name = \"Alice\", age = 23)"
   ]
  },
  {
   "cell_type": "code",
   "execution_count": 17,
   "id": "31f8e133-57b8-448b-b5ce-016077bbe374",
   "metadata": {},
   "outputs": [],
   "source": [
    "class Person:\n",
    "    def __init__(self, **kwargs):\n",
    "        self.name = kwargs.get(\"name\", \"Unknown\")\n",
    "        self.age = kwargs.get(\"age\", 0)\n",
    "\n",
    "    def show(self):\n",
    "        print(f\"Name: {self.name} Age: {self.age}\")"
   ]
  },
  {
   "cell_type": "code",
   "execution_count": 18,
   "id": "28cce61f-2166-401b-8e33-51ec65afe14c",
   "metadata": {},
   "outputs": [
    {
     "name": "stdout",
     "output_type": "stream",
     "text": [
      "Name: Alice Age: 2\n"
     ]
    }
   ],
   "source": [
    "p = Person(name = \"Alice\", age = 2)\n",
    "p.show()"
   ]
  },
  {
   "cell_type": "code",
   "execution_count": null,
   "id": "6663b58e-29ed-4afa-ac1c-07011f41b8d0",
   "metadata": {},
   "outputs": [],
   "source": []
  }
 ],
 "metadata": {
  "kernelspec": {
   "display_name": "Python 3 (ipykernel)",
   "language": "python",
   "name": "python3"
  },
  "language_info": {
   "codemirror_mode": {
    "name": "ipython",
    "version": 3
   },
   "file_extension": ".py",
   "mimetype": "text/x-python",
   "name": "python",
   "nbconvert_exporter": "python",
   "pygments_lexer": "ipython3",
   "version": "3.10.16"
  }
 },
 "nbformat": 4,
 "nbformat_minor": 5
}
