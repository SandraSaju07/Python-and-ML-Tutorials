{
 "cells": [
  {
   "cell_type": "markdown",
   "id": "06931bb4-db09-4d0d-9831-a03e5f8c6050",
   "metadata": {},
   "source": [
    "## IS vs =="
   ]
  },
  {
   "cell_type": "code",
   "execution_count": 1,
   "id": "7d32504c-9e32-4504-b30b-b4129a238f23",
   "metadata": {},
   "outputs": [],
   "source": [
    "list1 = ['sandra','sandra1','sandra2']\n",
    "list2 = ['sandra','sandra1','sandra2']"
   ]
  },
  {
   "cell_type": "code",
   "execution_count": 2,
   "id": "9fa9c3e8-2deb-4d88-93c0-b11e462caf3b",
   "metadata": {},
   "outputs": [
    {
     "data": {
      "text/plain": [
       "True"
      ]
     },
     "execution_count": 2,
     "metadata": {},
     "output_type": "execute_result"
    }
   ],
   "source": [
    "list1 == list2"
   ]
  },
  {
   "cell_type": "code",
   "execution_count": 3,
   "id": "23ac69b4-123a-453b-9d96-e45826624d74",
   "metadata": {},
   "outputs": [],
   "source": [
    "list1 = ['sandra']"
   ]
  },
  {
   "cell_type": "code",
   "execution_count": 4,
   "id": "cbe723bf-3cc7-4303-9901-38114970b2da",
   "metadata": {},
   "outputs": [
    {
     "data": {
      "text/plain": [
       "False"
      ]
     },
     "execution_count": 4,
     "metadata": {},
     "output_type": "execute_result"
    }
   ],
   "source": [
    "list1 == list2"
   ]
  },
  {
   "cell_type": "code",
   "execution_count": 5,
   "id": "ad2879b9-30ee-4ba6-9ea8-37d25ddb9254",
   "metadata": {},
   "outputs": [],
   "source": [
    "a = 'sandra'\n",
    "b = 'sandra'"
   ]
  },
  {
   "cell_type": "code",
   "execution_count": 6,
   "id": "a5a3484d-6d0d-441f-880e-d6f8b6f6ec74",
   "metadata": {},
   "outputs": [
    {
     "data": {
      "text/plain": [
       "True"
      ]
     },
     "execution_count": 6,
     "metadata": {},
     "output_type": "execute_result"
    }
   ],
   "source": [
    "a == b"
   ]
  },
  {
   "cell_type": "code",
   "execution_count": 7,
   "id": "bd9f8d13-4ba3-4bbf-9660-9eb92c6ec718",
   "metadata": {},
   "outputs": [
    {
     "data": {
      "text/plain": [
       "True"
      ]
     },
     "execution_count": 7,
     "metadata": {},
     "output_type": "execute_result"
    }
   ],
   "source": [
    "a is b"
   ]
  },
  {
   "cell_type": "code",
   "execution_count": 11,
   "id": "926d9cb5-7572-4160-9d89-e48b4effbc15",
   "metadata": {},
   "outputs": [],
   "source": [
    "# When we are assigning 2 lists like this these 2 lists will get stored in 2 different locations\n",
    "list1 = ['sandra','sandra1','sandra2']\n",
    "list2 = ['sandra','sandra1','sandra2']"
   ]
  },
  {
   "cell_type": "code",
   "execution_count": 12,
   "id": "639746c7-0aaf-4dd8-bb9c-6eb3102c4c48",
   "metadata": {},
   "outputs": [
    {
     "data": {
      "text/plain": [
       "True"
      ]
     },
     "execution_count": 12,
     "metadata": {},
     "output_type": "execute_result"
    }
   ],
   "source": [
    "list1 == list2"
   ]
  },
  {
   "cell_type": "code",
   "execution_count": 13,
   "id": "949fb8c1-4c19-4f44-983c-f5724971952c",
   "metadata": {},
   "outputs": [
    {
     "data": {
      "text/plain": [
       "False"
      ]
     },
     "execution_count": 13,
     "metadata": {},
     "output_type": "execute_result"
    }
   ],
   "source": [
    "list1 is list2"
   ]
  },
  {
   "cell_type": "code",
   "execution_count": 14,
   "id": "52144e4b-b376-47f3-93f5-c6a2556cdb06",
   "metadata": {},
   "outputs": [],
   "source": [
    "list1 = ['sandra','sandra1','sandra2']\n",
    "list2 = list1"
   ]
  },
  {
   "cell_type": "code",
   "execution_count": 15,
   "id": "d6e0873f-2a7a-437a-a9d7-97ce145ab759",
   "metadata": {},
   "outputs": [
    {
     "data": {
      "text/plain": [
       "True"
      ]
     },
     "execution_count": 15,
     "metadata": {},
     "output_type": "execute_result"
    }
   ],
   "source": [
    "list1 == list2"
   ]
  },
  {
   "cell_type": "code",
   "execution_count": 16,
   "id": "5d6b9ad4-08f3-44ea-91aa-4f590965a7eb",
   "metadata": {},
   "outputs": [
    {
     "data": {
      "text/plain": [
       "True"
      ]
     },
     "execution_count": 16,
     "metadata": {},
     "output_type": "execute_result"
    }
   ],
   "source": [
    "list1 is list2"
   ]
  },
  {
   "cell_type": "code",
   "execution_count": 17,
   "id": "f6e3c7ae-816b-4929-8d00-86acd3ecaec1",
   "metadata": {},
   "outputs": [
    {
     "data": {
      "text/plain": [
       "True"
      ]
     },
     "execution_count": 17,
     "metadata": {},
     "output_type": "execute_result"
    }
   ],
   "source": [
    "list2 is list1"
   ]
  },
  {
   "cell_type": "markdown",
   "id": "844b849f-d4cb-46b3-8227-503d0a480476",
   "metadata": {},
   "source": [
    "## Here in above case both variables are referring to the same memory location. Only one memory location object is getting created and thats why when we use IS keyword it is giving us True. But in the other case 2 memory locations are created and == will compare contents in both the memory locations."
   ]
  },
  {
   "cell_type": "code",
   "execution_count": 19,
   "id": "c37d9bbc-972b-4457-bf52-895df7d678a4",
   "metadata": {},
   "outputs": [],
   "source": [
    "list2[0] = 'ciya'"
   ]
  },
  {
   "cell_type": "code",
   "execution_count": 20,
   "id": "454e4548-a3a0-4f87-9805-bc36ef1185c6",
   "metadata": {},
   "outputs": [
    {
     "data": {
      "text/plain": [
       "['ciya', 'sandra1', 'sandra2']"
      ]
     },
     "execution_count": 20,
     "metadata": {},
     "output_type": "execute_result"
    }
   ],
   "source": [
    "list2"
   ]
  },
  {
   "cell_type": "code",
   "execution_count": 21,
   "id": "fab204f4-250d-4d92-9972-83c6e12c5e3b",
   "metadata": {},
   "outputs": [
    {
     "data": {
      "text/plain": [
       "['ciya', 'sandra1', 'sandra2']"
      ]
     },
     "execution_count": 21,
     "metadata": {},
     "output_type": "execute_result"
    }
   ],
   "source": [
    "list1"
   ]
  },
  {
   "cell_type": "markdown",
   "id": "fa821cf9-5aed-4fd7-88e6-aa554ac1b55e",
   "metadata": {},
   "source": [
    "## Both the lists got updated. If both variables are referring to the same memory location both will definitely get updated. To avoid this problem we can use deep copy which will create different memory location for the new variable."
   ]
  },
  {
   "cell_type": "code",
   "execution_count": null,
   "id": "41a538a8-03c6-42a7-a1f6-0f31a955932f",
   "metadata": {},
   "outputs": [],
   "source": []
  }
 ],
 "metadata": {
  "kernelspec": {
   "display_name": "Python 3 (ipykernel)",
   "language": "python",
   "name": "python3"
  },
  "language_info": {
   "codemirror_mode": {
    "name": "ipython",
    "version": 3
   },
   "file_extension": ".py",
   "mimetype": "text/x-python",
   "name": "python",
   "nbconvert_exporter": "python",
   "pygments_lexer": "ipython3",
   "version": "3.9.19"
  }
 },
 "nbformat": 4,
 "nbformat_minor": 5
}
