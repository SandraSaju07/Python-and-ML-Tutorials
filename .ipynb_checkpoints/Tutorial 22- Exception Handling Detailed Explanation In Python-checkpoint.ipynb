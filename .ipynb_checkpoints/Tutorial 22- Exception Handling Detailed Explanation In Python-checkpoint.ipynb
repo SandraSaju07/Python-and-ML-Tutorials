{
 "cells": [
  {
   "cell_type": "code",
   "execution_count": 7,
   "id": "63eb2db5",
   "metadata": {},
   "outputs": [
    {
     "name": "stdout",
     "output_type": "stream",
     "text": [
      "name 'b' is not defined\n",
      "User has not defined the variable\n"
     ]
    }
   ],
   "source": [
    "try:\n",
    "    a=b\n",
    "except NameError as ex1:\n",
    "    print(ex1)\n",
    "    print('User has not defined the variable')\n",
    "except Exception as ex:\n",
    "    print(ex)"
   ]
  },
  {
   "cell_type": "code",
   "execution_count": 8,
   "id": "e89152f3",
   "metadata": {},
   "outputs": [
    {
     "name": "stdout",
     "output_type": "stream",
     "text": [
      "unsupported operand type(s) for +: 'int' and 'str'\n"
     ]
    }
   ],
   "source": [
    "try:\n",
    "    a = 1\n",
    "    b = 'asdas'\n",
    "    c = a+b\n",
    "except NameError as ex1:\n",
    "    print(\"User has not defined the variable\")\n",
    "except Exception as ex:\n",
    "    print(ex)"
   ]
  },
  {
   "cell_type": "code",
   "execution_count": 9,
   "id": "bb368f60",
   "metadata": {},
   "outputs": [
    {
     "name": "stdout",
     "output_type": "stream",
     "text": [
      "Try to make datatypes similar\n"
     ]
    }
   ],
   "source": [
    "try:\n",
    "    a = 1\n",
    "    b = 'adas'\n",
    "    c = a+b\n",
    "except NameError:\n",
    "    print(\"User has not defined the variable\")\n",
    "except TypeError:\n",
    "    print(\"Try to make datatypes similar\")\n",
    "except Exception as ex:\n",
    "    print(ex)"
   ]
  },
  {
   "cell_type": "code",
   "execution_count": 18,
   "id": "961abfe4",
   "metadata": {},
   "outputs": [
    {
     "name": "stdout",
     "output_type": "stream",
     "text": [
      "Enter first no:12\n",
      "Enter second no:4\n",
      "16\n",
      "48\n",
      "3.0\n",
      "Successfully executed the operations between variables, 12, 4\n",
      "This will get executed only if the excpetions dont get caught\n"
     ]
    }
   ],
   "source": [
    "## try else\n",
    "\n",
    "try:\n",
    "    a = int(input(\"Enter first no:\"))\n",
    "    b = int(input(\"Enter second no:\"))\n",
    "    c = a+b\n",
    "    d = a*b\n",
    "    e = a/b\n",
    "    print(c,d,e,sep=\"\\n\")\n",
    "except NameError:\n",
    "    print(\"User has defined not the variable\")\n",
    "except TypeError:\n",
    "    print(\"Try to make datatypes similar\")\n",
    "except ZeroDivisionError:\n",
    "    print('Please provide a no greater than zero')\n",
    "except Exception as ex:\n",
    "    print(ex)\n",
    "else:\n",
    "    print(\"Successfully executed the operations between variables, {}, {}\".format(a,b))\n",
    "    print(\"This will get executed only if the excpetions dont get caught\")"
   ]
  },
  {
   "cell_type": "code",
   "execution_count": 20,
   "id": "ae46a2ca",
   "metadata": {},
   "outputs": [
    {
     "name": "stdout",
     "output_type": "stream",
     "text": [
      "Enter first no:12\n",
      "Enter second no:4\n",
      "16\n",
      "48\n",
      "3.0\n",
      "Successfully executed the operations between variables, 12, 4\n",
      "This will get executed only if the excpetions dont get caught\n",
      "The program has ran\n"
     ]
    }
   ],
   "source": [
    "## try else finally\n",
    "\n",
    "## try else\n",
    "\n",
    "try:\n",
    "    a = int(input(\"Enter first no:\"))\n",
    "    b = int(input(\"Enter second no:\"))\n",
    "    c = a+b\n",
    "    d = a*b\n",
    "    e = a/b\n",
    "    print(c,d,e,sep=\"\\n\")\n",
    "except NameError:\n",
    "    print(\"User has defined not the variable\")\n",
    "except TypeError:\n",
    "    print(\"Try to make datatypes similar\")\n",
    "except ZeroDivisionError:\n",
    "    print('Please provide a no greater than zero')\n",
    "except Exception as ex:\n",
    "    print(ex)\n",
    "else:\n",
    "    print(\"Successfully executed the operations between variables, {}, {}\".format(a,b))\n",
    "    print(\"This will get executed only if the excpetions dont get caught\")\n",
    "finally:\n",
    "    print(\"The program has ran\")"
   ]
  },
  {
   "cell_type": "code",
   "execution_count": null,
   "id": "577adafa",
   "metadata": {},
   "outputs": [],
   "source": []
  }
 ],
 "metadata": {
  "kernelspec": {
   "display_name": "Python 3 (ipykernel)",
   "language": "python",
   "name": "python3"
  },
  "language_info": {
   "codemirror_mode": {
    "name": "ipython",
    "version": 3
   },
   "file_extension": ".py",
   "mimetype": "text/x-python",
   "name": "python",
   "nbconvert_exporter": "python",
   "pygments_lexer": "ipython3",
   "version": "3.10.16"
  }
 },
 "nbformat": 4,
 "nbformat_minor": 5
}
