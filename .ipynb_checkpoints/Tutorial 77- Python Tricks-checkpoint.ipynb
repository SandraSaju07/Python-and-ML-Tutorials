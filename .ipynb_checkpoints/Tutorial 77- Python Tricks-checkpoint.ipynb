{
 "cells": [
  {
   "cell_type": "code",
   "execution_count": 1,
   "id": "53925edd-ce1a-46e6-9d74-4f2a5d509863",
   "metadata": {},
   "outputs": [],
   "source": [
    "import time"
   ]
  },
  {
   "cell_type": "code",
   "execution_count": 2,
   "id": "232010f0-9f10-4d1d-bded-e14438a807f0",
   "metadata": {},
   "outputs": [],
   "source": [
    "def connect() -> None:\n",
    "    print(\"Connecting to internet...\")\n",
    "    time.sleep(3)\n",
    "    print(\"You are connected\")"
   ]
  },
  {
   "cell_type": "code",
   "execution_count": 3,
   "id": "a5cd2047-12f0-4c92-b58e-26cd79fe0238",
   "metadata": {},
   "outputs": [
    {
     "name": "stdout",
     "output_type": "stream",
     "text": [
      "Connecting to internet...\n",
      "You are connected\n"
     ]
    }
   ],
   "source": [
    "connect()"
   ]
  },
  {
   "cell_type": "code",
   "execution_count": null,
   "id": "1b84ec95-16ca-43d2-b28b-72dabe9440af",
   "metadata": {},
   "outputs": [],
   "source": []
  }
 ],
 "metadata": {
  "kernelspec": {
   "display_name": "Python 3 (ipykernel)",
   "language": "python",
   "name": "python3"
  },
  "language_info": {
   "codemirror_mode": {
    "name": "ipython",
    "version": 3
   },
   "file_extension": ".py",
   "mimetype": "text/x-python",
   "name": "python",
   "nbconvert_exporter": "python",
   "pygments_lexer": "ipython3",
   "version": "3.10.16"
  }
 },
 "nbformat": 4,
 "nbformat_minor": 5
}
