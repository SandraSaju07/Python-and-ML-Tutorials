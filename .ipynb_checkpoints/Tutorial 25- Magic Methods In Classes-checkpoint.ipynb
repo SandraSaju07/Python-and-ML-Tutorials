{
 "cells": [
  {
   "cell_type": "code",
   "execution_count": 22,
   "id": "9501ddb7",
   "metadata": {},
   "outputs": [],
   "source": [
    "class Car:\n",
    "    def __init__(self,windows,doors,enginetype):\n",
    "        self.windows = windows\n",
    "        self.doors = doors\n",
    "        self.enginetype = enginetype\n",
    "    def drive(self):\n",
    "        print(\"The person drives the car\")"
   ]
  },
  {
   "cell_type": "code",
   "execution_count": 23,
   "id": "bc635024",
   "metadata": {},
   "outputs": [],
   "source": [
    "c = Car(4,5,'Petrol')"
   ]
  },
  {
   "cell_type": "code",
   "execution_count": 24,
   "id": "901bca78",
   "metadata": {},
   "outputs": [
    {
     "data": {
      "text/plain": [
       "<__main__.Car at 0x287b78c4b50>"
      ]
     },
     "execution_count": 24,
     "metadata": {},
     "output_type": "execute_result"
    }
   ],
   "source": [
    "c"
   ]
  },
  {
   "cell_type": "code",
   "execution_count": 25,
   "id": "8247cb62",
   "metadata": {},
   "outputs": [
    {
     "data": {
      "text/plain": [
       "['__class__',\n",
       " '__delattr__',\n",
       " '__dict__',\n",
       " '__dir__',\n",
       " '__doc__',\n",
       " '__eq__',\n",
       " '__format__',\n",
       " '__ge__',\n",
       " '__getattribute__',\n",
       " '__gt__',\n",
       " '__hash__',\n",
       " '__init__',\n",
       " '__init_subclass__',\n",
       " '__le__',\n",
       " '__lt__',\n",
       " '__module__',\n",
       " '__ne__',\n",
       " '__new__',\n",
       " '__reduce__',\n",
       " '__reduce_ex__',\n",
       " '__repr__',\n",
       " '__setattr__',\n",
       " '__sizeof__',\n",
       " '__str__',\n",
       " '__subclasshook__',\n",
       " '__weakref__',\n",
       " 'doors',\n",
       " 'drive',\n",
       " 'enginetype',\n",
       " 'windows']"
      ]
     },
     "execution_count": 25,
     "metadata": {},
     "output_type": "execute_result"
    }
   ],
   "source": [
    "dir(c)"
   ]
  },
  {
   "cell_type": "code",
   "execution_count": 26,
   "id": "6c1bd4ac",
   "metadata": {},
   "outputs": [
    {
     "name": "stdout",
     "output_type": "stream",
     "text": [
      "<__main__.Car object at 0x00000287B78C4B50>\n"
     ]
    }
   ],
   "source": [
    "print(c)"
   ]
  },
  {
   "cell_type": "code",
   "execution_count": 27,
   "id": "f9ba86c1",
   "metadata": {},
   "outputs": [
    {
     "data": {
      "text/plain": [
       "32"
      ]
     },
     "execution_count": 27,
     "metadata": {},
     "output_type": "execute_result"
    }
   ],
   "source": [
    "c.__sizeof__()"
   ]
  },
  {
   "cell_type": "code",
   "execution_count": 28,
   "id": "b049f6a1",
   "metadata": {},
   "outputs": [],
   "source": [
    "class Car:\n",
    "    def __init__(self,windows,doors,enginetype):\n",
    "        self.windows = windows\n",
    "        self.doors = doors\n",
    "        self.enginetype = enginetype\n",
    "    def __str__(self):\n",
    "        return \"The object has been initialized\"\n",
    "    def drive(self):\n",
    "        print(\"The person drives the car\")"
   ]
  },
  {
   "cell_type": "code",
   "execution_count": 29,
   "id": "257914fe",
   "metadata": {},
   "outputs": [],
   "source": [
    "c = Car(3,4,'Diesel')"
   ]
  },
  {
   "cell_type": "code",
   "execution_count": 30,
   "id": "eca02d77",
   "metadata": {},
   "outputs": [
    {
     "data": {
      "text/plain": [
       "<__main__.Car at 0x287b797e400>"
      ]
     },
     "execution_count": 30,
     "metadata": {},
     "output_type": "execute_result"
    }
   ],
   "source": [
    "c"
   ]
  },
  {
   "cell_type": "code",
   "execution_count": 31,
   "id": "5d708af2",
   "metadata": {},
   "outputs": [
    {
     "name": "stdout",
     "output_type": "stream",
     "text": [
      "The object has been initialized\n"
     ]
    }
   ],
   "source": [
    "print(c)"
   ]
  },
  {
   "cell_type": "code",
   "execution_count": 32,
   "id": "fb8a2762",
   "metadata": {},
   "outputs": [
    {
     "data": {
      "text/plain": [
       "32"
      ]
     },
     "execution_count": 32,
     "metadata": {},
     "output_type": "execute_result"
    }
   ],
   "source": [
    "c.__sizeof__()"
   ]
  },
  {
   "cell_type": "code",
   "execution_count": 51,
   "id": "16d395c9",
   "metadata": {},
   "outputs": [],
   "source": [
    "class Car:\n",
    "    def __init__(self,windows,doors,enginetype):\n",
    "        self.windows = windows\n",
    "        self.doors = doors\n",
    "        self.enginetype = enginetype\n",
    "    def __str__(self):\n",
    "        return \"The object has been initialized\"\n",
    "    def __sizeof__(self):\n",
    "        return \"This displays the size of the object\"\n",
    "    def drive(self):\n",
    "        print(\"The person drives the car\")"
   ]
  },
  {
   "cell_type": "code",
   "execution_count": 52,
   "id": "c485f255",
   "metadata": {},
   "outputs": [],
   "source": [
    "c = Car(3,2,'Petrol')\n"
   ]
  },
  {
   "cell_type": "code",
   "execution_count": 53,
   "id": "2864eef1",
   "metadata": {},
   "outputs": [
    {
     "data": {
      "text/plain": [
       "'This displays the size of the object'"
      ]
     },
     "execution_count": 53,
     "metadata": {},
     "output_type": "execute_result"
    }
   ],
   "source": [
    "c.__sizeof__()"
   ]
  },
  {
   "cell_type": "code",
   "execution_count": 54,
   "id": "0f992d92",
   "metadata": {},
   "outputs": [],
   "source": [
    "class Car:\n",
    "    def __new__(self,windows,doors,enginetype):\n",
    "        print(\"The object is started getting initialized\")\n",
    "    def __init__(self,windows,doors,enginetype):\n",
    "        self.windows = windows\n",
    "        self.doors = doors\n",
    "        self.enginetype = enginetype\n",
    "    def __str__(self):\n",
    "        return \"The object has been initialized\"\n",
    "    def __sizeof__(self):\n",
    "        return \"This displays the size of the object\"\n",
    "    def drive(self):\n",
    "        print(\"The person drives the car\")"
   ]
  },
  {
   "cell_type": "code",
   "execution_count": 55,
   "id": "9d7a2a9a",
   "metadata": {},
   "outputs": [
    {
     "name": "stdout",
     "output_type": "stream",
     "text": [
      "The object is started getting initialized\n"
     ]
    }
   ],
   "source": [
    "c = Car(2,3,'Petrol')"
   ]
  },
  {
   "cell_type": "code",
   "execution_count": null,
   "id": "e8cbda2a",
   "metadata": {},
   "outputs": [],
   "source": []
  }
 ],
 "metadata": {
  "kernelspec": {
   "display_name": "Python 3 (ipykernel)",
   "language": "python",
   "name": "python3"
  },
  "language_info": {
   "codemirror_mode": {
    "name": "ipython",
    "version": 3
   },
   "file_extension": ".py",
   "mimetype": "text/x-python",
   "name": "python",
   "nbconvert_exporter": "python",
   "pygments_lexer": "ipython3",
   "version": "3.9.13"
  }
 },
 "nbformat": 4,
 "nbformat_minor": 5
}
