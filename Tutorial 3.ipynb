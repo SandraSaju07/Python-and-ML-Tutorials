{
 "cells": [
  {
   "cell_type": "markdown",
   "id": "1e85118b-143b-418b-b212-98db5ddde3d9",
   "metadata": {},
   "source": [
    "- Sets - this is based on a data structure known as Hash Map, set does not support indexing"
   ]
  },
  {
   "cell_type": "code",
   "execution_count": 1,
   "id": "965cc935-a605-41f8-9983-ca58bb6f3c8d",
   "metadata": {},
   "outputs": [
    {
     "data": {
      "text/plain": [
       "set"
      ]
     },
     "execution_count": 1,
     "metadata": {},
     "output_type": "execute_result"
    }
   ],
   "source": [
    "set_var = set()\n",
    "type(set_var)"
   ]
  },
  {
   "cell_type": "code",
   "execution_count": 2,
   "id": "8fbc0100-a697-4ee0-8301-981d27cbf7ab",
   "metadata": {},
   "outputs": [
    {
     "data": {
      "text/plain": [
       "set()"
      ]
     },
     "execution_count": 2,
     "metadata": {},
     "output_type": "execute_result"
    }
   ],
   "source": [
    "set_var"
   ]
  },
  {
   "cell_type": "code",
   "execution_count": 5,
   "id": "da532d1a-36d9-478a-ae82-8b2ce94d3f6a",
   "metadata": {},
   "outputs": [],
   "source": [
    "set_var = {1,2,3,4,5,5}"
   ]
  },
  {
   "cell_type": "code",
   "execution_count": 6,
   "id": "65482f63-9382-448e-b609-febe3d18cc1b",
   "metadata": {},
   "outputs": [
    {
     "data": {
      "text/plain": [
       "set"
      ]
     },
     "execution_count": 6,
     "metadata": {},
     "output_type": "execute_result"
    }
   ],
   "source": [
    "type(set_var)"
   ]
  },
  {
   "cell_type": "code",
   "execution_count": 7,
   "id": "0715afc0-30ff-4124-9eb0-25d3dfb68460",
   "metadata": {},
   "outputs": [
    {
     "data": {
      "text/plain": [
       "{1, 2, 3, 4, 5}"
      ]
     },
     "execution_count": 7,
     "metadata": {},
     "output_type": "execute_result"
    }
   ],
   "source": [
    "set_var"
   ]
  },
  {
   "cell_type": "code",
   "execution_count": 10,
   "id": "1f1f7956-1639-4a2e-a34a-ae04c175f5dc",
   "metadata": {},
   "outputs": [],
   "source": [
    "set_var = {2,3.4,'erter'}"
   ]
  },
  {
   "cell_type": "code",
   "execution_count": 11,
   "id": "f3504afc-7c0e-4bb3-a78f-da3a833db94a",
   "metadata": {},
   "outputs": [
    {
     "data": {
      "text/plain": [
       "{2, 3.4, 'erter'}"
      ]
     },
     "execution_count": 11,
     "metadata": {},
     "output_type": "execute_result"
    }
   ],
   "source": [
    "set_var"
   ]
  },
  {
   "cell_type": "code",
   "execution_count": 14,
   "id": "f6bc0a40-7fe3-48ee-b134-b556bbdd662f",
   "metadata": {},
   "outputs": [
    {
     "data": {
      "text/plain": [
       "{234}"
      ]
     },
     "execution_count": 14,
     "metadata": {},
     "output_type": "execute_result"
    }
   ],
   "source": [
    "set_var = set()\n",
    "set_var.add(234)\n",
    "set_var"
   ]
  },
  {
   "cell_type": "code",
   "execution_count": 15,
   "id": "da9f3a79-9b22-4e95-a96c-6ab78c635f30",
   "metadata": {},
   "outputs": [
    {
     "data": {
      "text/plain": [
       "set"
      ]
     },
     "execution_count": 15,
     "metadata": {},
     "output_type": "execute_result"
    }
   ],
   "source": [
    "type(set_var)"
   ]
  },
  {
   "cell_type": "code",
   "execution_count": 19,
   "id": "0d2a4aee-c21c-4808-a1ad-16ce73149802",
   "metadata": {},
   "outputs": [],
   "source": [
    "set_a = {1,2,3,4,5}\n",
    "set_b = {1,2,3,4,6}"
   ]
  },
  {
   "cell_type": "code",
   "execution_count": 22,
   "id": "547f8f52-eed9-4114-843d-1c860463fe7b",
   "metadata": {},
   "outputs": [
    {
     "data": {
      "text/plain": [
       "{6}"
      ]
     },
     "execution_count": 22,
     "metadata": {},
     "output_type": "execute_result"
    }
   ],
   "source": [
    "set_b.difference(set_a)"
   ]
  },
  {
   "cell_type": "code",
   "execution_count": 24,
   "id": "559b20cf-280d-4096-b7be-f529062e93dd",
   "metadata": {},
   "outputs": [
    {
     "data": {
      "text/plain": [
       "{5}"
      ]
     },
     "execution_count": 24,
     "metadata": {},
     "output_type": "execute_result"
    }
   ],
   "source": [
    "set_a.difference(set_b)"
   ]
  },
  {
   "cell_type": "code",
   "execution_count": 25,
   "id": "6136af8f-3a96-46e1-b70f-a9d74c339411",
   "metadata": {},
   "outputs": [],
   "source": [
    "set_b = {1,2,3,4,5,6}"
   ]
  },
  {
   "cell_type": "code",
   "execution_count": 26,
   "id": "147ad287-50a1-49fa-86fa-41723c456fb5",
   "metadata": {},
   "outputs": [
    {
     "data": {
      "text/plain": [
       "set()"
      ]
     },
     "execution_count": 26,
     "metadata": {},
     "output_type": "execute_result"
    }
   ],
   "source": [
    "set_a.difference(set_b)"
   ]
  },
  {
   "cell_type": "code",
   "execution_count": 27,
   "id": "96a36c69-fc75-4155-a06a-341017cf47e3",
   "metadata": {},
   "outputs": [
    {
     "data": {
      "text/plain": [
       "{6}"
      ]
     },
     "execution_count": 27,
     "metadata": {},
     "output_type": "execute_result"
    }
   ],
   "source": [
    "set_b.difference(set_a)"
   ]
  },
  {
   "cell_type": "code",
   "execution_count": 28,
   "id": "36c66804-ae32-4f5b-96b2-fef6f7780f2c",
   "metadata": {},
   "outputs": [],
   "source": [
    "set_b.difference_update(set_a)"
   ]
  },
  {
   "cell_type": "code",
   "execution_count": 29,
   "id": "d6ebe44d-52fe-4829-98a1-ee50d89b89ed",
   "metadata": {},
   "outputs": [
    {
     "data": {
      "text/plain": [
       "{6}"
      ]
     },
     "execution_count": 29,
     "metadata": {},
     "output_type": "execute_result"
    }
   ],
   "source": [
    "set_b"
   ]
  },
  {
   "cell_type": "code",
   "execution_count": 36,
   "id": "86225399-5ef2-43c1-b0ca-2ddfeea8b2a2",
   "metadata": {},
   "outputs": [],
   "source": [
    "set_b = {1,2,3,7}"
   ]
  },
  {
   "cell_type": "code",
   "execution_count": 37,
   "id": "3e38777b-3fb5-42de-b2a4-4c3afa001984",
   "metadata": {},
   "outputs": [
    {
     "data": {
      "text/plain": [
       "{1, 2, 3}"
      ]
     },
     "execution_count": 37,
     "metadata": {},
     "output_type": "execute_result"
    }
   ],
   "source": [
    "set_b.intersection(set_a)"
   ]
  },
  {
   "cell_type": "code",
   "execution_count": 38,
   "id": "e3ec9b00-d3bd-407c-83ca-fb435a558285",
   "metadata": {},
   "outputs": [],
   "source": [
    "set_b.intersection_update(set_a)"
   ]
  },
  {
   "cell_type": "code",
   "execution_count": 39,
   "id": "8917a1ae-1f6c-4459-aead-613ff4f2630f",
   "metadata": {},
   "outputs": [
    {
     "data": {
      "text/plain": [
       "{1, 2, 3}"
      ]
     },
     "execution_count": 39,
     "metadata": {},
     "output_type": "execute_result"
    }
   ],
   "source": [
    "set_b"
   ]
  },
  {
   "cell_type": "markdown",
   "id": "ce6d7e57-9524-4b4f-a3d0-07771fed47d0",
   "metadata": {},
   "source": [
    "- Dictionary"
   ]
  },
  {
   "cell_type": "code",
   "execution_count": 40,
   "id": "8ea45e7b-0422-4aa1-ba11-96d3fedd7d01",
   "metadata": {},
   "outputs": [],
   "source": [
    "dict = {}"
   ]
  },
  {
   "cell_type": "code",
   "execution_count": 41,
   "id": "df2f990a-fae0-4052-afde-81ac50d97acd",
   "metadata": {},
   "outputs": [
    {
     "data": {
      "text/plain": [
       "dict"
      ]
     },
     "execution_count": 41,
     "metadata": {},
     "output_type": "execute_result"
    }
   ],
   "source": [
    "type(dict)"
   ]
  },
  {
   "cell_type": "code",
   "execution_count": 42,
   "id": "a15b52e9-d4bb-4bed-b7b5-ac58f7c66eac",
   "metadata": {},
   "outputs": [],
   "source": [
    "dict = {1,2,3}"
   ]
  },
  {
   "cell_type": "code",
   "execution_count": 43,
   "id": "c1531089-a389-47df-bfc2-a3b2dafbba9b",
   "metadata": {},
   "outputs": [
    {
     "data": {
      "text/plain": [
       "set"
      ]
     },
     "execution_count": 43,
     "metadata": {},
     "output_type": "execute_result"
    }
   ],
   "source": [
    "type(dict)"
   ]
  },
  {
   "cell_type": "code",
   "execution_count": 51,
   "id": "10d637c5-4e78-4846-98cc-370d4484f1ec",
   "metadata": {},
   "outputs": [],
   "source": [
    "my_dict = {'car1':'Audi','car2':'BMW','car3':'Alto'}"
   ]
  },
  {
   "cell_type": "code",
   "execution_count": 52,
   "id": "990a0e55-c3ee-4d30-a3ed-b54df6b9dbdc",
   "metadata": {},
   "outputs": [
    {
     "data": {
      "text/plain": [
       "dict"
      ]
     },
     "execution_count": 52,
     "metadata": {},
     "output_type": "execute_result"
    }
   ],
   "source": [
    "type(my_dict)"
   ]
  },
  {
   "cell_type": "code",
   "execution_count": 53,
   "id": "418c7ea8-9eb3-4c27-9acf-99ce97659ff9",
   "metadata": {},
   "outputs": [
    {
     "data": {
      "text/plain": [
       "{'car1': 'Audi', 'car2': 'BMW', 'car3': 'Alto'}"
      ]
     },
     "execution_count": 53,
     "metadata": {},
     "output_type": "execute_result"
    }
   ],
   "source": [
    "my_dict"
   ]
  },
  {
   "cell_type": "code",
   "execution_count": 54,
   "id": "d9ee5f47-48da-4e8b-9b92-703d6b153b2f",
   "metadata": {},
   "outputs": [
    {
     "data": {
      "text/plain": [
       "'Audi'"
      ]
     },
     "execution_count": 54,
     "metadata": {},
     "output_type": "execute_result"
    }
   ],
   "source": [
    "my_dict['car1']"
   ]
  },
  {
   "cell_type": "code",
   "execution_count": 55,
   "id": "3130ee03-c242-4b06-96d7-fbd9f0e9ffe8",
   "metadata": {},
   "outputs": [
    {
     "name": "stdout",
     "output_type": "stream",
     "text": [
      "('car1', 'Audi')\n",
      "('car2', 'BMW')\n",
      "('car3', 'Alto')\n"
     ]
    }
   ],
   "source": [
    "for x in my_dict.items():\n",
    "    print(x)"
   ]
  },
  {
   "cell_type": "code",
   "execution_count": 56,
   "id": "f15927db-a388-46e8-9827-a1770c671fcc",
   "metadata": {},
   "outputs": [],
   "source": [
    "my_dict['car4'] = 'VW'"
   ]
  },
  {
   "cell_type": "code",
   "execution_count": 57,
   "id": "9d820499-3388-44fe-a909-9497d6d49a99",
   "metadata": {},
   "outputs": [
    {
     "data": {
      "text/plain": [
       "{'car1': 'Audi', 'car2': 'BMW', 'car3': 'Alto', 'car4': 'VW'}"
      ]
     },
     "execution_count": 57,
     "metadata": {},
     "output_type": "execute_result"
    }
   ],
   "source": [
    "my_dict"
   ]
  },
  {
   "cell_type": "code",
   "execution_count": 58,
   "id": "650f166b-f9a1-4a97-878d-9b661c48aad0",
   "metadata": {},
   "outputs": [],
   "source": [
    "my_dict['car4'] = 'Honda'"
   ]
  },
  {
   "cell_type": "code",
   "execution_count": 59,
   "id": "33eade15-0abd-4e27-8943-98813f61a8e4",
   "metadata": {},
   "outputs": [
    {
     "data": {
      "text/plain": [
       "{'car1': 'Audi', 'car2': 'BMW', 'car3': 'Alto', 'car4': 'Honda'}"
      ]
     },
     "execution_count": 59,
     "metadata": {},
     "output_type": "execute_result"
    }
   ],
   "source": [
    "my_dict"
   ]
  },
  {
   "cell_type": "markdown",
   "id": "dd8e568f-8168-48da-a94a-cd6d1c2c78bf",
   "metadata": {},
   "source": [
    "- Nested Dictionary"
   ]
  },
  {
   "cell_type": "code",
   "execution_count": 60,
   "id": "a24ff59b-039e-476a-b1b7-97344e202514",
   "metadata": {},
   "outputs": [],
   "source": [
    "car1_model = {'BMW':1960}\n",
    "car2_model = {'Audi':1950}\n",
    "car3_model = {'Benz':1940}"
   ]
  },
  {
   "cell_type": "code",
   "execution_count": 61,
   "id": "fe2958da-c12f-477d-9563-697eb925ea5d",
   "metadata": {},
   "outputs": [],
   "source": [
    "car_type = {'car1':car1_model,'car2':car2_model,'car3':car3_model}"
   ]
  },
  {
   "cell_type": "code",
   "execution_count": 62,
   "id": "04e08e3f-a148-41de-8dc4-a7b63a8d1c21",
   "metadata": {},
   "outputs": [
    {
     "data": {
      "text/plain": [
       "{'car1': {'BMW': 1960}, 'car2': {'Audi': 1950}, 'car3': {'Benz': 1940}}"
      ]
     },
     "execution_count": 62,
     "metadata": {},
     "output_type": "execute_result"
    }
   ],
   "source": [
    "car_type"
   ]
  },
  {
   "cell_type": "code",
   "execution_count": 63,
   "id": "a449992a-6068-47d9-b1d3-d0051ac7f179",
   "metadata": {},
   "outputs": [
    {
     "data": {
      "text/plain": [
       "{'BMW': 1960}"
      ]
     },
     "execution_count": 63,
     "metadata": {},
     "output_type": "execute_result"
    }
   ],
   "source": [
    "car_type['car1']"
   ]
  },
  {
   "cell_type": "code",
   "execution_count": 64,
   "id": "b9d2a9b1-f78a-4e7b-b644-286f9c063452",
   "metadata": {},
   "outputs": [
    {
     "data": {
      "text/plain": [
       "1960"
      ]
     },
     "execution_count": 64,
     "metadata": {},
     "output_type": "execute_result"
    }
   ],
   "source": [
    "car_type['car1']['BMW']"
   ]
  },
  {
   "cell_type": "markdown",
   "id": "4bba969a-9f73-42ec-9720-a3016b6da967",
   "metadata": {},
   "source": [
    "- Tuples, they are immutable, once you created, you can't change the lements in the tuple, used where we need to define an item only one time."
   ]
  },
  {
   "cell_type": "code",
   "execution_count": 65,
   "id": "4de891de-0263-410b-9f05-81a1cfe5638c",
   "metadata": {},
   "outputs": [],
   "source": [
    "my_tuple = tuple()"
   ]
  },
  {
   "cell_type": "code",
   "execution_count": 66,
   "id": "0d99d5f0-b61a-4f1e-a10c-5ef148082408",
   "metadata": {},
   "outputs": [
    {
     "data": {
      "text/plain": [
       "tuple"
      ]
     },
     "execution_count": 66,
     "metadata": {},
     "output_type": "execute_result"
    }
   ],
   "source": [
    "type(my_tuple)"
   ]
  },
  {
   "cell_type": "code",
   "execution_count": 67,
   "id": "b3ddfb9d-ab70-4f79-977c-1581c16a9279",
   "metadata": {},
   "outputs": [
    {
     "data": {
      "text/plain": [
       "tuple"
      ]
     },
     "execution_count": 67,
     "metadata": {},
     "output_type": "execute_result"
    }
   ],
   "source": [
    "my_tuple = ()\n",
    "type(my_tuple)"
   ]
  },
  {
   "cell_type": "code",
   "execution_count": 68,
   "id": "9980e35e-58e1-4408-8f0c-85390cf7e879",
   "metadata": {},
   "outputs": [],
   "source": [
    "my_tuple = ('sandra','saju')"
   ]
  },
  {
   "cell_type": "code",
   "execution_count": 69,
   "id": "961a8b48-1596-4191-94ed-73bc5a625bfe",
   "metadata": {},
   "outputs": [
    {
     "data": {
      "text/plain": [
       "'sandra'"
      ]
     },
     "execution_count": 69,
     "metadata": {},
     "output_type": "execute_result"
    }
   ],
   "source": [
    "my_tuple[0]"
   ]
  },
  {
   "cell_type": "code",
   "execution_count": 70,
   "id": "a39d1101-6544-4c24-9303-4315bfc62db2",
   "metadata": {},
   "outputs": [
    {
     "data": {
      "text/plain": [
       "1"
      ]
     },
     "execution_count": 70,
     "metadata": {},
     "output_type": "execute_result"
    }
   ],
   "source": [
    "my_tuple.count('sandra')"
   ]
  },
  {
   "cell_type": "code",
   "execution_count": 71,
   "id": "4ea31c46-6832-4ebe-8b57-1723634000b5",
   "metadata": {},
   "outputs": [
    {
     "data": {
      "text/plain": [
       "0"
      ]
     },
     "execution_count": 71,
     "metadata": {},
     "output_type": "execute_result"
    }
   ],
   "source": [
    "my_tuple.index('sandra')"
   ]
  },
  {
   "cell_type": "code",
   "execution_count": 73,
   "id": "a3c2c6d2-baa1-45f9-83fc-d55150cdf31a",
   "metadata": {},
   "outputs": [
    {
     "data": {
      "text/plain": [
       "1"
      ]
     },
     "execution_count": 73,
     "metadata": {},
     "output_type": "execute_result"
    }
   ],
   "source": [
    "my_tuple.index('saju')"
   ]
  },
  {
   "cell_type": "code",
   "execution_count": null,
   "id": "2433c99d-4d3f-4a71-9357-025c6e7f8cc0",
   "metadata": {},
   "outputs": [],
   "source": []
  }
 ],
 "metadata": {
  "kernelspec": {
   "display_name": "Python 3 (ipykernel)",
   "language": "python",
   "name": "python3"
  },
  "language_info": {
   "codemirror_mode": {
    "name": "ipython",
    "version": 3
   },
   "file_extension": ".py",
   "mimetype": "text/x-python",
   "name": "python",
   "nbconvert_exporter": "python",
   "pygments_lexer": "ipython3",
   "version": "3.9.19"
  }
 },
 "nbformat": 4,
 "nbformat_minor": 5
}
