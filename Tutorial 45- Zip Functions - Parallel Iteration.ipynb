{
 "cells": [
  {
   "cell_type": "code",
   "execution_count": 2,
   "id": "d3c7a509-5281-45d2-b56b-47ca285785f1",
   "metadata": {},
   "outputs": [],
   "source": [
    "list1 = [\"abc\", \"xyx\", \"mno\"]\n",
    "list2 = [1, 2, 3]"
   ]
  },
  {
   "cell_type": "code",
   "execution_count": 4,
   "id": "079b8d94-f3be-44f6-8b47-475f53846cce",
   "metadata": {},
   "outputs": [],
   "source": [
    "lst = zip(list1, list2)"
   ]
  },
  {
   "cell_type": "code",
   "execution_count": 5,
   "id": "7013e45e-7e56-4cef-8a15-f903299f3518",
   "metadata": {},
   "outputs": [
    {
     "data": {
      "text/plain": [
       "<zip at 0x1085c5480>"
      ]
     },
     "execution_count": 5,
     "metadata": {},
     "output_type": "execute_result"
    }
   ],
   "source": [
    "lst"
   ]
  },
  {
   "cell_type": "code",
   "execution_count": 6,
   "id": "90518db7-5537-4fb8-a6de-458eb3ffb0f1",
   "metadata": {},
   "outputs": [
    {
     "data": {
      "text/plain": [
       "[('abc', 1), ('xyx', 2), ('mno', 3)]"
      ]
     },
     "execution_count": 6,
     "metadata": {},
     "output_type": "execute_result"
    }
   ],
   "source": [
    "list(lst)"
   ]
  },
  {
   "cell_type": "code",
   "execution_count": 7,
   "id": "2137a53a-0b7e-409b-a0e0-7cc66a205b20",
   "metadata": {},
   "outputs": [],
   "source": [
    "lst = zip(list1, list2)"
   ]
  },
  {
   "cell_type": "code",
   "execution_count": 8,
   "id": "9ce63457-dff7-4265-b93d-8cbede52d5fb",
   "metadata": {},
   "outputs": [
    {
     "data": {
      "text/plain": [
       "('abc', 1)"
      ]
     },
     "execution_count": 8,
     "metadata": {},
     "output_type": "execute_result"
    }
   ],
   "source": [
    "next(lst)"
   ]
  },
  {
   "cell_type": "code",
   "execution_count": 9,
   "id": "e51e6e63-eda5-48fb-b948-e936bc01d00e",
   "metadata": {},
   "outputs": [
    {
     "data": {
      "text/plain": [
       "('xyx', 2)"
      ]
     },
     "execution_count": 9,
     "metadata": {},
     "output_type": "execute_result"
    }
   ],
   "source": [
    "next(lst)"
   ]
  },
  {
   "cell_type": "code",
   "execution_count": 10,
   "id": "b5fd1d45-746f-4ba6-bcda-c0a6f0750381",
   "metadata": {},
   "outputs": [
    {
     "data": {
      "text/plain": [
       "('mno', 3)"
      ]
     },
     "execution_count": 10,
     "metadata": {},
     "output_type": "execute_result"
    }
   ],
   "source": [
    "next(lst)"
   ]
  },
  {
   "cell_type": "code",
   "execution_count": 11,
   "id": "29ecfb13-eb10-44d8-ad3d-fd806754f7fe",
   "metadata": {},
   "outputs": [
    {
     "ename": "StopIteration",
     "evalue": "",
     "output_type": "error",
     "traceback": [
      "\u001b[0;31m---------------------------------------------------------------------------\u001b[0m",
      "\u001b[0;31mStopIteration\u001b[0m                             Traceback (most recent call last)",
      "Cell \u001b[0;32mIn[11], line 1\u001b[0m\n\u001b[0;32m----> 1\u001b[0m \u001b[38;5;28;43mnext\u001b[39;49m\u001b[43m(\u001b[49m\u001b[43mlst\u001b[49m\u001b[43m)\u001b[49m\n",
      "\u001b[0;31mStopIteration\u001b[0m: "
     ]
    }
   ],
   "source": [
    "next(lst)"
   ]
  },
  {
   "cell_type": "code",
   "execution_count": 16,
   "id": "803c0ceb-8879-4f2b-977f-11a3746450c5",
   "metadata": {},
   "outputs": [],
   "source": [
    "lst1 = ['a','b','c']\n",
    "lst2 = [1,2,3]\n",
    "lst3 = [4,5,6,7,8,9]"
   ]
  },
  {
   "cell_type": "code",
   "execution_count": 17,
   "id": "d7bb7a9d-08a9-473e-b382-aac3d1b96118",
   "metadata": {},
   "outputs": [
    {
     "name": "stdout",
     "output_type": "stream",
     "text": [
      "a 1 4\n",
      "b 2 5\n",
      "c 3 6\n"
     ]
    }
   ],
   "source": [
    "for x,y,z in zip(lst1, lst2, lst3):\n",
    "    print(x,y,z)"
   ]
  },
  {
   "cell_type": "code",
   "execution_count": 35,
   "id": "e5df9c68-1bc3-4858-9bb4-50e9697d23f3",
   "metadata": {},
   "outputs": [],
   "source": [
    "dict1 = {'f_name':'Amanda', 'l_name':'Carter', 'age':30}\n",
    "dict2 = {'f_name':'Samantha', 'l_name':'Jones', 'age':22}"
   ]
  },
  {
   "cell_type": "code",
   "execution_count": 36,
   "id": "69e36543-48f4-41e2-ae39-9ca88bee4a1c",
   "metadata": {},
   "outputs": [
    {
     "data": {
      "text/plain": [
       "[(('f_name', 'Amanda'), ('f_name', 'Samantha')),\n",
       " (('l_name', 'Carter'), ('l_name', 'Jones')),\n",
       " (('age', 30), ('age', 22))]"
      ]
     },
     "execution_count": 36,
     "metadata": {},
     "output_type": "execute_result"
    }
   ],
   "source": [
    "list(zip(dict1.items(),dict2.items()))"
   ]
  },
  {
   "cell_type": "code",
   "execution_count": 37,
   "id": "96bc7103-3435-4b1f-a1d5-0eaaf1997b21",
   "metadata": {},
   "outputs": [
    {
     "name": "stdout",
     "output_type": "stream",
     "text": [
      "f_name Amanda\n",
      "f_name Samantha\n",
      "l_name Carter\n",
      "l_name Jones\n",
      "age 30\n",
      "age 22\n"
     ]
    }
   ],
   "source": [
    "for (i,j), (x,y) in zip(dict1.items(), dict2.items()):\n",
    "    print(i,j)\n",
    "    print(x,y)"
   ]
  },
  {
   "cell_type": "code",
   "execution_count": null,
   "id": "02e53f70-a9f1-4596-9632-42d51bb9e7af",
   "metadata": {},
   "outputs": [],
   "source": []
  }
 ],
 "metadata": {
  "kernelspec": {
   "display_name": "Python 3 (ipykernel)",
   "language": "python",
   "name": "python3"
  },
  "language_info": {
   "codemirror_mode": {
    "name": "ipython",
    "version": 3
   },
   "file_extension": ".py",
   "mimetype": "text/x-python",
   "name": "python",
   "nbconvert_exporter": "python",
   "pygments_lexer": "ipython3",
   "version": "3.10.16"
  }
 },
 "nbformat": 4,
 "nbformat_minor": 5
}
