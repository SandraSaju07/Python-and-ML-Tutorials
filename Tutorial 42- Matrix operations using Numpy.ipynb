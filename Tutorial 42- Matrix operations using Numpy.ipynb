{
 "cells": [
  {
   "cell_type": "code",
   "execution_count": 1,
   "id": "1095bb57-62ec-4864-8c29-35ab1e7a81df",
   "metadata": {},
   "outputs": [],
   "source": [
    "import numpy as np"
   ]
  },
  {
   "cell_type": "code",
   "execution_count": 2,
   "id": "af34c58c-c6f3-4f26-90f0-a41004efa588",
   "metadata": {},
   "outputs": [],
   "source": [
    "revenue = np.array([[180,200,220],\n",
    "                   [24,36,40],\n",
    "                   [12,18,20]])\n",
    "\n",
    "expense = np.array([[80,90,100],\n",
    "                   [10,16,20],\n",
    "                   [8,10,10]])"
   ]
  },
  {
   "cell_type": "code",
   "execution_count": 3,
   "id": "dab0ec55-78ef-45e2-8ca0-5c599962da10",
   "metadata": {},
   "outputs": [
    {
     "data": {
      "text/plain": [
       "array([[180, 200, 220],\n",
       "       [ 24,  36,  40],\n",
       "       [ 12,  18,  20]])"
      ]
     },
     "execution_count": 3,
     "metadata": {},
     "output_type": "execute_result"
    }
   ],
   "source": [
    "revenue"
   ]
  },
  {
   "cell_type": "code",
   "execution_count": 4,
   "id": "8f86013c-882f-46f4-abfb-bbd5b4cc0c65",
   "metadata": {},
   "outputs": [
    {
     "data": {
      "text/plain": [
       "array([[ 80,  90, 100],\n",
       "       [ 10,  16,  20],\n",
       "       [  8,  10,  10]])"
      ]
     },
     "execution_count": 4,
     "metadata": {},
     "output_type": "execute_result"
    }
   ],
   "source": [
    "expense"
   ]
  },
  {
   "cell_type": "code",
   "execution_count": 6,
   "id": "e0863fa8-56a5-4de0-a8af-ab12915b0ce6",
   "metadata": {},
   "outputs": [
    {
     "data": {
      "text/plain": [
       "array([[100, 110, 120],\n",
       "       [ 14,  20,  20],\n",
       "       [  4,   8,  10]])"
      ]
     },
     "execution_count": 6,
     "metadata": {},
     "output_type": "execute_result"
    }
   ],
   "source": [
    "profit = revenue - expense\n",
    "\n",
    "profit"
   ]
  },
  {
   "cell_type": "code",
   "execution_count": 7,
   "id": "73438f53-56f5-4cf5-a4af-ff05e17f4279",
   "metadata": {},
   "outputs": [],
   "source": [
    "price_per_unit = np.array([1000,400,1200])\n",
    "\n",
    "units = np.array([[30,40,50],\n",
    "                 [5,10,15],\n",
    "                 [2,5,7]])"
   ]
  },
  {
   "cell_type": "code",
   "execution_count": 8,
   "id": "3bf0b628-e38b-4fd4-b452-e3fc6897eb6c",
   "metadata": {},
   "outputs": [
    {
     "data": {
      "text/plain": [
       "array([1000,  400, 1200])"
      ]
     },
     "execution_count": 8,
     "metadata": {},
     "output_type": "execute_result"
    }
   ],
   "source": [
    "price_per_unit"
   ]
  },
  {
   "cell_type": "code",
   "execution_count": 9,
   "id": "c3698561-e4ef-480b-bc1b-d5f426d88baf",
   "metadata": {},
   "outputs": [
    {
     "data": {
      "text/plain": [
       "array([[30, 40, 50],\n",
       "       [ 5, 10, 15],\n",
       "       [ 2,  5,  7]])"
      ]
     },
     "execution_count": 9,
     "metadata": {},
     "output_type": "execute_result"
    }
   ],
   "source": [
    "units"
   ]
  },
  {
   "cell_type": "code",
   "execution_count": 10,
   "id": "9611d18b-8f2e-42a1-b63d-c0cd078d597e",
   "metadata": {},
   "outputs": [
    {
     "data": {
      "text/plain": [
       "array([[30000, 16000, 60000],\n",
       "       [ 5000,  4000, 18000],\n",
       "       [ 2000,  2000,  8400]])"
      ]
     },
     "execution_count": 10,
     "metadata": {},
     "output_type": "execute_result"
    }
   ],
   "source": [
    "# Broadcasting\n",
    "price_per_unit * units"
   ]
  },
  {
   "cell_type": "code",
   "execution_count": 12,
   "id": "dbfd34fc-dfcc-4d82-83ca-6a2090ee4b04",
   "metadata": {},
   "outputs": [
    {
     "data": {
      "text/plain": [
       "array([34400, 50000, 64400])"
      ]
     },
     "execution_count": 12,
     "metadata": {},
     "output_type": "execute_result"
    }
   ],
   "source": [
    "# Dot Product\n",
    "np.dot(price_per_unit, units)"
   ]
  },
  {
   "cell_type": "code",
   "execution_count": 13,
   "id": "da3627dc-2471-4ce7-a5b5-7001e4da2ff7",
   "metadata": {},
   "outputs": [],
   "source": [
    "revenue = np.array([[200,220,250],\n",
    "                   [68,79,105],\n",
    "                   [110,140,180],\n",
    "                   [80,85,90]])\n",
    "\n",
    "dollar_unit = 75"
   ]
  },
  {
   "cell_type": "code",
   "execution_count": 14,
   "id": "bbe138b4-8c24-4fed-b182-810211d06813",
   "metadata": {},
   "outputs": [
    {
     "data": {
      "text/plain": [
       "array([[15000, 16500, 18750],\n",
       "       [ 5100,  5925,  7875],\n",
       "       [ 8250, 10500, 13500],\n",
       "       [ 6000,  6375,  6750]])"
      ]
     },
     "execution_count": 14,
     "metadata": {},
     "output_type": "execute_result"
    }
   ],
   "source": [
    "revenue * dollar_unit"
   ]
  },
  {
   "cell_type": "code",
   "execution_count": 15,
   "id": "78066ac8-890d-4815-92b3-52f3bf43163d",
   "metadata": {},
   "outputs": [],
   "source": [
    "units_sold = np.array([[50,60,25],\n",
    "                      [10,13,5],\n",
    "                      [40,70,52]])\n",
    "\n",
    "price_per_unit = np.array([20,30,15])"
   ]
  },
  {
   "cell_type": "code",
   "execution_count": 16,
   "id": "bb2af2b4-53f5-4d21-92f2-a874949cb74b",
   "metadata": {},
   "outputs": [
    {
     "data": {
      "text/plain": [
       "array([1900, 2640, 1430])"
      ]
     },
     "execution_count": 16,
     "metadata": {},
     "output_type": "execute_result"
    }
   ],
   "source": [
    "np.dot(price_per_unit, units_sold)"
   ]
  },
  {
   "cell_type": "code",
   "execution_count": null,
   "id": "2216a8cf-6149-431c-a9f7-bfd8703931dc",
   "metadata": {},
   "outputs": [],
   "source": []
  }
 ],
 "metadata": {
  "kernelspec": {
   "display_name": "Python 3 (ipykernel)",
   "language": "python",
   "name": "python3"
  },
  "language_info": {
   "codemirror_mode": {
    "name": "ipython",
    "version": 3
   },
   "file_extension": ".py",
   "mimetype": "text/x-python",
   "name": "python",
   "nbconvert_exporter": "python",
   "pygments_lexer": "ipython3",
   "version": "3.10.16"
  }
 },
 "nbformat": 4,
 "nbformat_minor": 5
}
