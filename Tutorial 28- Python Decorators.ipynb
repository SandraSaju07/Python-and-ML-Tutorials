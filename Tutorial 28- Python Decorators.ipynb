{
 "cells": [
  {
   "cell_type": "markdown",
   "id": "7f61c85b-bf97-4853-90b2-ae51c04e897f",
   "metadata": {},
   "source": [
    "## Function copy - functions getting copied"
   ]
  },
  {
   "cell_type": "code",
   "execution_count": 50,
   "id": "98a956d8-4048-41dd-9e50-b06f3d5c00ff",
   "metadata": {},
   "outputs": [],
   "source": [
    "def welcome():\n",
    "    return \"Welcome to the World\""
   ]
  },
  {
   "cell_type": "code",
   "execution_count": 51,
   "id": "ce969056-222d-48a9-8692-49f2e25374ed",
   "metadata": {},
   "outputs": [],
   "source": [
    "wel = welcome()"
   ]
  },
  {
   "cell_type": "code",
   "execution_count": 52,
   "id": "6e84d441-3067-4e80-8f6f-54c63099e03e",
   "metadata": {},
   "outputs": [
    {
     "data": {
      "text/plain": [
       "'Welcome to the World'"
      ]
     },
     "execution_count": 52,
     "metadata": {},
     "output_type": "execute_result"
    }
   ],
   "source": [
    "wel"
   ]
  },
  {
   "cell_type": "code",
   "execution_count": 53,
   "id": "291890ef-4715-4b54-83eb-38b0bc35b711",
   "metadata": {},
   "outputs": [],
   "source": [
    "del welcome"
   ]
  },
  {
   "cell_type": "code",
   "execution_count": 54,
   "id": "e37b5f43-5ad6-4bdd-ae3c-1fdb5fe297c7",
   "metadata": {},
   "outputs": [
    {
     "data": {
      "text/plain": [
       "'Welcome to the World'"
      ]
     },
     "execution_count": 54,
     "metadata": {},
     "output_type": "execute_result"
    }
   ],
   "source": [
    "wel"
   ]
  },
  {
   "cell_type": "code",
   "execution_count": 55,
   "id": "ceb7aae7-42dc-49d3-9c91-35debf9c1329",
   "metadata": {},
   "outputs": [
    {
     "ename": "NameError",
     "evalue": "name 'welcome' is not defined",
     "output_type": "error",
     "traceback": [
      "\u001b[1;31m---------------------------------------------------------------------------\u001b[0m",
      "\u001b[1;31mNameError\u001b[0m                                 Traceback (most recent call last)",
      "Cell \u001b[1;32mIn[55], line 1\u001b[0m\n\u001b[1;32m----> 1\u001b[0m \u001b[43mwelcome\u001b[49m()\n",
      "\u001b[1;31mNameError\u001b[0m: name 'welcome' is not defined"
     ]
    }
   ],
   "source": [
    "welcome()"
   ]
  },
  {
   "cell_type": "markdown",
   "id": "c40c2af5-2539-4289-a888-f4dc53163e6a",
   "metadata": {},
   "source": [
    "## Closures - functions defined inside a function"
   ]
  },
  {
   "cell_type": "code",
   "execution_count": 56,
   "id": "c3948dad-a0af-44db-bdc5-0650db97ea74",
   "metadata": {},
   "outputs": [],
   "source": [
    "def main_welcome(msg1):\n",
    "    msg2 = 'Hey all'\n",
    "    def sub_welcome():\n",
    "        print('Hello All')\n",
    "        print(msg1)\n",
    "        print(msg2)\n",
    "    return sub_welcome()"
   ]
  },
  {
   "cell_type": "code",
   "execution_count": 57,
   "id": "000c7a3a-c5bb-4426-a0de-fe7b0ac787c2",
   "metadata": {},
   "outputs": [
    {
     "name": "stdout",
     "output_type": "stream",
     "text": [
      "Hello All\n",
      "Hi All\n",
      "Hey all\n"
     ]
    }
   ],
   "source": [
    "main_welcome('Hi All')"
   ]
  },
  {
   "cell_type": "code",
   "execution_count": 58,
   "id": "4f6ab40d-8105-4567-9b4d-b943d4f4882b",
   "metadata": {},
   "outputs": [],
   "source": [
    "def main_function(func):\n",
    "    def sub_function():\n",
    "        print('Hello Everyone')\n",
    "        func('Welcome to decorators')\n",
    "        print('Salude!!')\n",
    "    return sub_function()"
   ]
  },
  {
   "cell_type": "code",
   "execution_count": 59,
   "id": "7ce015e0-9d36-4965-ab58-c30f259e33fc",
   "metadata": {},
   "outputs": [
    {
     "name": "stdout",
     "output_type": "stream",
     "text": [
      "Hello Everyone\n",
      "Welcome to decorators\n",
      "Salude!!\n"
     ]
    }
   ],
   "source": [
    "main_function(print)"
   ]
  },
  {
   "cell_type": "code",
   "execution_count": 60,
   "id": "2d07f9bd-6526-417c-a73f-dac671e73d09",
   "metadata": {},
   "outputs": [],
   "source": [
    "def main_function(func):\n",
    "    def sub_function():\n",
    "        print(func([1,2,3,4,5,6,7,8]))\n",
    "    return sub_function()"
   ]
  },
  {
   "cell_type": "code",
   "execution_count": 61,
   "id": "fd810bee-45b5-4ec6-8232-75775ffcaaa6",
   "metadata": {},
   "outputs": [
    {
     "name": "stdout",
     "output_type": "stream",
     "text": [
      "8\n"
     ]
    }
   ],
   "source": [
    "main_function(len)"
   ]
  },
  {
   "cell_type": "markdown",
   "id": "5d684453-6dc0-4687-bf54-dd1ab9b36390",
   "metadata": {},
   "source": [
    "## Decorators"
   ]
  },
  {
   "cell_type": "code",
   "execution_count": 62,
   "id": "5269dc7e-41a7-4f26-a6d4-8135ae4cb832",
   "metadata": {},
   "outputs": [],
   "source": [
    "def main_function(func):\n",
    "    def sub_function():\n",
    "        print('Hello Everyone!!')\n",
    "        func()\n",
    "        print('Hope now you understood about decorators')\n",
    "    return sub_function()"
   ]
  },
  {
   "cell_type": "code",
   "execution_count": 63,
   "id": "947380e9-11f9-4c32-b7a8-d03e91108e6b",
   "metadata": {},
   "outputs": [],
   "source": [
    "def print_msg():\n",
    "    print('Decorators are functions getting called inside functions. These functions can be passed as parameters.')"
   ]
  },
  {
   "cell_type": "code",
   "execution_count": 64,
   "id": "fa29c1b2-20be-4038-a934-4c6d23981a7f",
   "metadata": {},
   "outputs": [
    {
     "name": "stdout",
     "output_type": "stream",
     "text": [
      "Hello Everyone!!\n",
      "Decorators are functions getting called inside functions. These functions can be passed as parameters.\n",
      "Hope now you understood about decorators\n"
     ]
    }
   ],
   "source": [
    "main_function(print_msg)"
   ]
  },
  {
   "cell_type": "markdown",
   "id": "9e49ca9f-ae87-4d2d-bc1d-e06b387644d8",
   "metadata": {},
   "source": [
    "## The above example is one way of calling decorators. There is another way also."
   ]
  },
  {
   "cell_type": "code",
   "execution_count": 65,
   "id": "51209141-9833-4922-b542-6292c24f2e84",
   "metadata": {},
   "outputs": [],
   "source": [
    "def main_function(func):\n",
    "    def sub_function():\n",
    "        print('Hey All,')\n",
    "        func()\n",
    "        print('This is another way of calling decorators (short cut).')\n",
    "    return sub_function()"
   ]
  },
  {
   "cell_type": "code",
   "execution_count": 66,
   "id": "a799e2da-20d3-4ed5-8e14-26402274e4bf",
   "metadata": {},
   "outputs": [
    {
     "name": "stdout",
     "output_type": "stream",
     "text": [
      "Hey All,\n",
      "We can call decorators (function getting called inside function) in another way by adding the decorator which will call the decorator\n",
      "    function and this decorator function will take this function as its parameter and calls it inside the decorator function as you need.\n",
      "This is another way of calling decorators (short cut).\n"
     ]
    }
   ],
   "source": [
    "@main_function\n",
    "def print_msg():\n",
    "    print('''We can call decorators (function getting called inside function) in another way by adding the decorator which will call the decorator\n",
    "    function and this decorator function will take this function as its parameter and calls it inside the decorator function as you need.''')"
   ]
  },
  {
   "cell_type": "code",
   "execution_count": null,
   "id": "0c868dae-aaf8-43c5-a06e-aad6f5785737",
   "metadata": {},
   "outputs": [],
   "source": []
  }
 ],
 "metadata": {
  "kernelspec": {
   "display_name": "Python 3 (ipykernel)",
   "language": "python",
   "name": "python3"
  },
  "language_info": {
   "codemirror_mode": {
    "name": "ipython",
    "version": 3
   },
   "file_extension": ".py",
   "mimetype": "text/x-python",
   "name": "python",
   "nbconvert_exporter": "python",
   "pygments_lexer": "ipython3",
   "version": "3.10.16"
  }
 },
 "nbformat": 4,
 "nbformat_minor": 5
}
