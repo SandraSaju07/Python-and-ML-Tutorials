{
 "cells": [
  {
   "cell_type": "code",
   "execution_count": 1,
   "id": "acc7d18f-195b-49bc-ae17-3572d23337a3",
   "metadata": {},
   "outputs": [],
   "source": [
    "from pydantic import BaseModel, EmailStr, field_validator"
   ]
  },
  {
   "cell_type": "code",
   "execution_count": 2,
   "id": "496d7f0a-642b-4ee4-b804-d05abec65716",
   "metadata": {},
   "outputs": [],
   "source": [
    "class User(BaseModel):\n",
    "    name: str\n",
    "    email: str\n",
    "    account_id: int\n",
    "\n",
    "    @field_validator(\"account_id\")\n",
    "    def validate_account_id(cls, value):\n",
    "        if value <= 0:\n",
    "            raise ValueError(f\"account_id must be porsitive: {value}\")\n",
    "        return value"
   ]
  },
  {
   "cell_type": "code",
   "execution_count": 3,
   "id": "9b6b23c5-9b8f-4b21-91b7-f78ece2b0c7e",
   "metadata": {},
   "outputs": [
    {
     "data": {
      "text/plain": [
       "User(name='jack', email='jack123@gmail.com', account_id=12345)"
      ]
     },
     "execution_count": 3,
     "metadata": {},
     "output_type": "execute_result"
    }
   ],
   "source": [
    "user = User(\n",
    "    name=\"jack\",\n",
    "    email=\"jack123@gmail.com\",\n",
    "    account_id=12345)\n",
    "\n",
    "user"
   ]
  },
  {
   "cell_type": "code",
   "execution_count": 4,
   "id": "77343390-0ea0-47a4-b6f8-959a0c61cf71",
   "metadata": {},
   "outputs": [
    {
     "name": "stdout",
     "output_type": "stream",
     "text": [
      "{\"name\":\"jack\",\"email\":\"jack123@gmail.com\",\"account_id\":12345}\n"
     ]
    }
   ],
   "source": [
    "user_json_str = user.model_dump_json()\n",
    "print(user_json_str)"
   ]
  },
  {
   "cell_type": "code",
   "execution_count": 5,
   "id": "3ef3a9c2-b3b2-4abb-8d29-6c6cc180f389",
   "metadata": {},
   "outputs": [],
   "source": [
    "user_data = {\n",
    "    \"name\":\"ana\",\n",
    "    \"email\":\"ana123@gmail.com\",\n",
    "    \"account_id\":34567\n",
    "}\n",
    "\n",
    "user = User(**user_data)"
   ]
  },
  {
   "cell_type": "code",
   "execution_count": 6,
   "id": "9a16abde-7ed5-422d-98c9-f3bb79709ab8",
   "metadata": {},
   "outputs": [
    {
     "data": {
      "text/plain": [
       "('ana', 'ana123@gmail.com', 34567)"
      ]
     },
     "execution_count": 6,
     "metadata": {},
     "output_type": "execute_result"
    }
   ],
   "source": [
    "user.name, user.email, user.account_id"
   ]
  },
  {
   "cell_type": "code",
   "execution_count": 7,
   "id": "be424808-34ad-482d-a3d6-b4cc004f8fb3",
   "metadata": {},
   "outputs": [
    {
     "data": {
      "text/plain": [
       "'{\\n    \"name\":\"sam\",\\n    \"email\":\"sam@gmail.com\",\\n    \"account_id\":12345678\\n}'"
      ]
     },
     "execution_count": 7,
     "metadata": {},
     "output_type": "execute_result"
    }
   ],
   "source": [
    "json_str = '''{\n",
    "    \"name\":\"sam\",\n",
    "    \"email\":\"sam@gmail.com\",\n",
    "    \"account_id\":12345678\n",
    "}'''\n",
    "\n",
    "json_str"
   ]
  },
  {
   "cell_type": "code",
   "execution_count": 8,
   "id": "67e4b5b9-de05-41cf-9f90-5510a9d94e98",
   "metadata": {},
   "outputs": [
    {
     "data": {
      "text/plain": [
       "User(name='sam', email='sam@gmail.com', account_id=12345678)"
      ]
     },
     "execution_count": 8,
     "metadata": {},
     "output_type": "execute_result"
    }
   ],
   "source": [
    "user = User.model_validate_json(json_str)\n",
    "\n",
    "user"
   ]
  },
  {
   "cell_type": "code",
   "execution_count": 9,
   "id": "295da342-88b6-4db0-a93b-ad0210fe0329",
   "metadata": {},
   "outputs": [],
   "source": [
    "from dataclasses import dataclass"
   ]
  },
  {
   "cell_type": "code",
   "execution_count": 10,
   "id": "c60d9c70-a4e4-4036-947d-88e193361777",
   "metadata": {},
   "outputs": [],
   "source": [
    "@dataclass\n",
    "class User:\n",
    "    name: str\n",
    "    email: str\n",
    "    account_id: int"
   ]
  },
  {
   "cell_type": "code",
   "execution_count": null,
   "id": "ef38b24d-6153-48fd-af2b-dbd51b54d2e0",
   "metadata": {},
   "outputs": [],
   "source": []
  }
 ],
 "metadata": {
  "kernelspec": {
   "display_name": "Python 3 (ipykernel)",
   "language": "python",
   "name": "python3"
  },
  "language_info": {
   "codemirror_mode": {
    "name": "ipython",
    "version": 3
   },
   "file_extension": ".py",
   "mimetype": "text/x-python",
   "name": "python",
   "nbconvert_exporter": "python",
   "pygments_lexer": "ipython3",
   "version": "3.10.16"
  }
 },
 "nbformat": 4,
 "nbformat_minor": 5
}
