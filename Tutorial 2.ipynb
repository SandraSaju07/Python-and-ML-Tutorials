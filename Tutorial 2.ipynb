{
 "cells": [
  {
   "cell_type": "markdown",
   "id": "98aa5694-d67d-462e-b2e2-4dfa42caff5a",
   "metadata": {},
   "source": [
    "## Python Data Struvtures"
   ]
  },
  {
   "cell_type": "code",
   "execution_count": 1,
   "id": "40a0c7b2-a3bb-4d22-bd51-9e129748e56c",
   "metadata": {},
   "outputs": [
    {
     "name": "stdout",
     "output_type": "stream",
     "text": [
      "True\n"
     ]
    }
   ],
   "source": [
    "print(True)"
   ]
  },
  {
   "cell_type": "code",
   "execution_count": 2,
   "id": "5b616d93-ae23-4fa0-b35c-e8b7599353db",
   "metadata": {},
   "outputs": [
    {
     "data": {
      "text/plain": [
       "bool"
      ]
     },
     "execution_count": 2,
     "metadata": {},
     "output_type": "execute_result"
    }
   ],
   "source": [
    "type(True)"
   ]
  },
  {
   "cell_type": "code",
   "execution_count": 4,
   "id": "2e79f0f7-ba4c-42d9-9df6-83bd35cd15b5",
   "metadata": {},
   "outputs": [
    {
     "data": {
      "text/plain": [
       "True"
      ]
     },
     "execution_count": 4,
     "metadata": {},
     "output_type": "execute_result"
    }
   ],
   "source": [
    "bool(True)"
   ]
  },
  {
   "cell_type": "code",
   "execution_count": 17,
   "id": "668cc962-4c96-4385-961b-221a9e65a9b3",
   "metadata": {},
   "outputs": [],
   "source": [
    "my_str = 'Sandra '"
   ]
  },
  {
   "cell_type": "code",
   "execution_count": 19,
   "id": "1376094a-65a8-401d-8dba-51d3db0cd3ec",
   "metadata": {},
   "outputs": [
    {
     "name": "stdout",
     "output_type": "stream",
     "text": [
      "False\n"
     ]
    }
   ],
   "source": [
    "print(my_str.isalnum())"
   ]
  },
  {
   "cell_type": "code",
   "execution_count": 20,
   "id": "53d37d77-c75a-412e-8a6d-bb923585a69e",
   "metadata": {},
   "outputs": [
    {
     "name": "stdout",
     "output_type": "stream",
     "text": [
      "False\n"
     ]
    }
   ],
   "source": [
    "print(my_str.isalpha())"
   ]
  },
  {
   "cell_type": "code",
   "execution_count": 21,
   "id": "ea554c6e-3f25-46d2-9f7f-4dfeddaaac93",
   "metadata": {},
   "outputs": [
    {
     "name": "stdout",
     "output_type": "stream",
     "text": [
      "False\n"
     ]
    }
   ],
   "source": [
    "print(my_str.isdigit())"
   ]
  },
  {
   "cell_type": "code",
   "execution_count": 22,
   "id": "ea9ca0a0-29ff-483f-83c3-9f5b899f1269",
   "metadata": {},
   "outputs": [
    {
     "name": "stdout",
     "output_type": "stream",
     "text": [
      "True\n"
     ]
    }
   ],
   "source": [
    "print(my_str.istitle())"
   ]
  },
  {
   "cell_type": "code",
   "execution_count": 23,
   "id": "2b2d4259-d84e-4597-aef6-24adf8d8413b",
   "metadata": {},
   "outputs": [
    {
     "name": "stdout",
     "output_type": "stream",
     "text": [
      "False\n"
     ]
    }
   ],
   "source": [
    "print(my_str.isupper())"
   ]
  },
  {
   "cell_type": "code",
   "execution_count": 24,
   "id": "66a449d7-5159-4b40-b815-8cf626e5af68",
   "metadata": {},
   "outputs": [
    {
     "name": "stdout",
     "output_type": "stream",
     "text": [
      "False\n"
     ]
    }
   ],
   "source": [
    "print(my_str.islower())"
   ]
  },
  {
   "cell_type": "code",
   "execution_count": 25,
   "id": "0659b62c-2658-4cfd-94a6-eea18f4cc642",
   "metadata": {},
   "outputs": [
    {
     "name": "stdout",
     "output_type": "stream",
     "text": [
      "False\n"
     ]
    }
   ],
   "source": [
    "print(my_str.isspace())"
   ]
  },
  {
   "cell_type": "code",
   "execution_count": 26,
   "id": "74def87a-7d29-4162-962a-d0fe6af43bc2",
   "metadata": {},
   "outputs": [
    {
     "name": "stdout",
     "output_type": "stream",
     "text": [
      "False\n"
     ]
    }
   ],
   "source": [
    "print(my_str.endswith('a'))"
   ]
  },
  {
   "cell_type": "code",
   "execution_count": 27,
   "id": "55d6c564-75f4-4703-a051-31e4e14f1860",
   "metadata": {},
   "outputs": [
    {
     "name": "stdout",
     "output_type": "stream",
     "text": [
      "True\n"
     ]
    }
   ],
   "source": [
    "print(my_str.startswith('S'))"
   ]
  },
  {
   "cell_type": "markdown",
   "id": "3619e3fd-c7e4-4389-9516-aca6a8982678",
   "metadata": {},
   "source": [
    "- List"
   ]
  },
  {
   "cell_type": "code",
   "execution_count": 28,
   "id": "10f4a1ed-4405-4621-a73c-e591f2d00f3c",
   "metadata": {},
   "outputs": [],
   "source": [
    "lst = [1,2,3,4,5,6,7,8,9]"
   ]
  },
  {
   "cell_type": "code",
   "execution_count": 30,
   "id": "f8e8a3b7-53fc-487f-90af-69c35f0ce3f8",
   "metadata": {},
   "outputs": [
    {
     "data": {
      "text/plain": [
       "[4, 5, 6, 7, 8]"
      ]
     },
     "execution_count": 30,
     "metadata": {},
     "output_type": "execute_result"
    }
   ],
   "source": [
    "lst[3:8]"
   ]
  },
  {
   "cell_type": "code",
   "execution_count": 31,
   "id": "c7a63c06-9e87-4f10-aa84-3070b84c6d73",
   "metadata": {},
   "outputs": [],
   "source": [
    "l = [20,22]"
   ]
  },
  {
   "cell_type": "code",
   "execution_count": 32,
   "id": "f8f19a26-4797-4bc8-9292-baad9980f207",
   "metadata": {},
   "outputs": [],
   "source": [
    "lst.extend(l)"
   ]
  },
  {
   "cell_type": "code",
   "execution_count": 33,
   "id": "99e3e363-e8a8-4b54-a90b-05ea848e95f5",
   "metadata": {},
   "outputs": [
    {
     "data": {
      "text/plain": [
       "[1, 2, 3, 4, 5, 6, 7, 8, 9, 20, 22]"
      ]
     },
     "execution_count": 33,
     "metadata": {},
     "output_type": "execute_result"
    }
   ],
   "source": [
    "lst"
   ]
  },
  {
   "cell_type": "code",
   "execution_count": 34,
   "id": "5f8edd27-70b9-4fa0-90d7-5bc16e5aeef1",
   "metadata": {},
   "outputs": [],
   "source": [
    "lst.append(l)"
   ]
  },
  {
   "cell_type": "code",
   "execution_count": 37,
   "id": "bb82bf20-580e-4a77-8dde-0bb9bc43aee2",
   "metadata": {},
   "outputs": [
    {
     "data": {
      "text/plain": [
       "[1, 2, 3, 4, 5, 6, 7, 8, 9, 20, 22, [20, 22]]"
      ]
     },
     "execution_count": 37,
     "metadata": {},
     "output_type": "execute_result"
    }
   ],
   "source": [
    "lst"
   ]
  },
  {
   "cell_type": "code",
   "execution_count": 38,
   "id": "e3b93b51-a45c-459d-bede-a0c3cd3fc01b",
   "metadata": {},
   "outputs": [
    {
     "data": {
      "text/plain": [
       "[20, 22]"
      ]
     },
     "execution_count": 38,
     "metadata": {},
     "output_type": "execute_result"
    }
   ],
   "source": [
    "lst.pop()"
   ]
  },
  {
   "cell_type": "code",
   "execution_count": 39,
   "id": "0118c698-c63f-4d73-addf-cc95fc064d13",
   "metadata": {},
   "outputs": [
    {
     "data": {
      "text/plain": [
       "[1, 2, 3, 4, 5, 6, 7, 8, 9, 20, 22]"
      ]
     },
     "execution_count": 39,
     "metadata": {},
     "output_type": "execute_result"
    }
   ],
   "source": [
    "lst"
   ]
  },
  {
   "cell_type": "code",
   "execution_count": 40,
   "id": "2a8a8808-3fce-49ea-935c-37e5e97cfe3c",
   "metadata": {},
   "outputs": [
    {
     "data": {
      "text/plain": [
       "87"
      ]
     },
     "execution_count": 40,
     "metadata": {},
     "output_type": "execute_result"
    }
   ],
   "source": [
    "sum(lst)"
   ]
  },
  {
   "cell_type": "code",
   "execution_count": 41,
   "id": "072744af-2bbb-496b-8be2-41bf2716e58c",
   "metadata": {},
   "outputs": [
    {
     "data": {
      "text/plain": [
       "22"
      ]
     },
     "execution_count": 41,
     "metadata": {},
     "output_type": "execute_result"
    }
   ],
   "source": [
    "lst.pop()"
   ]
  },
  {
   "cell_type": "code",
   "execution_count": 43,
   "id": "6c31acaa-419e-4fce-9638-9ad2d2d30ee6",
   "metadata": {},
   "outputs": [
    {
     "data": {
      "text/plain": [
       "1"
      ]
     },
     "execution_count": 43,
     "metadata": {},
     "output_type": "execute_result"
    }
   ],
   "source": [
    "lst.pop(0)"
   ]
  },
  {
   "cell_type": "code",
   "execution_count": 44,
   "id": "89b80c91-6919-48df-b63c-acdce8c7e38e",
   "metadata": {},
   "outputs": [
    {
     "data": {
      "text/plain": [
       "[2, 3, 4, 5, 6, 7, 8, 9, 20]"
      ]
     },
     "execution_count": 44,
     "metadata": {},
     "output_type": "execute_result"
    }
   ],
   "source": [
    "lst"
   ]
  },
  {
   "cell_type": "markdown",
   "id": "fe9f3c44-6501-464b-8408-1b233171e4d6",
   "metadata": {},
   "source": [
    "- Some in-built functions"
   ]
  },
  {
   "cell_type": "code",
   "execution_count": 45,
   "id": "950ed7b6-0d2f-470d-84fa-6df9419c52dc",
   "metadata": {},
   "outputs": [],
   "source": [
    "lst = [1,2,3,3,4,5,3]"
   ]
  },
  {
   "cell_type": "code",
   "execution_count": 46,
   "id": "69b132e7-b813-413b-9e94-924e2937fa8e",
   "metadata": {},
   "outputs": [
    {
     "data": {
      "text/plain": [
       "3"
      ]
     },
     "execution_count": 46,
     "metadata": {},
     "output_type": "execute_result"
    }
   ],
   "source": [
    "lst.count(3)"
   ]
  },
  {
   "cell_type": "code",
   "execution_count": 47,
   "id": "7ab9bdc0-038b-44c3-a146-20f46762fe29",
   "metadata": {},
   "outputs": [
    {
     "data": {
      "text/plain": [
       "2"
      ]
     },
     "execution_count": 47,
     "metadata": {},
     "output_type": "execute_result"
    }
   ],
   "source": [
    "lst.index(3)"
   ]
  },
  {
   "cell_type": "code",
   "execution_count": 48,
   "id": "5f5da61c-4e8a-42f8-9cbf-30b0f144b2a4",
   "metadata": {},
   "outputs": [
    {
     "data": {
      "text/plain": [
       "6"
      ]
     },
     "execution_count": 48,
     "metadata": {},
     "output_type": "execute_result"
    }
   ],
   "source": [
    "lst.index(3,-1)"
   ]
  },
  {
   "cell_type": "code",
   "execution_count": 49,
   "id": "c9c1eb80-5c22-4d9d-b0b6-df7beba3f3e3",
   "metadata": {},
   "outputs": [
    {
     "data": {
      "text/plain": [
       "1"
      ]
     },
     "execution_count": 49,
     "metadata": {},
     "output_type": "execute_result"
    }
   ],
   "source": [
    "min(lst)"
   ]
  },
  {
   "cell_type": "code",
   "execution_count": 50,
   "id": "301f33b2-c93a-42d1-9f38-fca99de27511",
   "metadata": {},
   "outputs": [
    {
     "data": {
      "text/plain": [
       "5"
      ]
     },
     "execution_count": 50,
     "metadata": {},
     "output_type": "execute_result"
    }
   ],
   "source": [
    "max(lst)"
   ]
  },
  {
   "cell_type": "code",
   "execution_count": 51,
   "id": "49779b68-a62a-4524-aa55-5d3958023d62",
   "metadata": {},
   "outputs": [
    {
     "data": {
      "text/plain": [
       "[1, 2, 3, 3, 4, 5, 3, 1, 2, 3, 3, 4, 5, 3]"
      ]
     },
     "execution_count": 51,
     "metadata": {},
     "output_type": "execute_result"
    }
   ],
   "source": [
    "lst*2"
   ]
  },
  {
   "cell_type": "code",
   "execution_count": null,
   "id": "b8746319-ff85-4059-9bfe-8d9f6b67f002",
   "metadata": {},
   "outputs": [],
   "source": []
  }
 ],
 "metadata": {
  "kernelspec": {
   "display_name": "Python 3 (ipykernel)",
   "language": "python",
   "name": "python3"
  },
  "language_info": {
   "codemirror_mode": {
    "name": "ipython",
    "version": 3
   },
   "file_extension": ".py",
   "mimetype": "text/x-python",
   "name": "python",
   "nbconvert_exporter": "python",
   "pygments_lexer": "ipython3",
   "version": "3.9.19"
  }
 },
 "nbformat": 4,
 "nbformat_minor": 5
}
