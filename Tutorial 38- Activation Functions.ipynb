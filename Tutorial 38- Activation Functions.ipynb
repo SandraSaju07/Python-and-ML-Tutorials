{
 "cells": [
  {
   "cell_type": "markdown",
   "id": "e9478190-d837-4fc3-b52a-37be73eda1ae",
   "metadata": {},
   "source": [
    "### Sigmoid (Logit) Activation Function"
   ]
  },
  {
   "cell_type": "code",
   "execution_count": 1,
   "id": "a41d717a-5e7b-407d-813d-f5673923694b",
   "metadata": {},
   "outputs": [],
   "source": [
    "import math\n",
    "\n",
    "def sigmoid(z):\n",
    "    return 1 / (1 + math.exp(-z))"
   ]
  },
  {
   "cell_type": "code",
   "execution_count": 2,
   "id": "0b2d3663-2b0a-462e-891a-6c2ef550d7ea",
   "metadata": {},
   "outputs": [
    {
     "data": {
      "text/plain": [
       "1.0"
      ]
     },
     "execution_count": 2,
     "metadata": {},
     "output_type": "execute_result"
    }
   ],
   "source": [
    "sigmoid(100)"
   ]
  },
  {
   "cell_type": "code",
   "execution_count": 3,
   "id": "d0a46278-7a24-4708-a209-fe256ab76258",
   "metadata": {},
   "outputs": [
    {
     "data": {
      "text/plain": [
       "0.9999999979388463"
      ]
     },
     "execution_count": 3,
     "metadata": {},
     "output_type": "execute_result"
    }
   ],
   "source": [
    "sigmoid(20)"
   ]
  },
  {
   "cell_type": "code",
   "execution_count": 4,
   "id": "1b920b40-fc9e-4647-bde2-32fd01bcef68",
   "metadata": {},
   "outputs": [
    {
     "data": {
      "text/plain": [
       "0.7310585786300049"
      ]
     },
     "execution_count": 4,
     "metadata": {},
     "output_type": "execute_result"
    }
   ],
   "source": [
    "sigmoid(1)"
   ]
  },
  {
   "cell_type": "code",
   "execution_count": 5,
   "id": "57a4eba0-6cfc-4498-96c6-c609c91d7edf",
   "metadata": {},
   "outputs": [
    {
     "data": {
      "text/plain": [
       "1.928749847963918e-22"
      ]
     },
     "execution_count": 5,
     "metadata": {},
     "output_type": "execute_result"
    }
   ],
   "source": [
    "sigmoid(-50)"
   ]
  },
  {
   "cell_type": "code",
   "execution_count": 6,
   "id": "4f5754a0-2256-489e-858c-362b463ad191",
   "metadata": {},
   "outputs": [
    {
     "data": {
      "text/plain": [
       "4.780892883885469e-25"
      ]
     },
     "execution_count": 6,
     "metadata": {},
     "output_type": "execute_result"
    }
   ],
   "source": [
    "sigmoid(-56)"
   ]
  },
  {
   "cell_type": "code",
   "execution_count": 8,
   "id": "626dd82c-c53b-40da-a212-7970111b7bd1",
   "metadata": {},
   "outputs": [
    {
     "data": {
      "text/plain": [
       "0.2689414213699951"
      ]
     },
     "execution_count": 8,
     "metadata": {},
     "output_type": "execute_result"
    }
   ],
   "source": [
    "sigmoid(-1)"
   ]
  },
  {
   "cell_type": "code",
   "execution_count": 9,
   "id": "e0054323-6cc3-4824-848d-c240cb707614",
   "metadata": {},
   "outputs": [
    {
     "data": {
      "text/plain": [
       "0.5"
      ]
     },
     "execution_count": 9,
     "metadata": {},
     "output_type": "execute_result"
    }
   ],
   "source": [
    "sigmoid(0)"
   ]
  },
  {
   "cell_type": "markdown",
   "id": "4b18feed-1ed5-419f-8196-bc6bd151dce2",
   "metadata": {},
   "source": [
    "### Tanh (Hyperbolic Tangent) Activation Function"
   ]
  },
  {
   "cell_type": "code",
   "execution_count": 10,
   "id": "99f0b96b-2824-4399-97c2-cc6fa6e9931c",
   "metadata": {},
   "outputs": [],
   "source": [
    "def tanh(z):\n",
    "    return (math.exp(z) - math.exp(-z)) / (math.exp(z) + math.exp(-z))"
   ]
  },
  {
   "cell_type": "code",
   "execution_count": 11,
   "id": "626bdf4b-578f-4c5f-9c3f-f475f0706a74",
   "metadata": {},
   "outputs": [
    {
     "data": {
      "text/plain": [
       "-1.0"
      ]
     },
     "execution_count": 11,
     "metadata": {},
     "output_type": "execute_result"
    }
   ],
   "source": [
    "tanh(-56)"
   ]
  },
  {
   "cell_type": "code",
   "execution_count": 12,
   "id": "a445a15e-5e3f-470f-9620-e1c1b861592a",
   "metadata": {},
   "outputs": [
    {
     "data": {
      "text/plain": [
       "1.0"
      ]
     },
     "execution_count": 12,
     "metadata": {},
     "output_type": "execute_result"
    }
   ],
   "source": [
    "tanh(56)"
   ]
  },
  {
   "cell_type": "code",
   "execution_count": 30,
   "id": "3b07c38a-56c5-41db-9f75-5dabf1504a34",
   "metadata": {},
   "outputs": [
    {
     "data": {
      "text/plain": [
       "1.0"
      ]
     },
     "execution_count": 30,
     "metadata": {},
     "output_type": "execute_result"
    }
   ],
   "source": [
    "tanh(40)"
   ]
  },
  {
   "cell_type": "code",
   "execution_count": 31,
   "id": "8b8f9f77-ab81-417c-b74b-64ff03b6720e",
   "metadata": {},
   "outputs": [
    {
     "data": {
      "text/plain": [
       "1.0"
      ]
     },
     "execution_count": 31,
     "metadata": {},
     "output_type": "execute_result"
    }
   ],
   "source": [
    "tanh(30)"
   ]
  },
  {
   "cell_type": "code",
   "execution_count": 15,
   "id": "39b860b2-8a9f-40e1-8e15-c9a7173f7654",
   "metadata": {},
   "outputs": [
    {
     "data": {
      "text/plain": [
       "0.7615941559557649"
      ]
     },
     "execution_count": 15,
     "metadata": {},
     "output_type": "execute_result"
    }
   ],
   "source": [
    "tanh(1)"
   ]
  },
  {
   "cell_type": "markdown",
   "id": "aa6ba110-206f-42ad-832b-a85867c8fc57",
   "metadata": {},
   "source": [
    "### ReLu (Rectified Linear Unit) Activation Function"
   ]
  },
  {
   "cell_type": "code",
   "execution_count": 16,
   "id": "2c4623c2-0f77-457b-ae5d-9cfa48592a93",
   "metadata": {},
   "outputs": [],
   "source": [
    "def relu(z):\n",
    "    return max(0, z)"
   ]
  },
  {
   "cell_type": "code",
   "execution_count": 17,
   "id": "0dd669a9-35ca-477c-a435-10a05b0aa7bf",
   "metadata": {},
   "outputs": [
    {
     "data": {
      "text/plain": [
       "0"
      ]
     },
     "execution_count": 17,
     "metadata": {},
     "output_type": "execute_result"
    }
   ],
   "source": [
    "relu(-60)"
   ]
  },
  {
   "cell_type": "code",
   "execution_count": 18,
   "id": "1bdd77eb-07d2-4cfc-aaee-2e2bb5f7c28a",
   "metadata": {},
   "outputs": [
    {
     "data": {
      "text/plain": [
       "1000"
      ]
     },
     "execution_count": 18,
     "metadata": {},
     "output_type": "execute_result"
    }
   ],
   "source": [
    "relu(1000)"
   ]
  },
  {
   "cell_type": "code",
   "execution_count": 19,
   "id": "8f88db22-efe9-4765-bff5-c0fa23170d8c",
   "metadata": {},
   "outputs": [
    {
     "data": {
      "text/plain": [
       "0.5"
      ]
     },
     "execution_count": 19,
     "metadata": {},
     "output_type": "execute_result"
    }
   ],
   "source": [
    "relu(0.5)"
   ]
  },
  {
   "cell_type": "code",
   "execution_count": 20,
   "id": "ead69f4d-308b-4902-954e-20fb572b2920",
   "metadata": {},
   "outputs": [
    {
     "data": {
      "text/plain": [
       "0"
      ]
     },
     "execution_count": 20,
     "metadata": {},
     "output_type": "execute_result"
    }
   ],
   "source": [
    "relu(0)"
   ]
  },
  {
   "cell_type": "code",
   "execution_count": 21,
   "id": "31f7d840-be2b-4613-a845-7940e8de5e7f",
   "metadata": {},
   "outputs": [
    {
     "data": {
      "text/plain": [
       "0"
      ]
     },
     "execution_count": 21,
     "metadata": {},
     "output_type": "execute_result"
    }
   ],
   "source": [
    "relu(-1)"
   ]
  },
  {
   "cell_type": "code",
   "execution_count": 34,
   "id": "de332a3e-f0ce-4e37-ad04-7913369349ea",
   "metadata": {},
   "outputs": [
    {
     "data": {
      "text/plain": [
       "0"
      ]
     },
     "execution_count": 34,
     "metadata": {},
     "output_type": "execute_result"
    }
   ],
   "source": [
    "relu(-1000)"
   ]
  },
  {
   "cell_type": "markdown",
   "id": "df26b937-2ece-4a3b-98da-0acb20f5902e",
   "metadata": {},
   "source": [
    "### Leaky ReLu Activation Function"
   ]
  },
  {
   "cell_type": "code",
   "execution_count": 22,
   "id": "04554a21-153a-48e7-838c-47a5ae78ff98",
   "metadata": {},
   "outputs": [],
   "source": [
    "def leaky_relu(z):\n",
    "    return max(0.1 * z, z)"
   ]
  },
  {
   "cell_type": "code",
   "execution_count": 23,
   "id": "ece92a36-2c86-479f-a7b7-fca9bd1e807c",
   "metadata": {},
   "outputs": [
    {
     "data": {
      "text/plain": [
       "-6.0"
      ]
     },
     "execution_count": 23,
     "metadata": {},
     "output_type": "execute_result"
    }
   ],
   "source": [
    "leaky_relu(-60)"
   ]
  },
  {
   "cell_type": "code",
   "execution_count": 25,
   "id": "299b11d8-9592-4171-896a-b235a4a7880e",
   "metadata": {},
   "outputs": [
    {
     "data": {
      "text/plain": [
       "10"
      ]
     },
     "execution_count": 25,
     "metadata": {},
     "output_type": "execute_result"
    }
   ],
   "source": [
    "leaky_relu(10)"
   ]
  },
  {
   "cell_type": "code",
   "execution_count": 26,
   "id": "7f142669-5dd4-4af2-8d35-2ad049654a2e",
   "metadata": {},
   "outputs": [
    {
     "data": {
      "text/plain": [
       "-0.1"
      ]
     },
     "execution_count": 26,
     "metadata": {},
     "output_type": "execute_result"
    }
   ],
   "source": [
    "leaky_relu(-1)"
   ]
  },
  {
   "cell_type": "code",
   "execution_count": 27,
   "id": "cc0034de-639b-41b0-aadb-1c06734b6420",
   "metadata": {},
   "outputs": [
    {
     "data": {
      "text/plain": [
       "0.0"
      ]
     },
     "execution_count": 27,
     "metadata": {},
     "output_type": "execute_result"
    }
   ],
   "source": [
    "leaky_relu(0)"
   ]
  },
  {
   "cell_type": "code",
   "execution_count": 28,
   "id": "caba5d50-8c8c-42c0-a54f-b40959320704",
   "metadata": {},
   "outputs": [
    {
     "data": {
      "text/plain": [
       "0.5"
      ]
     },
     "execution_count": 28,
     "metadata": {},
     "output_type": "execute_result"
    }
   ],
   "source": [
    "leaky_relu(0.5)"
   ]
  },
  {
   "cell_type": "code",
   "execution_count": 29,
   "id": "ae789f75-1f53-44cf-883a-8e36c97aea44",
   "metadata": {},
   "outputs": [
    {
     "data": {
      "text/plain": [
       "0.6"
      ]
     },
     "execution_count": 29,
     "metadata": {},
     "output_type": "execute_result"
    }
   ],
   "source": [
    "leaky_relu(0.6)"
   ]
  },
  {
   "cell_type": "code",
   "execution_count": 33,
   "id": "35ed9f41-4127-44f7-9703-638aef27ae66",
   "metadata": {},
   "outputs": [
    {
     "data": {
      "text/plain": [
       "-100.0"
      ]
     },
     "execution_count": 33,
     "metadata": {},
     "output_type": "execute_result"
    }
   ],
   "source": [
    "leaky_relu(-1000)"
   ]
  },
  {
   "cell_type": "code",
   "execution_count": null,
   "id": "8d9e0283-e04f-4083-94a5-f04652e41045",
   "metadata": {},
   "outputs": [],
   "source": []
  }
 ],
 "metadata": {
  "kernelspec": {
   "display_name": "Python 3 (ipykernel)",
   "language": "python",
   "name": "python3"
  },
  "language_info": {
   "codemirror_mode": {
    "name": "ipython",
    "version": 3
   },
   "file_extension": ".py",
   "mimetype": "text/x-python",
   "name": "python",
   "nbconvert_exporter": "python",
   "pygments_lexer": "ipython3",
   "version": "3.10.16"
  }
 },
 "nbformat": 4,
 "nbformat_minor": 5
}
