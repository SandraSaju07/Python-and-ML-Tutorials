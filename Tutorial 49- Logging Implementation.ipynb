{
 "cells": [
  {
   "cell_type": "code",
   "execution_count": 2,
   "id": "f799c97e-f124-4055-8f5d-839ed5708f46",
   "metadata": {},
   "outputs": [],
   "source": [
    "import logging"
   ]
  },
  {
   "cell_type": "code",
   "execution_count": 3,
   "id": "9cfe4ea3-8466-43dd-ad7a-7b969af23493",
   "metadata": {},
   "outputs": [],
   "source": [
    "logging.basicConfig(filename='./data/test_log.txt',\n",
    "                    filemode='a',\n",
    "                    format='%(asctime)s %(levelname)s-%(message)s',\n",
    "                    datefmt='%Y-%m-%d %H:%M:%S')"
   ]
  },
  {
   "cell_type": "code",
   "execution_count": 4,
   "id": "e897dac7-e404-4bb2-b842-402e51a2ec89",
   "metadata": {},
   "outputs": [],
   "source": [
    "for i in range(0,15):\n",
    "    if i%2 == 0:\n",
    "        logging.warning('Log warning message')\n",
    "    elif i%3 == 0:\n",
    "        logging.critical('Log critical message')\n",
    "    else:\n",
    "        logging.error('Log error message')"
   ]
  },
  {
   "cell_type": "code",
   "execution_count": 5,
   "id": "ba9fd786-c216-472d-97aa-ac9b4e626ebb",
   "metadata": {},
   "outputs": [],
   "source": [
    "x = 0\n",
    "\n",
    "try:\n",
    "    print(3/x)\n",
    "except:\n",
    "    logging.error('Division by Zero')"
   ]
  },
  {
   "cell_type": "code",
   "execution_count": null,
   "id": "11151958-824f-424f-9ded-8db8b8200c25",
   "metadata": {},
   "outputs": [],
   "source": []
  }
 ],
 "metadata": {
  "kernelspec": {
   "display_name": "Python 3 (ipykernel)",
   "language": "python",
   "name": "python3"
  },
  "language_info": {
   "codemirror_mode": {
    "name": "ipython",
    "version": 3
   },
   "file_extension": ".py",
   "mimetype": "text/x-python",
   "name": "python",
   "nbconvert_exporter": "python",
   "pygments_lexer": "ipython3",
   "version": "3.10.16"
  }
 },
 "nbformat": 4,
 "nbformat_minor": 5
}
